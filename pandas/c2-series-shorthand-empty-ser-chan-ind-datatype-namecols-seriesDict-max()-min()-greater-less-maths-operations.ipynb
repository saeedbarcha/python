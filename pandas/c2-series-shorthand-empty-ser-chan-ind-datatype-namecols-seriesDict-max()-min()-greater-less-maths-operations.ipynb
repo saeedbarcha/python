{
 "cells": [
  {
   "cell_type": "markdown",
   "id": "998cc9dc",
   "metadata": {},
   "source": [
    "# code=2"
   ]
  },
  {
   "cell_type": "code",
   "execution_count": 1,
   "id": "3a61c008",
   "metadata": {},
   "outputs": [],
   "source": [
    "# saeed barcha 4-3-2022\n",
    "# pandas in python\n",
    "# series, .type , short hand, empty series\n",
    "# changing index and datatype of data values\n",
    "# naming data value column\n",
    "# scalar series with single and multiple value,\n",
    "# creating series using dictionary\n",
    "\n",
    "# pandas series are similar to pyton numpy array\n",
    "# means pandas series it support most of the functions and methods of numpy\n",
    "# slicing and advance slicing\n",
    "# finding max() , min() and greater and less then values by comparing values with number\n",
    "\n",
    "# mathematical operations on same and different data value series (+,-,*,/) "
   ]
  },
  {
   "cell_type": "code",
   "execution_count": 2,
   "id": "9a11ff5a",
   "metadata": {},
   "outputs": [],
   "source": [
    "# importing pandas librery \n",
    "import pandas as pd"
   ]
  },
  {
   "cell_type": "code",
   "execution_count": 3,
   "id": "17b0c28b",
   "metadata": {},
   "outputs": [],
   "source": [
    "# pandas have three data types \n",
    "# series\n",
    "# data farms mostly used\n",
    "# pannel"
   ]
  },
  {
   "cell_type": "markdown",
   "id": "b150c584",
   "metadata": {},
   "source": [
    "# making series in of list in pandas"
   ]
  },
  {
   "cell_type": "code",
   "execution_count": 4,
   "id": "b21d6aa8",
   "metadata": {},
   "outputs": [
    {
     "name": "stdout",
     "output_type": "stream",
     "text": [
      "0        1\n",
      "1        2\n",
      "2        3\n",
      "3        4\n",
      "4      5.3\n",
      "5     good\n",
      "6    False\n",
      "dtype: object\n"
     ]
    }
   ],
   "source": [
    "list1=[1,2,3,4,5.3,\"good\",False]\n",
    "# creating series of list1 using pandas\n",
    "list1_s=pd.Series(list1) # this will return the data into tow columns form \n",
    "                   # first column for index and secom=nd one for data\n",
    "print(list1_s) \n",
    "# return dtype= object which means python object\n"
   ]
  },
  {
   "cell_type": "markdown",
   "id": "40178d31",
   "metadata": {},
   "source": [
    "# type(var_containing_series)"
   ]
  },
  {
   "cell_type": "code",
   "execution_count": 5,
   "id": "dbe05928",
   "metadata": {},
   "outputs": [
    {
     "data": {
      "text/plain": [
       "pandas.core.series.Series"
      ]
     },
     "execution_count": 5,
     "metadata": {},
     "output_type": "execute_result"
    }
   ],
   "source": [
    "type(list1_s)\n",
    "# pandas.core.series.Series : this means tha our series are actually 1D  array and particular an index for them"
   ]
  },
  {
   "cell_type": "markdown",
   "id": "4dea01db",
   "metadata": {},
   "source": [
    "# short hand of creating series"
   ]
  },
  {
   "cell_type": "code",
   "execution_count": 6,
   "id": "418d0ffb",
   "metadata": {},
   "outputs": [
    {
     "name": "stdout",
     "output_type": "stream",
     "text": [
      "0    saeed\n",
      "1     noor\n",
      "2    karim\n",
      "3     kahn\n",
      "4       65\n",
      "5     True\n",
      "6    False\n",
      "7     good\n",
      "8     well\n",
      "dtype: object\n"
     ]
    }
   ],
   "source": [
    "series1=pd.Series([\"saeed\",\"noor\",\"karim\",\"kahn\",\"65\" ,True,False ,\"good\" ,\"well\"])\n",
    "print(series1)"
   ]
  },
  {
   "cell_type": "markdown",
   "id": "07f40752",
   "metadata": {},
   "source": [
    "# creating empty series"
   ]
  },
  {
   "cell_type": "code",
   "execution_count": 7,
   "id": "ddab099e",
   "metadata": {},
   "outputs": [
    {
     "name": "stdout",
     "output_type": "stream",
     "text": [
      "Series([], dtype: float64)\n"
     ]
    },
    {
     "name": "stderr",
     "output_type": "stream",
     "text": [
      "<ipython-input-7-3566ecb9ed27>:1: DeprecationWarning: The default dtype for empty Series will be 'object' instead of 'float64' in a future version. Specify a dtype explicitly to silence this warning.\n",
      "  empty_series=pd.Series([])\n"
     ]
    }
   ],
   "source": [
    "empty_series=pd.Series([])\n",
    "print(empty_series)"
   ]
  },
  {
   "cell_type": "markdown",
   "id": "fb5a614a",
   "metadata": {},
   "source": [
    "# changing index values"
   ]
  },
  {
   "cell_type": "code",
   "execution_count": 8,
   "id": "9657456f",
   "metadata": {},
   "outputs": [
    {
     "name": "stdout",
     "output_type": "stream",
     "text": [
      "a    1\n",
      "b    2\n",
      "c    3\n",
      "d    4\n",
      "dtype: int64\n"
     ]
    }
   ],
   "source": [
    "# indexing values should equal to data values\n",
    "# is indexing values are less or gerater error occur\n",
    "ser3=pd.Series([1,2,3,4], index=['a','b','c','d']) \n",
    "print(ser3)"
   ]
  },
  {
   "cell_type": "markdown",
   "id": "3a2c6cbe",
   "metadata": {},
   "source": [
    "# changing datatype to float values"
   ]
  },
  {
   "cell_type": "code",
   "execution_count": 9,
   "id": "7307da79",
   "metadata": {},
   "outputs": [
    {
     "name": "stdout",
     "output_type": "stream",
     "text": [
      "a    1.0\n",
      "b    2.0\n",
      "c    3.0\n",
      "d    4.0\n",
      "dtype: float64\n"
     ]
    }
   ],
   "source": [
    "ser4=pd.Series([1,2,3,4], index=['a','b','c','d'], dtype= float) \n",
    "print(ser4)"
   ]
  },
  {
   "cell_type": "markdown",
   "id": "10fb70d9",
   "metadata": {},
   "source": [
    "# changing datatype to string values\n"
   ]
  },
  {
   "cell_type": "code",
   "execution_count": 10,
   "id": "934c9f87",
   "metadata": {},
   "outputs": [
    {
     "name": "stdout",
     "output_type": "stream",
     "text": [
      "a    1\n",
      "b    2\n",
      "c    3\n",
      "d    4\n",
      "dtype: object\n"
     ]
    }
   ],
   "source": [
    "ser5=pd.Series([1,2,3,4], index=['a','b','c','d'], dtype= str) \n",
    "print(ser5)"
   ]
  },
  {
   "cell_type": "markdown",
   "id": "ebf17bac",
   "metadata": {},
   "source": [
    "# giving name to a data value column"
   ]
  },
  {
   "cell_type": "code",
   "execution_count": 11,
   "id": "b7b37748",
   "metadata": {},
   "outputs": [
    {
     "name": "stdout",
     "output_type": "stream",
     "text": [
      "a    1.0\n",
      "b    2.0\n",
      "c    3.0\n",
      "d    4.0\n",
      "Name: data values, dtype: float64\n"
     ]
    }
   ],
   "source": [
    "ser6=pd.Series([1,2,3,4], index=['a','b','c','d'] , dtype=float, name=\"data values\") \n",
    "print(ser6)"
   ]
  },
  {
   "cell_type": "markdown",
   "id": "fbdd3888",
   "metadata": {},
   "source": [
    "# creating series using scalar values"
   ]
  },
  {
   "cell_type": "code",
   "execution_count": 12,
   "id": "9f4bda0b",
   "metadata": {},
   "outputs": [],
   "source": [
    "# scalar values means single value in whole column"
   ]
  },
  {
   "cell_type": "code",
   "execution_count": 13,
   "id": "50a9b839",
   "metadata": {},
   "outputs": [
    {
     "name": "stdout",
     "output_type": "stream",
     "text": [
      "0    0.5\n",
      "dtype: float64\n"
     ]
    }
   ],
   "source": [
    "# series contains single scalar value\n",
    "scalar_ser=pd.Series(0.5) # this will return a single row with two columns \n",
    "                           # first column for index and second for data value\n",
    "print(scalar_ser) "
   ]
  },
  {
   "cell_type": "markdown",
   "id": "1e1e7013",
   "metadata": {},
   "source": [
    "# for more the one scalar values"
   ]
  },
  {
   "cell_type": "code",
   "execution_count": 14,
   "id": "c2d75ffa",
   "metadata": {},
   "outputs": [
    {
     "name": "stdout",
     "output_type": "stream",
     "text": [
      "1    0.5\n",
      "2    0.5\n",
      "3    0.5\n",
      "4    0.5\n",
      "5    0.5\n",
      "dtype: float64\n"
     ]
    }
   ],
   "source": [
    "# series contains multiple scalar value\n",
    "scalar_ser=pd.Series(0.5 , index=[1,2,3,4,5]) # this will return a single row with two columns \n",
    "                           # first column for index and second for data value\n",
    "print(scalar_ser) "
   ]
  },
  {
   "cell_type": "code",
   "execution_count": 15,
   "id": "c2466bdb",
   "metadata": {},
   "outputs": [
    {
     "name": "stdout",
     "output_type": "stream",
     "text": [
      "1    0\n",
      "2    0\n",
      "3    0\n",
      "4    0\n",
      "5    0\n",
      "dtype: int32\n"
     ]
    }
   ],
   "source": [
    "# we can change datatype of data values as well\n",
    "# series contains multiple scalar value \n",
    "\n",
    "scalar_ser=pd.Series(0.5 , index=[1,2,3,4,5] , dtype=int) # this will return a single row with two columns \n",
    "                           # first column for index and second for data value\n",
    "print(scalar_ser) "
   ]
  },
  {
   "cell_type": "markdown",
   "id": "4d70b795",
   "metadata": {},
   "source": [
    "# creating series using dictionary"
   ]
  },
  {
   "cell_type": "code",
   "execution_count": 16,
   "id": "4407064d",
   "metadata": {},
   "outputs": [
    {
     "name": "stdout",
     "output_type": "stream",
     "text": [
      "a    1\n",
      "b    2\n",
      "c    3\n",
      "dtype: int64\n"
     ]
    }
   ],
   "source": [
    "# dict contains integer value\n",
    "# in dictionary case key for index and value for  data value in series\n",
    "dict_ser=pd.Series({\"a\":1,\"b\":2,\"c\":3})\n",
    "print(dict_ser)"
   ]
  },
  {
   "cell_type": "code",
   "execution_count": 17,
   "id": "c3d2e6a1",
   "metadata": {},
   "outputs": [
    {
     "name": "stdout",
     "output_type": "stream",
     "text": [
      "a      abid\n",
      "b    benish\n",
      "c     calci\n",
      "dtype: object\n"
     ]
    }
   ],
   "source": [
    "# dict contains str\n",
    "# in dictionary case key for index and value for  data value in series\n",
    "dict_str=pd.Series({\"a\":\"abid\",\"b\":\"benish\",\"c\":\"calci\"})\n",
    "print(dict_str)"
   ]
  },
  {
   "cell_type": "code",
   "execution_count": 18,
   "id": "236e1014",
   "metadata": {},
   "outputs": [
    {
     "name": "stdout",
     "output_type": "stream",
     "text": [
      "0    1\n",
      "1    2\n",
      "2    3\n",
      "3    4\n",
      "dtype: int64\n"
     ]
    }
   ],
   "source": [
    "#  we not have to create a variable with module name or short name of module \n",
    "# this will cause a big big errors in our code\n",
    "# pd=\"122\"\n",
    "b=pd.Series([1,2,3,4], index=[0,1,2,3])\n",
    "print(b)"
   ]
  },
  {
   "cell_type": "markdown",
   "id": "bbfbd084",
   "metadata": {},
   "source": [
    "# pandas series are similar to pyton numpy array"
   ]
  },
  {
   "cell_type": "code",
   "execution_count": 19,
   "id": "0693594f",
   "metadata": {},
   "outputs": [],
   "source": [
    "# pandas series are similar to pyton numpy array\n",
    "# means pandas series it support most of the functions and methods of numpy"
   ]
  },
  {
   "cell_type": "code",
   "execution_count": 20,
   "id": "f5a13a75",
   "metadata": {},
   "outputs": [
    {
     "name": "stdout",
     "output_type": "stream",
     "text": [
      "0    1\n",
      "1    2\n",
      "2    3\n",
      "3    4\n",
      "4    5\n",
      "dtype: int64\n"
     ]
    }
   ],
   "source": [
    "# suppose we have a series\n",
    "s=pd.Series([1,2,3,4,5])\n",
    "print(s)"
   ]
  },
  {
   "cell_type": "code",
   "execution_count": 21,
   "id": "2d7033c3",
   "metadata": {},
   "outputs": [
    {
     "name": "stdout",
     "output_type": "stream",
     "text": [
      "1\n"
     ]
    }
   ],
   "source": [
    "# print the  (1) from the series s\n",
    "print(s[0]) # 1 is at index 0 in the series. this is same as matrix of numpy array"
   ]
  },
  {
   "cell_type": "markdown",
   "id": "7f197c90",
   "metadata": {},
   "source": [
    "# advance slicing in series"
   ]
  },
  {
   "cell_type": "code",
   "execution_count": 22,
   "id": "609469ca",
   "metadata": {},
   "outputs": [
    {
     "name": "stdout",
     "output_type": "stream",
     "text": [
      "0    1\n",
      "1    2\n",
      "2    3\n",
      "dtype: int64\n"
     ]
    }
   ],
   "source": [
    "print(s[0:3]) # data values at index 3 will excluded here"
   ]
  },
  {
   "cell_type": "code",
   "execution_count": 23,
   "id": "e50e1ade",
   "metadata": {},
   "outputs": [
    {
     "name": "stdout",
     "output_type": "stream",
     "text": [
      "2    3\n",
      "3    4\n",
      "dtype: int64\n"
     ]
    }
   ],
   "source": [
    "print(s[2:4]) # data values at index 3 will excluded here"
   ]
  },
  {
   "cell_type": "markdown",
   "id": "745a0f7d",
   "metadata": {},
   "source": [
    "# to find max value in series s"
   ]
  },
  {
   "cell_type": "code",
   "execution_count": 24,
   "id": "fa6a38c7",
   "metadata": {},
   "outputs": [
    {
     "name": "stdout",
     "output_type": "stream",
     "text": [
      "5\n"
     ]
    }
   ],
   "source": [
    "print(max(s))"
   ]
  },
  {
   "cell_type": "markdown",
   "id": "31f4eb8f",
   "metadata": {},
   "source": [
    "# to find min value in series s"
   ]
  },
  {
   "cell_type": "markdown",
   "id": "6b4f388f",
   "metadata": {},
   "source": [
    "# print(max(s))"
   ]
  },
  {
   "cell_type": "markdown",
   "id": "3b6b977b",
   "metadata": {},
   "source": [
    "# to value greater then 3 in series s"
   ]
  },
  {
   "cell_type": "code",
   "execution_count": 25,
   "id": "ea66cc54",
   "metadata": {},
   "outputs": [
    {
     "name": "stdout",
     "output_type": "stream",
     "text": [
      "3    4\n",
      "4    5\n",
      "dtype: int64\n"
     ]
    }
   ],
   "source": [
    "print(s[s>3])"
   ]
  },
  {
   "cell_type": "markdown",
   "id": "ad5de442",
   "metadata": {},
   "source": []
  },
  {
   "cell_type": "markdown",
   "id": "2c72889e",
   "metadata": {},
   "source": [
    "# to value less then 2 in series s"
   ]
  },
  {
   "cell_type": "code",
   "execution_count": 26,
   "id": "9fdb382e",
   "metadata": {},
   "outputs": [
    {
     "name": "stdout",
     "output_type": "stream",
     "text": [
      "0    1\n",
      "dtype: int64\n"
     ]
    }
   ],
   "source": [
    "print(s[s<2])"
   ]
  },
  {
   "cell_type": "markdown",
   "id": "1a97b2fd",
   "metadata": {},
   "source": [
    "# mathematical operations (+,-,*,/, etc) on series with same data values"
   ]
  },
  {
   "cell_type": "code",
   "execution_count": 27,
   "id": "ad39be91",
   "metadata": {},
   "outputs": [
    {
     "name": "stdout",
     "output_type": "stream",
     "text": [
      "0    1\n",
      "1    2\n",
      "2    3\n",
      "3    4\n",
      "4    5\n",
      "5    6\n",
      "dtype: int64\n",
      "0    1\n",
      "1    2\n",
      "2    3\n",
      "3    4\n",
      "4    5\n",
      "5    6\n",
      "dtype: int64\n"
     ]
    }
   ],
   "source": [
    "# both Series have same data values\n",
    "se1=pd.Series([1,2,3,4,5,6])\n",
    "se2=pd.Series([1,2,3,4,5,6])\n",
    "\n",
    "print(se1)\n",
    "print(se2)"
   ]
  },
  {
   "cell_type": "markdown",
   "id": "cf7ea75d",
   "metadata": {},
   "source": [
    "# adding se1 and se2 (se1+se2)"
   ]
  },
  {
   "cell_type": "code",
   "execution_count": 28,
   "id": "58e33940",
   "metadata": {},
   "outputs": [
    {
     "name": "stdout",
     "output_type": "stream",
     "text": [
      "0     2\n",
      "1     4\n",
      "2     6\n",
      "3     8\n",
      "4    10\n",
      "5    12\n",
      "dtype: int64\n"
     ]
    }
   ],
   "source": [
    "# adding se1 and se2\n",
    "print(se1+se2)"
   ]
  },
  {
   "cell_type": "markdown",
   "id": "1e1677ea",
   "metadata": {},
   "source": [
    "# subtracting se2 form se1 (se1-se2)"
   ]
  },
  {
   "cell_type": "code",
   "execution_count": 29,
   "id": "7614e41a",
   "metadata": {},
   "outputs": [
    {
     "name": "stdout",
     "output_type": "stream",
     "text": [
      "0    0\n",
      "1    0\n",
      "2    0\n",
      "3    0\n",
      "4    0\n",
      "5    0\n",
      "dtype: int64\n"
     ]
    }
   ],
   "source": [
    "print(se1-se2)"
   ]
  },
  {
   "cell_type": "markdown",
   "id": "3d8b174a",
   "metadata": {},
   "source": [
    "# multiplying se1 and se2 (se1*se2)"
   ]
  },
  {
   "cell_type": "code",
   "execution_count": 30,
   "id": "e42054d1",
   "metadata": {},
   "outputs": [
    {
     "name": "stdout",
     "output_type": "stream",
     "text": [
      "0     1\n",
      "1     4\n",
      "2     9\n",
      "3    16\n",
      "4    25\n",
      "5    36\n",
      "dtype: int64\n"
     ]
    }
   ],
   "source": [
    "print(se1*se2)"
   ]
  },
  {
   "cell_type": "markdown",
   "id": "f4334eda",
   "metadata": {},
   "source": [
    "# dividing se1 by se2 (se1/se2)"
   ]
  },
  {
   "cell_type": "code",
   "execution_count": 31,
   "id": "6bbd17bf",
   "metadata": {},
   "outputs": [
    {
     "name": "stdout",
     "output_type": "stream",
     "text": [
      "0    1.0\n",
      "1    1.0\n",
      "2    1.0\n",
      "3    1.0\n",
      "4    1.0\n",
      "5    1.0\n",
      "dtype: float64\n"
     ]
    }
   ],
   "source": [
    "print(se1 / se2)"
   ]
  },
  {
   "cell_type": "markdown",
   "id": "dda0d5a5",
   "metadata": {},
   "source": [
    "# mathematical operations (+,-,*,/, etc) on series with different data values"
   ]
  },
  {
   "cell_type": "code",
   "execution_count": 32,
   "id": "ab3cf76b",
   "metadata": {},
   "outputs": [
    {
     "name": "stdout",
     "output_type": "stream",
     "text": [
      "0    1\n",
      "1    2\n",
      "2    3\n",
      "3    4\n",
      "4    5\n",
      "5    6\n",
      "6    7\n",
      "dtype: int64\n",
      "0    1\n",
      "1    2\n",
      "2    3\n",
      "3    4\n",
      "dtype: int64\n"
     ]
    }
   ],
   "source": [
    "mys1=pd.Series([1,2,3,4,5,6,7,])\n",
    "mys2=pd.Series([1,2,3,4])\n",
    "\n",
    "# both have differet data values\n",
    "print(mys1)\n",
    "print(mys2)"
   ]
  },
  {
   "cell_type": "markdown",
   "id": "f5f55ccf",
   "metadata": {},
   "source": [
    "# mathematical operations on two differet data value series"
   ]
  },
  {
   "cell_type": "markdown",
   "id": "d2f6a802",
   "metadata": {},
   "source": [
    "# adding se1 and se2 (mys1+mys2)"
   ]
  },
  {
   "cell_type": "code",
   "execution_count": 33,
   "id": "e897cb94",
   "metadata": {},
   "outputs": [
    {
     "name": "stdout",
     "output_type": "stream",
     "text": [
      "0    2.0\n",
      "1    4.0\n",
      "2    6.0\n",
      "3    8.0\n",
      "4    NaN\n",
      "5    NaN\n",
      "6    NaN\n",
      "dtype: float64\n"
     ]
    }
   ],
   "source": [
    "print(mys1+mys2)\n",
    "# for missing values in the perallel return nan means not a number\n",
    "# we can appli all the other operations -,*,/ etc"
   ]
  },
  {
   "cell_type": "code",
   "execution_count": null,
   "id": "d88116f2",
   "metadata": {},
   "outputs": [],
   "source": []
  }
 ],
 "metadata": {
  "kernelspec": {
   "display_name": "Python 3",
   "language": "python",
   "name": "python3"
  },
  "language_info": {
   "codemirror_mode": {
    "name": "ipython",
    "version": 3
   },
   "file_extension": ".py",
   "mimetype": "text/x-python",
   "name": "python",
   "nbconvert_exporter": "python",
   "pygments_lexer": "ipython3",
   "version": "3.8.8"
  }
 },
 "nbformat": 4,
 "nbformat_minor": 5
}
