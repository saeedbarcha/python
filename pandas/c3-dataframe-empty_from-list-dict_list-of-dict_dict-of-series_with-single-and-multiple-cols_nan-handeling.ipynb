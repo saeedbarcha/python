{
 "cells": [
  {
   "cell_type": "markdown",
   "id": "497b8ebc",
   "metadata": {},
   "source": [
    "#  code=3"
   ]
  },
  {
   "cell_type": "code",
   "execution_count": 1,
   "id": "beb7cb0b",
   "metadata": {},
   "outputs": [],
   "source": [
    "# saeed barcha 5-3-2022\n",
    "# how to create python pandas DataFrame\n",
    "\n",
    "# craeting empty dataframes\n",
    "# creating dataframes with single column using list \n",
    "# creating dataframes with multiple column using list \n",
    "# missing value NAN\n",
    "# creating dataframes with single column using dictionary \n",
    "# creating dataframes with multiple column using dictionary\n",
    "# dataframe using list of containing dictionary with single column\n",
    "# dataframe using list of containing dictionary with multiple column\n",
    "# craeting dataframe from dictionary of series"
   ]
  },
  {
   "cell_type": "code",
   "execution_count": 2,
   "id": "eba0f356",
   "metadata": {},
   "outputs": [],
   "source": [
    "# importing pandas\n",
    "import pandas as pd"
   ]
  },
  {
   "cell_type": "markdown",
   "id": "9b322fc0",
   "metadata": {},
   "source": [
    "# creating empty dataFrame"
   ]
  },
  {
   "cell_type": "code",
   "execution_count": 3,
   "id": "651eb2dd",
   "metadata": {},
   "outputs": [
    {
     "name": "stdout",
     "output_type": "stream",
     "text": [
      "Empty DataFrame\n",
      "Columns: []\n",
      "Index: []\n"
     ]
    }
   ],
   "source": [
    "# creating empty dataFrame\n",
    "emt_df=pd.DataFrame()\n",
    "print(emt_df)\n",
    "\n",
    "# return empty dataframe\n",
    "# columns = empty list[]\n",
    "# index=empty list[]"
   ]
  },
  {
   "cell_type": "markdown",
   "id": "fda2e1bf",
   "metadata": {},
   "source": [
    "# creating DataFrame using list with 1 column"
   ]
  },
  {
   "cell_type": "code",
   "execution_count": 4,
   "id": "ccd0e340",
   "metadata": {},
   "outputs": [
    {
     "name": "stdout",
     "output_type": "stream",
     "text": [
      "   0\n",
      "0  a\n",
      "1  b\n",
      "2  c\n"
     ]
    }
   ],
   "source": [
    "lst1=['a','b','c']\n",
    "\n",
    "# creating dataframe assigning list as argument\n",
    "df1=pd.DataFrame(lst1)\n",
    "print(df1)\n",
    "\n",
    "# 0 above the a is label for that column contains a b c value"
   ]
  },
  {
   "cell_type": "markdown",
   "id": "80eb306b",
   "metadata": {},
   "source": [
    "# creating DataFrame using list with multiple column# "
   ]
  },
  {
   "cell_type": "code",
   "execution_count": 5,
   "id": "f509297a",
   "metadata": {},
   "outputs": [
    {
     "name": "stdout",
     "output_type": "stream",
     "text": [
      "   0   1   2   3     4     5\n",
      "0  1   2   3   4   NaN   NaN\n",
      "1  5   6   7   8   9.0   NaN\n",
      "2  9  10  11  12  13.0  14.0\n"
     ]
    }
   ],
   "source": [
    "# for this we need to create nested list\n",
    "# this dataframe contains 4 columns\n",
    "lst2=[[1,2,3,4],[5,6,7,8,9],[9,10,11,12,13,14]] \n",
    "multi_col_df=pd.DataFrame(lst2)\n",
    "print(multi_col_df)"
   ]
  },
  {
   "cell_type": "markdown",
   "id": "40a67baf",
   "metadata": {},
   "source": [
    "# NAN if elements in nested list have different number"
   ]
  },
  {
   "cell_type": "code",
   "execution_count": 6,
   "id": "8b524b5b",
   "metadata": {},
   "outputs": [
    {
     "name": "stdout",
     "output_type": "stream",
     "text": [
      "   0   1   2     3     4     5\n",
      "0  1   2   3   4.0   NaN   NaN\n",
      "1  5   6   7   NaN   NaN   NaN\n",
      "2  9  10  11  12.0  13.0  14.0\n"
     ]
    }
   ],
   "source": [
    "# above and below the NAN value are in float form\n",
    "lst3=[[1,2,3,4],[5,6,7],[9,10,11,12,13,14]] \n",
    "df_with_nan=pd.DataFrame(lst3)\n",
    "print(df_with_nan)"
   ]
  },
  {
   "cell_type": "markdown",
   "id": "99f9c38d",
   "metadata": {},
   "source": [
    "# creating dataframe using dictionary with single column"
   ]
  },
  {
   "cell_type": "code",
   "execution_count": 7,
   "id": "3c5a5185",
   "metadata": {},
   "outputs": [
    {
     "name": "stdout",
     "output_type": "stream",
     "text": [
      "   Id\n",
      "0  11\n",
      "1  12\n",
      "2  13\n",
      "3  14\n"
     ]
    }
   ],
   "source": [
    "# with single column\n",
    "my_dict={'Id':[11,12,13,14]} #this is dictionary which contains key value pairs\n",
    "\n",
    "dict_df=pd.DataFrame(my_dict)\n",
    "print(dict_df)\n"
   ]
  },
  {
   "cell_type": "markdown",
   "id": "ad945834",
   "metadata": {},
   "source": [
    "# creating dataframe using dictionary with multiple column"
   ]
  },
  {
   "cell_type": "code",
   "execution_count": 8,
   "id": "af8bde8c",
   "metadata": {},
   "outputs": [
    {
     "name": "stdout",
     "output_type": "stream",
     "text": [
      "   Id   NAME\n",
      "0   1  saeed\n",
      "1   2  karim\n",
      "2   3   noor\n",
      "3   4   khan\n"
     ]
    },
    {
     "data": {
      "text/html": [
       "<div>\n",
       "<style scoped>\n",
       "    .dataframe tbody tr th:only-of-type {\n",
       "        vertical-align: middle;\n",
       "    }\n",
       "\n",
       "    .dataframe tbody tr th {\n",
       "        vertical-align: top;\n",
       "    }\n",
       "\n",
       "    .dataframe thead th {\n",
       "        text-align: right;\n",
       "    }\n",
       "</style>\n",
       "<table border=\"1\" class=\"dataframe\">\n",
       "  <thead>\n",
       "    <tr style=\"text-align: right;\">\n",
       "      <th></th>\n",
       "      <th>Id</th>\n",
       "      <th>NAME</th>\n",
       "    </tr>\n",
       "  </thead>\n",
       "  <tbody>\n",
       "    <tr>\n",
       "      <th>0</th>\n",
       "      <td>1</td>\n",
       "      <td>saeed</td>\n",
       "    </tr>\n",
       "    <tr>\n",
       "      <th>1</th>\n",
       "      <td>2</td>\n",
       "      <td>karim</td>\n",
       "    </tr>\n",
       "    <tr>\n",
       "      <th>2</th>\n",
       "      <td>3</td>\n",
       "      <td>noor</td>\n",
       "    </tr>\n",
       "    <tr>\n",
       "      <th>3</th>\n",
       "      <td>4</td>\n",
       "      <td>khan</td>\n",
       "    </tr>\n",
       "  </tbody>\n",
       "</table>\n",
       "</div>"
      ],
      "text/plain": [
       "   Id   NAME\n",
       "0   1  saeed\n",
       "1   2  karim\n",
       "2   3   noor\n",
       "3   4   khan"
      ]
     },
     "execution_count": 8,
     "metadata": {},
     "output_type": "execute_result"
    }
   ],
   "source": [
    "# in dictionary every key value should same in number\n",
    "my_dict2={'Id':[1,2,3,4],'NAME':[\"saeed\",\"karim\",\"noor\",\"khan\"]} #this is dictionary which contains key value pairs\n",
    "\n",
    "dict_df2=pd.DataFrame(my_dict2)\n",
    "print(dict_df2)\n",
    "dict_df2 #this output will show line below the heading"
   ]
  },
  {
   "cell_type": "markdown",
   "id": "eda2191e",
   "metadata": {},
   "source": [
    "# dataframe using list of dictionary with single column"
   ]
  },
  {
   "cell_type": "code",
   "execution_count": 9,
   "id": "161fcd3b",
   "metadata": {},
   "outputs": [
    {
     "name": "stdout",
     "output_type": "stream",
     "text": [
      "   a\n",
      "0  1\n",
      "1  3\n"
     ]
    }
   ],
   "source": [
    "list_dic=[{'a':1},{'a':3}]\n",
    "lis_dic_df=pd.DataFrame(list_dic)\n",
    "print(lis_dic_df)"
   ]
  },
  {
   "cell_type": "markdown",
   "id": "9458e278",
   "metadata": {},
   "source": [
    "# dataframe using list of dictionary with multiple column"
   ]
  },
  {
   "cell_type": "code",
   "execution_count": 10,
   "id": "127baeeb",
   "metadata": {},
   "outputs": [
    {
     "name": "stdout",
     "output_type": "stream",
     "text": [
      "   a  b\n",
      "0  1  2\n",
      "1  3  4\n"
     ]
    }
   ],
   "source": [
    "list_dic1=[{'a':1,'b':2},{'a':3,'b':4}]\n",
    "lis_dic_df1=pd.DataFrame(list_dic1)\n",
    "print(lis_dic_df1)"
   ]
  },
  {
   "cell_type": "markdown",
   "id": "135ff417",
   "metadata": {},
   "source": [
    "# craeting dataframe from dictionary of series"
   ]
  },
  {
   "cell_type": "code",
   "execution_count": 11,
   "id": "6d5758fd",
   "metadata": {},
   "outputs": [
    {
     "name": "stdout",
     "output_type": "stream",
     "text": [
      "   id        name\n",
      "0   1       saeed\n",
      "1   2     hussain\n",
      "2   3      barcha\n",
      "3   4  rahimabadi\n"
     ]
    }
   ],
   "source": [
    "# dictionary containing series as a value\n",
    "dict_ser={'id':pd.Series([1,2,3,4]) ,'name':pd.Series([\"saeed\",\"hussain\",\"barcha\",\"rahimabadi\",])}\n",
    "df_dic_series=pd.DataFrame(dict_ser)\n",
    "print(df_dic_series)"
   ]
  },
  {
   "cell_type": "code",
   "execution_count": null,
   "id": "d4a8c258",
   "metadata": {},
   "outputs": [],
   "source": []
  }
 ],
 "metadata": {
  "kernelspec": {
   "display_name": "Python 3",
   "language": "python",
   "name": "python3"
  },
  "language_info": {
   "codemirror_mode": {
    "name": "ipython",
    "version": 3
   },
   "file_extension": ".py",
   "mimetype": "text/x-python",
   "name": "python",
   "nbconvert_exporter": "python",
   "pygments_lexer": "ipython3",
   "version": "3.8.8"
  }
 },
 "nbformat": 4,
 "nbformat_minor": 5
}
