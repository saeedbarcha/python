{
 "cells": [
  {
   "cell_type": "markdown",
   "id": "eb716e07",
   "metadata": {},
   "source": [
    "# code=10"
   ]
  },
  {
   "cell_type": "code",
   "execution_count": 1,
   "id": "01fc40f7",
   "metadata": {},
   "outputs": [],
   "source": [
    "# saeed barcha 04-03-2022\n",
    "# string operations,comparison and information\n",
    "# this is all about string datatype\n",
    "# .add(),lower(),upper(),center()/replace empty space with any single character\n",
    "# split(), splitlines(), join(), repalce()\n",
    "\n",
    "# string champarision\n",
    "# equal(), count(),find()"
   ]
  },
  {
   "cell_type": "code",
   "execution_count": 2,
   "id": "8ea782be",
   "metadata": {},
   "outputs": [],
   "source": [
    "import numpy as np"
   ]
  },
  {
   "cell_type": "markdown",
   "id": "6633d6eb",
   "metadata": {},
   "source": [
    "# suppose i have two strings "
   ]
  },
  {
   "cell_type": "code",
   "execution_count": 3,
   "id": "bb77712d",
   "metadata": {},
   "outputs": [],
   "source": [
    "# suppose i have two strings and i have to persorm several functions on this string\n",
    "\n",
    "str1=\"my name is Saeed Barcha\"\n",
    "str2=\"HUSSAIN is my last name.\""
   ]
  },
  {
   "cell_type": "markdown",
   "id": "708d75d3",
   "metadata": {},
   "source": [
    "# np.char.add(str1,str2,..) "
   ]
  },
  {
   "cell_type": "code",
   "execution_count": 4,
   "id": "2ac3a979",
   "metadata": {},
   "outputs": [
    {
     "data": {
      "text/plain": [
       "array('my name is Saeed BarchaHUSSAIN is my last name.', dtype='<U47')"
      ]
     },
     "execution_count": 4,
     "metadata": {},
     "output_type": "execute_result"
    }
   ],
   "source": [
    "# np.char.add(str1,str2,..) this function is use to concate tow or more strings\n",
    "my_add=np.char.add(str1,str2)\n",
    "np.char.add(str1,str2) #this function will return numpy array\n",
    "# print(my_add)"
   ]
  },
  {
   "cell_type": "markdown",
   "id": "ebd11fb4",
   "metadata": {},
   "source": [
    "# np.char.lower(str1)"
   ]
  },
  {
   "cell_type": "code",
   "execution_count": 5,
   "id": "b7b14199",
   "metadata": {},
   "outputs": [
    {
     "data": {
      "text/plain": [
       "array('my name is saeed barcha', dtype='<U23')"
      ]
     },
     "execution_count": 5,
     "metadata": {},
     "output_type": "execute_result"
    }
   ],
   "source": [
    "# np.char.lower(str1) this function is use to convert any string in to lower case\n",
    "np.char.lower(str1)"
   ]
  },
  {
   "cell_type": "code",
   "execution_count": null,
   "id": "6f9d5cf1",
   "metadata": {},
   "outputs": [],
   "source": []
  },
  {
   "cell_type": "markdown",
   "id": "69b95209",
   "metadata": {},
   "source": [
    "# np.char.upper(str2)"
   ]
  },
  {
   "cell_type": "code",
   "execution_count": 6,
   "id": "0f99dff4",
   "metadata": {},
   "outputs": [
    {
     "data": {
      "text/plain": [
       "array('hussain is my last name.', dtype='<U24')"
      ]
     },
     "execution_count": 6,
     "metadata": {},
     "output_type": "execute_result"
    }
   ],
   "source": [
    "# np.char.upper(str2) this function is use to convert any string in to upper case\n",
    "np.char.lower(str2)"
   ]
  },
  {
   "cell_type": "markdown",
   "id": "f77d194b",
   "metadata": {},
   "source": [
    "# np.char.center(str, number_os_space_available)"
   ]
  },
  {
   "cell_type": "code",
   "execution_count": 7,
   "id": "02bea2e9",
   "metadata": {},
   "outputs": [
    {
     "data": {
      "text/plain": [
       "array('             my name is Saeed Barcha              ', dtype='<U50')"
      ]
     },
     "execution_count": 7,
     "metadata": {},
     "output_type": "execute_result"
    }
   ],
   "source": [
    "# np.char.center(str, number_os_space_available) to align any string in center\n",
    "np.char.center(str1,50)"
   ]
  },
  {
   "cell_type": "markdown",
   "id": "9b666d1c",
   "metadata": {},
   "source": [
    "# to fill empty space withe some thing  np.char.center(str2, space_int ,empty_replase_with)"
   ]
  },
  {
   "cell_type": "code",
   "execution_count": 8,
   "id": "114f9a19",
   "metadata": {},
   "outputs": [
    {
     "name": "stdout",
     "output_type": "stream",
     "text": [
      "*****************saeed******************\n",
      "*****************saeed******************\n"
     ]
    },
    {
     "data": {
      "text/plain": [
       "array('%%%%%%%%%%%%%%%%hussian%%%%%%%%%%%%%%%%%', dtype='<U40')"
      ]
     },
     "execution_count": 8,
     "metadata": {},
     "output_type": "execute_result"
    }
   ],
   "source": [
    "# this function is use to center any string in a given space any to fill empty space with some string or any other thing\n",
    "\n",
    "b1=np.char.center(\"saeed\",40 ,\"*\")  #both are same\n",
    "b2=np.char.center(\"saeed\",40 ,fillchar=\"*\")\n",
    "\n",
    "print(b1)\n",
    "print(b2)\n",
    "\n",
    "\n",
    "hus=\"hussian\"\n",
    "# np.char.center(hus,40 ,\"*%*\") #fill character can only takes one charcter\n",
    "# np.char.center(hus,40 ,\"*saeed\") #fill character can only takes one charcter\n",
    "np.char.center(hus,40 ,\"%\")"
   ]
  },
  {
   "cell_type": "markdown",
   "id": "5e1aea9c",
   "metadata": {},
   "source": [
    "# np.char.split(name_of_str)"
   ]
  },
  {
   "cell_type": "code",
   "execution_count": 9,
   "id": "b52ff94c",
   "metadata": {},
   "outputs": [
    {
     "data": {
      "text/plain": [
       "array(list(['my', 'name', 'is', 'Saeed', 'Barcha']), dtype=object)"
      ]
     },
     "execution_count": 9,
     "metadata": {},
     "output_type": "execute_result"
    }
   ],
   "source": [
    "# this function is use to split/convert any string into an array which contains list.\n",
    "# every single word in a string is consider as an element in an array\n",
    "np.char.split(str1)"
   ]
  },
  {
   "cell_type": "markdown",
   "id": "fcc38333",
   "metadata": {},
   "source": [
    "# np.char.splitlines(name_of_str)"
   ]
  },
  {
   "cell_type": "code",
   "execution_count": 10,
   "id": "eea7909e",
   "metadata": {},
   "outputs": [
    {
     "data": {
      "text/plain": [
       "array(list(['saeed barcha ', ' rahim abad ', ' nooo this is not good ', ' yes you are rigth']),\n",
       "      dtype=object)"
      ]
     },
     "execution_count": 10,
     "metadata": {},
     "output_type": "execute_result"
    }
   ],
   "source": [
    "# this mathod will split a string from \\n areas in to any array containing list \n",
    "mystr=\"saeed barcha \\n rahim abad \\n nooo this is not good \\n yes you are rigth\"\n",
    "np.char.splitlines(mystr)"
   ]
  },
  {
   "cell_type": "markdown",
   "id": "04cd31d4",
   "metadata": {},
   "source": [
    "# np.char.join(\"join_material\" , string_name)"
   ]
  },
  {
   "cell_type": "code",
   "execution_count": 11,
   "id": "54fdb3ef",
   "metadata": {},
   "outputs": [
    {
     "name": "stdout",
     "output_type": "stream",
     "text": [
      "2:3:5\n",
      "['d:m:y' 'd/m/y']\n"
     ]
    }
   ],
   "source": [
    "# this method is use to join something with every element in a string.\n",
    "time1=\"235\"\n",
    "lookt=np.char.join(\":\",time1)\n",
    "print(lookt)\n",
    "# to join tow strings at a time\n",
    "d1=\"dmy\" # i want to add collens : with this string eg, d:m:y\n",
    "d2=\"dmy\" # i want to add forward slash / with this string eg, d/m/y\n",
    "dmy=np.char.join([\":\" ,\"/\"] ,[d1 ,d2])\n",
    "print(dmy)"
   ]
  },
  {
   "cell_type": "markdown",
   "id": "037858ec",
   "metadata": {},
   "source": [
    "# np.char.repalce(name_of_str, \"existing_word\", \"replace_with\" )"
   ]
  },
  {
   "cell_type": "code",
   "execution_count": 12,
   "id": "f43eea5a",
   "metadata": {},
   "outputs": [
    {
     "data": {
      "text/plain": [
       "array('my name is Sari  Abbas Barcha', dtype='<U29')"
      ]
     },
     "execution_count": 12,
     "metadata": {},
     "output_type": "execute_result"
    }
   ],
   "source": [
    "# this method is use to replace a single character or more then one character from a string\n",
    "np.char.replace(str1 ,\"Saeed\" ,\"Sari  Abbas\") # if the char or string is not availabe this will return the existing string as it is"
   ]
  },
  {
   "cell_type": "markdown",
   "id": "8ed03ac9",
   "metadata": {},
   "source": [
    "# comparision in a string in numpy"
   ]
  },
  {
   "cell_type": "markdown",
   "id": "8bcfee07",
   "metadata": {},
   "source": [
    "# np.char.equal(str1,str2)"
   ]
  },
  {
   "cell_type": "code",
   "execution_count": 13,
   "id": "471272ff",
   "metadata": {},
   "outputs": [
    {
     "name": "stdout",
     "output_type": "stream",
     "text": [
      "True\n"
     ]
    },
    {
     "data": {
      "text/plain": [
       "array(False)"
      ]
     },
     "execution_count": 13,
     "metadata": {},
     "output_type": "execute_result"
    }
   ],
   "source": [
    "# this function is use to check wether tow strings are equal to each other not \n",
    "# if equal return true \n",
    "# if not equal return false\n",
    "n1=\"sari\"\n",
    "n2=\"sari\"\n",
    "first=np.char.equal(n1,n2)\n",
    "print(first)\n",
    "\n",
    "n3=\"sari\"\n",
    "n4=\"saeed\"\n",
    "np.char.equal(n3,n4)"
   ]
  },
  {
   "cell_type": "markdown",
   "id": "0e8299ba",
   "metadata": {},
   "source": [
    "# string infromation method\n"
   ]
  },
  {
   "cell_type": "markdown",
   "id": "4d732641",
   "metadata": {},
   "source": [
    "# np.char.count(str,\"value_to_count\")"
   ]
  },
  {
   "cell_type": "code",
   "execution_count": 14,
   "id": "6cf20c62",
   "metadata": {},
   "outputs": [
    {
     "name": "stdout",
     "output_type": "stream",
     "text": [
      "number of empty spaces: 9\n",
      "number of a: 6\n",
      "number of Sa: 1\n",
      "number of name: 2\n"
     ]
    }
   ],
   "source": [
    "# this np.char.count(str,\"val\") is use to count a single charat=cter of a word in a string\n",
    "\n",
    "# counting empty spaces\n",
    "mystr1=\"my name is Saeed Barcha HUSSAIN is my last name.\"\n",
    "empty_val=np.char.count(mystr1 ,\" \") #to count empyt spaces from string\n",
    "print(\"number of empty spaces:\",empty_val)\n",
    "\n",
    "# counting character small a from mystr1\n",
    "num_a=np.char.count(mystr1 ,\"a\") #to count empyt spaces from string\n",
    "print(\"number of a:\",num_a)\n",
    "\n",
    "# counting (capital S and small a)jointy from mystr1\n",
    "num_sa=np.char.count(mystr1 ,\"Sa\") #to count empyt spaces from string\n",
    "print(\"number of Sa:\",num_sa)\n",
    "\n",
    "# counting name word from mystr1\n",
    "name=np.char.count(mystr1 ,\"name\") #to count empyt spaces from string\n",
    "print(\"number of name:\",name)"
   ]
  },
  {
   "cell_type": "markdown",
   "id": "50a43aa4",
   "metadata": {},
   "source": [
    "# np.char.find(str,\"val_to_find\")"
   ]
  },
  {
   "cell_type": "code",
   "execution_count": 15,
   "id": "fef29835",
   "metadata": {},
   "outputs": [
    {
     "name": "stdout",
     "output_type": "stream",
     "text": [
      "i is at index: 8\n",
      "HUSSAIN is at index: 24\n",
      "Z is at index: -1  :Z is not present thats way return -1\n"
     ]
    }
   ],
   "source": [
    "# this method is use to find wether any character of word is preset in a string or not\n",
    "# return index number\n",
    "mystr1=\"my name is Saeed Barcha HUSSAIN is my last name.\"\n",
    "\n",
    "# finding i\n",
    "find_i=np.char.find(mystr1,\"i\")\n",
    "print(\"i is at index:\",find_i)\n",
    "\n",
    "# finding HUSSAIN\n",
    "find_HUSSAIN=np.char.find(mystr1,\"HUSSAIN\")\n",
    "print(\"HUSSAIN is at index:\",find_HUSSAIN)\n",
    "\n",
    "# if not present return -1\n",
    "find_z=np.char.find(mystr1,\"Z\")\n",
    "print(\"Z is at index:\",find_z ,\" :Z is not present thats way return -1\")"
   ]
  },
  {
   "cell_type": "code",
   "execution_count": null,
   "id": "4ac0c66f",
   "metadata": {},
   "outputs": [],
   "source": []
  },
  {
   "cell_type": "code",
   "execution_count": null,
   "id": "375bb5da",
   "metadata": {},
   "outputs": [],
   "source": []
  }
 ],
 "metadata": {
  "kernelspec": {
   "display_name": "Python 3",
   "language": "python",
   "name": "python3"
  },
  "language_info": {
   "codemirror_mode": {
    "name": "ipython",
    "version": 3
   },
   "file_extension": ".py",
   "mimetype": "text/x-python",
   "name": "python",
   "nbconvert_exporter": "python",
   "pygments_lexer": "ipython3",
   "version": "3.8.8"
  }
 },
 "nbformat": 4,
 "nbformat_minor": 5
}
