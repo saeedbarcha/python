{
 "cells": [
  {
   "cell_type": "markdown",
   "id": "b03a18fa",
   "metadata": {},
   "source": [
    "# code=7"
   ]
  },
  {
   "cell_type": "code",
   "execution_count": 1,
   "id": "385787cf",
   "metadata": {},
   "outputs": [],
   "source": [
    "# saeed barcha 33-03-2022\n",
    "# conctination ,vstack hstack and splict functions \n",
    "# while concatening sides should equal"
   ]
  },
  {
   "cell_type": "code",
   "execution_count": 2,
   "id": "614d60d5",
   "metadata": {},
   "outputs": [],
   "source": [
    "import numpy as np"
   ]
  },
  {
   "cell_type": "code",
   "execution_count": 3,
   "id": "c5f6a687",
   "metadata": {},
   "outputs": [
    {
     "name": "stdout",
     "output_type": "stream",
     "text": [
      "[[ 1  2  3  4]\n",
      " [ 5  6  7  8]\n",
      " [ 9 10 11 12]\n",
      " [13 14 15 16]]\n",
      "[[17 18 19 20]\n",
      " [21 22 23 24]\n",
      " [25 26 27 28]\n",
      " [29 30 31 32]]\n"
     ]
    }
   ],
   "source": [
    "# suppose we have tow matrix\n",
    "# matrix 1\n",
    "mx1=np.arange(1,17).reshape(4,4)\n",
    "print(mx1)\n",
    "\n",
    "# matrix 2\n",
    "mx2=np.arange(17,33).reshape(4,4)\n",
    "print(mx2)"
   ]
  },
  {
   "cell_type": "code",
   "execution_count": 4,
   "id": "28cc65c0",
   "metadata": {},
   "outputs": [
    {
     "name": "stdout",
     "output_type": "stream",
     "text": [
      "[[18 20 22 24]\n",
      " [26 28 30 32]\n",
      " [34 36 38 40]\n",
      " [42 44 46 48]]\n",
      "[1, 2, 3, 4, 5, 66, 77]\n"
     ]
    }
   ],
   "source": [
    "# suppose i wank to concatinate them horizontally\n",
    "print(mx1+mx2) # this will add the matries element wise\n",
    "               # not concatenate them\n",
    "    \n",
    "    \n",
    "# this mathod works on lists not on arrays\n",
    "# eg now this will concatinate the bothe lists\n",
    "li1=[1,2,3,4]\n",
    "li2=[5,66,77]\n",
    "\n",
    "print(li1+li2)"
   ]
  },
  {
   "cell_type": "markdown",
   "id": "9d6daa43",
   "metadata": {},
   "source": [
    "# column wise concatination using axis=0 argument"
   ]
  },
  {
   "cell_type": "code",
   "execution_count": 5,
   "id": "5688d039",
   "metadata": {},
   "outputs": [
    {
     "name": "stdout",
     "output_type": "stream",
     "text": [
      "[[ 1  2  3  4]\n",
      " [ 5  6  7  8]\n",
      " [ 9 10 11 12]\n",
      " [13 14 15 16]\n",
      " [17 18 19 20]\n",
      " [21 22 23 24]\n",
      " [25 26 27 28]\n",
      " [29 30 31 32]]\n",
      "[[ 1  2  3  4]\n",
      " [ 5  6  7  8]\n",
      " [ 9 10 11 12]\n",
      " [13 14 15 16]\n",
      " [17 18 19 20]\n",
      " [21 22 23 24]\n",
      " [25 26 27 28]\n",
      " [29 30 31 32]]\n"
     ]
    }
   ],
   "source": [
    "\n",
    "row_concate=np.concatenate((mx1,mx2)) #axis=0 by default\n",
    "print(row_concate)\n",
    "\n",
    "row_concate=np.concatenate((mx1,mx2) ,axis=0) #axis=0 by default\n",
    "print(row_concate)"
   ]
  },
  {
   "cell_type": "markdown",
   "id": "1d6b01e0",
   "metadata": {},
   "source": [
    "# row wise concatination using axis=1 argument"
   ]
  },
  {
   "cell_type": "code",
   "execution_count": 6,
   "id": "6e2c31db",
   "metadata": {},
   "outputs": [
    {
     "name": "stdout",
     "output_type": "stream",
     "text": [
      "[[ 1  2  3  4 17 18 19 20]\n",
      " [ 5  6  7  8 21 22 23 24]\n",
      " [ 9 10 11 12 25 26 27 28]\n",
      " [13 14 15 16 29 30 31 32]]\n"
     ]
    }
   ],
   "source": [
    "\n",
    "col_concate=np.concatenate((mx1,mx2), axis=1) #axis=0 by default\n",
    "print(col_concate)"
   ]
  },
  {
   "cell_type": "markdown",
   "id": "4cab593e",
   "metadata": {},
   "source": [
    "# vstack().. row wise concatination vstack() function"
   ]
  },
  {
   "cell_type": "code",
   "execution_count": 7,
   "id": "d342e373",
   "metadata": {},
   "outputs": [
    {
     "name": "stdout",
     "output_type": "stream",
     "text": [
      "[[ 1  2  3  4]\n",
      " [ 5  6  7  8]\n",
      " [ 9 10 11 12]\n",
      " [13 14 15 16]\n",
      " [17 18 19 20]\n",
      " [21 22 23 24]\n",
      " [25 26 27 28]\n",
      " [29 30 31 32]]\n"
     ]
    }
   ],
   "source": [
    "vstack_mx=np.vstack((mx1,mx2))\n",
    "print(vstack_mx)"
   ]
  },
  {
   "cell_type": "markdown",
   "id": "64de7856",
   "metadata": {},
   "source": [
    "# hstack().. column wise concatination hstack() function"
   ]
  },
  {
   "cell_type": "code",
   "execution_count": 8,
   "id": "26e06bf1",
   "metadata": {},
   "outputs": [
    {
     "name": "stdout",
     "output_type": "stream",
     "text": [
      "[[ 1  2  3  4 17 18 19 20]\n",
      " [ 5  6  7  8 21 22 23 24]\n",
      " [ 9 10 11 12 25 26 27 28]\n",
      " [13 14 15 16 29 30 31 32]]\n"
     ]
    }
   ],
   "source": [
    "hstack_mx=np.hstack((mx1,mx2))\n",
    "print(hstack_mx)"
   ]
  },
  {
   "cell_type": "markdown",
   "id": "415204ea",
   "metadata": {},
   "source": [
    "# concetenating multiple arrays"
   ]
  },
  {
   "cell_type": "code",
   "execution_count": 9,
   "id": "80d38110",
   "metadata": {},
   "outputs": [
    {
     "name": "stdout",
     "output_type": "stream",
     "text": [
      "[[ 1  2  3  4 17 18 19 20  1  2  3  4 17 18 19 20]\n",
      " [ 5  6  7  8 21 22 23 24  5  6  7  8 21 22 23 24]\n",
      " [ 9 10 11 12 25 26 27 28  9 10 11 12 25 26 27 28]\n",
      " [13 14 15 16 29 30 31 32 13 14 15 16 29 30 31 32]]\n",
      "[[ 1  2  3  4]\n",
      " [ 5  6  7  8]\n",
      " [ 9 10 11 12]\n",
      " [13 14 15 16]\n",
      " [17 18 19 20]\n",
      " [21 22 23 24]\n",
      " [25 26 27 28]\n",
      " [29 30 31 32]\n",
      " [ 1  2  3  4]\n",
      " [ 5  6  7  8]\n",
      " [ 9 10 11 12]\n",
      " [13 14 15 16]\n",
      " [17 18 19 20]\n",
      " [21 22 23 24]\n",
      " [25 26 27 28]\n",
      " [29 30 31 32]]\n"
     ]
    }
   ],
   "source": [
    "# column-wise\n",
    "hstack_mx=np.hstack((mx1,mx2,mx1,mx2))\n",
    "print(hstack_mx)\n",
    "\n",
    "# row-wise\n",
    "vstack_mx=np.vstack((mx1,mx2,mx1,mx2))\n",
    "print(vstack_mx)"
   ]
  },
  {
   "cell_type": "markdown",
   "id": "1feb2523",
   "metadata": {},
   "source": [
    "# concatening sides should equal "
   ]
  },
  {
   "cell_type": "code",
   "execution_count": 10,
   "id": "bfed02ff",
   "metadata": {},
   "outputs": [
    {
     "name": "stdout",
     "output_type": "stream",
     "text": [
      "[[1 2 3]\n",
      " [4 5 6]]\n",
      "[[1 2 3]\n",
      " [4 5 6]\n",
      " [7 8 9]]\n",
      "[[1 2 3]\n",
      " [4 5 6]\n",
      " [1 2 3]\n",
      " [4 5 6]\n",
      " [7 8 9]]\n"
     ]
    }
   ],
   "source": [
    "# 2*3 and 3*3 will concate row wise not column wise if we do this will bring error\n",
    "# 2*3 and 2*5 will concate column wise not row wise if we do this will bring error\n",
    "\n",
    "arr1=np.arange(1,7).reshape(2,3)\n",
    "print(arr1)\n",
    "arr2=np.arange(1,10).reshape(3,3)\n",
    "print(arr2)\n",
    "\n",
    "my_arr=np.vstack((arr1,arr2))\n",
    "print(my_arr)"
   ]
  },
  {
   "cell_type": "markdown",
   "id": "f0e4d25a",
   "metadata": {},
   "source": [
    "# split function "
   ]
  },
  {
   "cell_type": "code",
   "execution_count": 11,
   "id": "c02b0e43",
   "metadata": {},
   "outputs": [],
   "source": [
    "# break down matrix row-wise and column-wise \n",
    "# .split() function will return list which contains numpy array as an elemnts"
   ]
  },
  {
   "cell_type": "code",
   "execution_count": 12,
   "id": "bd969d4b",
   "metadata": {},
   "outputs": [
    {
     "name": "stdout",
     "output_type": "stream",
     "text": [
      "[[ 1  2  3  4]\n",
      " [ 5  6  7  8]\n",
      " [ 9 10 11 12]\n",
      " [13 14 15 16]]\n"
     ]
    }
   ],
   "source": [
    "big_arr=np.arange(1,17).reshape(4,4)\n",
    "print(big_arr)"
   ]
  },
  {
   "cell_type": "markdown",
   "id": "d8c58c0c",
   "metadata": {},
   "source": [
    "# split big_arr row-wise"
   ]
  },
  {
   "cell_type": "code",
   "execution_count": 13,
   "id": "f1d39724",
   "metadata": {},
   "outputs": [
    {
     "name": "stdout",
     "output_type": "stream",
     "text": [
      "[array([[1, 2, 3, 4],\n",
      "       [5, 6, 7, 8]]), array([[ 9, 10, 11, 12],\n",
      "       [13, 14, 15, 16]])]\n",
      "[[1 2 3 4]\n",
      " [5 6 7 8]]\n",
      "[[ 9 10 11 12]\n",
      " [13 14 15 16]]\n"
     ]
    }
   ],
   "source": [
    "# split function takes three argumrnts \n",
    "# => first one name of the matrix we want to split\n",
    "# => second number of break-downs splits \n",
    "     # the break down should equal to the original matrix\n",
    "# => row or column wise\n",
    "\n",
    "row_wise=np.split(big_arr,2)\n",
    "# row_wise=np.split(big_arr,2 ,axis=0) #default\n",
    "\n",
    "print(row_wise)\n",
    "print(row_wise[0])\n",
    "print(row_wise[1])"
   ]
  },
  {
   "cell_type": "markdown",
   "id": "17504c3d",
   "metadata": {},
   "source": [
    "# split big_arr column-wise"
   ]
  },
  {
   "cell_type": "code",
   "execution_count": 15,
   "id": "bf6417a9",
   "metadata": {},
   "outputs": [
    {
     "name": "stdout",
     "output_type": "stream",
     "text": [
      "[array([[ 1,  2],\n",
      "       [ 5,  6],\n",
      "       [ 9, 10],\n",
      "       [13, 14]]), array([[ 3,  4],\n",
      "       [ 7,  8],\n",
      "       [11, 12],\n",
      "       [15, 16]])]\n",
      "[[ 1  2]\n",
      " [ 5  6]\n",
      " [ 9 10]\n",
      " [13 14]]\n",
      "[[ 3  4]\n",
      " [ 7  8]\n",
      " [11 12]\n",
      " [15 16]]\n"
     ]
    }
   ],
   "source": [
    "col_wise=np.split(big_arr, 2 , axis=1)\n",
    "\n",
    "print(col_wise)\n",
    "print(col_wise[0])\n",
    "print(col_wise[1])"
   ]
  },
  {
   "cell_type": "markdown",
   "id": "9eacabf9",
   "metadata": {},
   "source": [
    "# split 1D array"
   ]
  },
  {
   "cell_type": "code",
   "execution_count": 19,
   "id": "a869aeb9",
   "metadata": {},
   "outputs": [
    {
     "name": "stdout",
     "output_type": "stream",
     "text": [
      "[array([1]), array([3, 4]), array([6]), array([30,  3])]\n"
     ]
    }
   ],
   "source": [
    "# split 1D array\n",
    "d1=np.array([1,3,4,6,30,3])\n",
    "# soppose i want to split this array in to 3 different parts\n",
    "\n",
    "                           # 1=> first split part will contain values till index 0 index 1 will excluded\n",
    "                           # 4=> this will split values from index 1 to excluding index 4\n",
    "a=np.split(d1, [1, 3 ,4])  # 4=> ........ so on\n",
    "print(a)"
   ]
  },
  {
   "cell_type": "markdown",
   "id": "4c0c48aa",
   "metadata": {},
   "source": [
    "\n"
   ]
  },
  {
   "cell_type": "code",
   "execution_count": null,
   "id": "4507c7f4",
   "metadata": {},
   "outputs": [],
   "source": []
  }
 ],
 "metadata": {
  "kernelspec": {
   "display_name": "Python 3",
   "language": "python",
   "name": "python3"
  },
  "language_info": {
   "codemirror_mode": {
    "name": "ipython",
    "version": 3
   },
   "file_extension": ".py",
   "mimetype": "text/x-python",
   "name": "python",
   "nbconvert_exporter": "python",
   "pygments_lexer": "ipython3",
   "version": "3.8.8"
  }
 },
 "nbformat": 4,
 "nbformat_minor": 5
}
