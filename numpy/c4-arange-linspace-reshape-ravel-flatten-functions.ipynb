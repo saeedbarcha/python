{
 "cells": [
  {
   "cell_type": "markdown",
   "id": "a20d3749",
   "metadata": {},
   "source": [
    "# code4\n"
   ]
  },
  {
   "cell_type": "code",
   "execution_count": 1,
   "id": "e4e387d7",
   "metadata": {},
   "outputs": [],
   "source": [
    "# saeed barcha 03-03-2022 \n",
    "# .arange(), .linspace(), reshape() into 2 and 3D, ravel(), flatten()\n",
    "# short hand of declaring and reshaping array"
   ]
  },
  {
   "cell_type": "code",
   "execution_count": 2,
   "id": "8d142894",
   "metadata": {},
   "outputs": [],
   "source": [
    "# importing numpy \n",
    "import numpy as np\n"
   ]
  },
  {
   "cell_type": "markdown",
   "id": "f4773e59",
   "metadata": {},
   "source": [
    "# ***arange() function ***"
   ]
  },
  {
   "cell_type": "code",
   "execution_count": 3,
   "id": "257587f8",
   "metadata": {},
   "outputs": [
    {
     "name": "stdout",
     "output_type": "stream",
     "text": [
      "[ 1  2  3  4  5  6  7  8  9 10 11 12]\n"
     ]
    }
   ],
   "source": [
    "# arange()\n",
    "# to create an array contains values in asending order from 1 to 13\n",
    "#  arange(start,end,steps/skips) takes three argumrnts \n",
    "                          #start => to start range value \n",
    "                          #end   => to end range value  \n",
    "                          #steps   =>this is not compulsory \n",
    "ar_1d=np.arange(1,13)    #13 is excluded here\n",
    "print(ar_1d)"
   ]
  },
  {
   "cell_type": "code",
   "execution_count": 4,
   "id": "96f78e02",
   "metadata": {},
   "outputs": [
    {
     "name": "stdout",
     "output_type": "stream",
     "text": [
      "[ 1  3  5  7  9 11]\n",
      "[ 1  4  7 10]\n"
     ]
    }
   ],
   "source": [
    "# to create an array contains even values from 1 to 13\n",
    "\n",
    "even_1d=np.arange(1,13,2) #print numbers by sikping single value\n",
    "print(even_1d) #skipe a single number\n",
    "\n",
    "even_1d=np.arange(1,13,3) #print numbers by sikping single value\n",
    "print(even_1d) #skipe a single number\n"
   ]
  },
  {
   "cell_type": "markdown",
   "id": "f63fbf76",
   "metadata": {},
   "source": [
    "# **** linspace()  ****"
   ]
  },
  {
   "cell_type": "code",
   "execution_count": 5,
   "id": "ca54ffb5",
   "metadata": {},
   "outputs": [
    {
     "name": "stdout",
     "output_type": "stream",
     "text": [
      "[1.         2.33333333 3.66666667 5.        ]\n"
     ]
    }
   ],
   "source": [
    "# linspace() \n",
    "# function will make a numbers between tow numbers by equally dividins them\n",
    "# suppose i want to make 4 numbers between 1 to 5 by equally dividing them\n",
    "\n",
    "ls_1d=np.linspace(1,5,4)\n",
    "print(ls_1d)"
   ]
  },
  {
   "cell_type": "markdown",
   "id": "4b68d367",
   "metadata": {},
   "source": [
    "# *** reshape(row,coloumn)  in to 2D ***"
   ]
  },
  {
   "cell_type": "code",
   "execution_count": 6,
   "id": "828a89ab",
   "metadata": {},
   "outputs": [
    {
     "name": "stdout",
     "output_type": "stream",
     "text": [
      "[ 1  2  3  4  5  6  7  8  9 10 11 12]\n",
      "[[ 1  2  3  4]\n",
      " [ 5  6  7  8]\n",
      " [ 9 10 11 12]]\n",
      "[[ 1  2  3]\n",
      " [ 4  5  6]\n",
      " [ 7  8  9]\n",
      " [10 11 12]]\n"
     ]
    }
   ],
   "source": [
    "# reshape(row,coloumn)  in to 2D\n",
    "# sum of row and columns should equal to the same existing array\n",
    "# this function is used to reshape the matrix \n",
    "# convert rows and columns\n",
    "li_1d=np.arange(1,13)\n",
    "print(li_1d)\n",
    "\n",
    "# reshaping 1D into 2D\n",
    "myA=li_1d.reshape(3,4) #create 3 rows and 4 columns\n",
    "print(myA)\n",
    "\n",
    "# reshaping 1D into 2D\n",
    "myA=li_1d.reshape(4,3) #create 4 rows and 3 columns\n",
    "print(myA)"
   ]
  },
  {
   "cell_type": "markdown",
   "id": "ac160d1c",
   "metadata": {},
   "source": [
    "# *** reshape(number-of-inside-array, row, coloumn)  in to 3D ***"
   ]
  },
  {
   "cell_type": "code",
   "execution_count": 7,
   "id": "7f0ff1e3",
   "metadata": {},
   "outputs": [
    {
     "name": "stdout",
     "output_type": "stream",
     "text": [
      "[ 1  2  3  4  5  6  7  8  9 10 11 12 13 14 15 16 17 18 19 20]\n",
      "[[[ 1  2]\n",
      "  [ 3  4]\n",
      "  [ 5  6]\n",
      "  [ 7  8]\n",
      "  [ 9 10]]\n",
      "\n",
      " [[11 12]\n",
      "  [13 14]\n",
      "  [15 16]\n",
      "  [17 18]\n",
      "  [19 20]]]\n",
      "[[[ 1  2  3  4  5]\n",
      "  [ 6  7  8  9 10]]\n",
      "\n",
      " [[11 12 13 14 15]\n",
      "  [16 17 18 19 20]]]\n"
     ]
    }
   ],
   "source": [
    "# * reshape(3d-number, row, coloumn) in to 3D\n",
    "\n",
    "ar_1d=np.arange(1,21)\n",
    "print(ar_1d)\n",
    "\n",
    "# reshaping into 3D\n",
    "my_3d=ar_1d.reshape(2,5,2)\n",
    "print(my_3d)\n",
    "\n",
    "# reshaping into 3D\n",
    "my_3d=ar_1d.reshape(2,2,5)\n",
    "print(my_3d)"
   ]
  },
  {
   "cell_type": "markdown",
   "id": "fae6e747",
   "metadata": {},
   "source": [
    "# short-hand of declaring and reshapimg"
   ]
  },
  {
   "cell_type": "code",
   "execution_count": 8,
   "id": "41f55c45",
   "metadata": {},
   "outputs": [
    {
     "name": "stdout",
     "output_type": "stream",
     "text": [
      "[[ 1  2  3  4  5  6  7  8]\n",
      " [ 9 10 11 12 13 14 15 16]]\n"
     ]
    }
   ],
   "source": [
    "# 1d to 2D => short hand\n",
    "arr_1d_to_2d=np.arange(1,17).reshape(2,8)\n",
    "print(arr_1d_to_2d)"
   ]
  },
  {
   "cell_type": "code",
   "execution_count": 9,
   "id": "8fdc2ac8",
   "metadata": {},
   "outputs": [
    {
     "name": "stdout",
     "output_type": "stream",
     "text": [
      "[[[ 1  2  3  4]\n",
      "  [ 5  6  7  8]]\n",
      "\n",
      " [[ 9 10 11 12]\n",
      "  [13 14 15 16]]]\n"
     ]
    }
   ],
   "source": [
    "# 1d to 3D => short hand\n",
    "arr_1d_to_3d=np.arange(1,17).reshape(2,2,4)\n",
    "print(arr_1d_to_3d)"
   ]
  },
  {
   "cell_type": "markdown",
   "id": "dae6b676",
   "metadata": {},
   "source": [
    "# **** ravel(name-of-array) function ****"
   ]
  },
  {
   "cell_type": "code",
   "execution_count": 10,
   "id": "af9d91b4",
   "metadata": {},
   "outputs": [
    {
     "name": "stdout",
     "output_type": "stream",
     "text": [
      "[[[1]\n",
      "  [2]\n",
      "  [3]]\n",
      "\n",
      " [[4]\n",
      "  [5]\n",
      "  [6]]\n",
      "\n",
      " [[7]\n",
      "  [8]\n",
      "  [9]]]\n",
      "[[[1 2 3]]\n",
      "\n",
      " [[4 5 6]]\n",
      "\n",
      " [[7 8 9]]]\n",
      "[1 2 3 4 5 6 7 8 9]\n"
     ]
    }
   ],
   "source": [
    "# ravel() function\n",
    "# converts multi-dimention array into 1D\n",
    "my_arr=np.arange(1,10).reshape(3,3,1)\n",
    "print(my_arr)\n",
    "\n",
    "my_arr=np.arange(1,10).reshape(3,1,3)\n",
    "print(my_arr)\n",
    "\n",
    "# ravel function\n",
    "my_ravel_arr=my_arr.ravel()\n",
    "print(my_ravel_arr)"
   ]
  },
  {
   "cell_type": "markdown",
   "id": "782391e4",
   "metadata": {},
   "source": [
    "# **** .flatten() function ****"
   ]
  },
  {
   "cell_type": "code",
   "execution_count": 11,
   "id": "0150e50c",
   "metadata": {},
   "outputs": [
    {
     "name": "stdout",
     "output_type": "stream",
     "text": [
      "[[[1 2 3]]\n",
      "\n",
      " [[4 5 6]]\n",
      "\n",
      " [[7 8 9]]]\n",
      "[1 2 3 4 5 6 7 8 9]\n"
     ]
    }
   ],
   "source": [
    "# this function also convert multi-dimention array into one dimention array\n",
    "# ravel function\n",
    "\n",
    "my_arr=np.arange(1,10).reshape(3,1,3)\n",
    "print(my_arr)\n",
    "\n",
    "my_flatten_arr=my_arr.ravel()\n",
    "print(my_flatten_arr)"
   ]
  },
  {
   "cell_type": "markdown",
   "id": "13160329",
   "metadata": {},
   "source": [
    "# *** .transpose() or capital T***\n"
   ]
  },
  {
   "cell_type": "code",
   "execution_count": 12,
   "id": "72d8bb1b",
   "metadata": {},
   "outputs": [
    {
     "name": "stdout",
     "output_type": "stream",
     "text": [
      "[[[1]\n",
      "  [2]\n",
      "  [3]]\n",
      "\n",
      " [[4]\n",
      "  [5]\n",
      "  [6]]\n",
      "\n",
      " [[7]\n",
      "  [8]\n",
      "  [9]]]\n",
      "transpose\n",
      "[[[1 4 7]\n",
      "  [2 5 8]\n",
      "  [3 6 9]]]\n",
      "[[[ 1  2  3  4  5  6  7  8]]\n",
      "\n",
      " [[ 9 10 11 12 13 14 15 16]]]\n",
      "transpose\n",
      "[[[ 1  9]]\n",
      "\n",
      " [[ 2 10]]\n",
      "\n",
      " [[ 3 11]]\n",
      "\n",
      " [[ 4 12]]\n",
      "\n",
      " [[ 5 13]]\n",
      "\n",
      " [[ 6 14]]\n",
      "\n",
      " [[ 7 15]]\n",
      "\n",
      " [[ 8 16]]]\n"
     ]
    }
   ],
   "source": [
    "# to take transpose of the matrix\n",
    "# transpose means converting rows into columns and columns in to rows\n",
    "my_arr=np.arange(1,10).reshape(3,3,1)\n",
    "print(my_arr)\n",
    "\n",
    "my_transpose=my_arr.transpose()\n",
    "print(\"transpose\")\n",
    "print(my_transpose)\n",
    "\n",
    "# through capital T\n",
    "my_art=np.arange(1,17).reshape(2,1,8)\n",
    "print(my_art)\n",
    "\n",
    "my_t=my_art.T\n",
    "print(\"transpose\")\n",
    "print(my_t)"
   ]
  },
  {
   "cell_type": "code",
   "execution_count": null,
   "id": "95852f5a",
   "metadata": {},
   "outputs": [],
   "source": []
  }
 ],
 "metadata": {
  "kernelspec": {
   "display_name": "Python 3",
   "language": "python",
   "name": "python3"
  },
  "language_info": {
   "codemirror_mode": {
    "name": "ipython",
    "version": 3
   },
   "file_extension": ".py",
   "mimetype": "text/x-python",
   "name": "python",
   "nbconvert_exporter": "python",
   "pygments_lexer": "ipython3",
   "version": "3.8.8"
  }
 },
 "nbformat": 4,
 "nbformat_minor": 5
}
