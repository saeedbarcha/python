{
 "cells": [
  {
   "cell_type": "markdown",
   "id": "a4e7f169",
   "metadata": {},
   "source": [
    "# code=5"
   ]
  },
  {
   "cell_type": "code",
   "execution_count": 1,
   "id": "cd82ef76",
   "metadata": {},
   "outputs": [],
   "source": [
    "# saeed barcha 03-03-2022 \n",
    "# mathematical operations on matrix using numpy methods "
   ]
  },
  {
   "cell_type": "code",
   "execution_count": 2,
   "id": "988d65e1",
   "metadata": {},
   "outputs": [],
   "source": [
    "import numpy as np"
   ]
  },
  {
   "cell_type": "code",
   "execution_count": 3,
   "id": "608ff037",
   "metadata": {},
   "outputs": [
    {
     "name": "stdout",
     "output_type": "stream",
     "text": [
      "[[1 2 3]\n",
      " [4 5 6]\n",
      " [7 8 9]]\n",
      "[[1 2 3]\n",
      " [4 5 6]\n",
      " [7 8 9]]\n"
     ]
    }
   ],
   "source": [
    "# creatin two arrays with 3*3\n",
    "\n",
    "arr1=np.arange(1,10).reshape(3,3)\n",
    "print(arr1)\n",
    "\n",
    "arr2=np.arange(1,10).reshape(3,3)\n",
    "print(arr2)"
   ]
  },
  {
   "cell_type": "markdown",
   "id": "ecf4a0f1",
   "metadata": {},
   "source": [
    "# ****  + operater and .add() function   ****"
   ]
  },
  {
   "cell_type": "code",
   "execution_count": 4,
   "id": "ca817511",
   "metadata": {},
   "outputs": [
    {
     "name": "stdout",
     "output_type": "stream",
     "text": [
      "[[ 2  4  6]\n",
      " [ 8 10 12]\n",
      " [14 16 18]]\n",
      "[[ 2  4  6]\n",
      " [ 8 10 12]\n",
      " [14 16 18]]\n"
     ]
    }
   ],
   "source": [
    "# + operater\n",
    "# adding arr1 and arr2 using + operater\n",
    "my_plus=arr1+arr2 #this will add element wise\n",
    "print(my_plus)\n",
    "\n",
    "# .add()\n",
    "# we have function in numpy as well to add tow matrix in numpy\n",
    "my_plus2=np.add(arr1,arr2)\n",
    "print(my_plus2)"
   ]
  },
  {
   "cell_type": "markdown",
   "id": "17923f88",
   "metadata": {},
   "source": [
    "# ****  - operater and .subtract() function   ****"
   ]
  },
  {
   "cell_type": "code",
   "execution_count": 5,
   "id": "9ade467a",
   "metadata": {},
   "outputs": [
    {
     "name": "stdout",
     "output_type": "stream",
     "text": [
      "[[ 2  4  6]\n",
      " [ 8 10 12]\n",
      " [14 16 18]]\n",
      "[[0 0 0]\n",
      " [0 0 0]\n",
      " [0 0 0]]\n"
     ]
    }
   ],
   "source": [
    "# - operater\n",
    "# subtracting arr2 and arr1 using - operater\n",
    "my_subtract=arr1+arr2 #this will substract element wise\n",
    "print(my_subtract)\n",
    "\n",
    "# .subtract()\n",
    "# we have function in numpy as well to .subtract() tow matrix in numpy\n",
    "my_subtract=np.subtract(arr1,arr2)\n",
    "print(my_subtract)"
   ]
  },
  {
   "cell_type": "markdown",
   "id": "90e9ec87",
   "metadata": {},
   "source": [
    "# ****  / operater and .divide() function   ****"
   ]
  },
  {
   "cell_type": "code",
   "execution_count": 6,
   "id": "e117872b",
   "metadata": {},
   "outputs": [
    {
     "name": "stdout",
     "output_type": "stream",
     "text": [
      "[[1. 1. 1.]\n",
      " [1. 1. 1.]\n",
      " [1. 1. 1.]]\n",
      "[[1. 1. 1.]\n",
      " [1. 1. 1.]\n",
      " [1. 1. 1.]]\n"
     ]
    }
   ],
   "source": [
    "# / operater\n",
    "# dividing arr2 and arr1 using / operater\n",
    "my_divide=arr1/arr2 #this will divide element wise\n",
    "print(my_divide)\n",
    "\n",
    "# .subtract()\n",
    "# we have function in numpy as well to .divide() tow matrix in numpy\n",
    "my_divide2=np.divide(arr1,arr2)\n",
    "print(my_divide2)"
   ]
  },
  {
   "cell_type": "markdown",
   "id": "fa0acfe0",
   "metadata": {},
   "source": [
    "# ****  * operater and .multiply() function   ****"
   ]
  },
  {
   "cell_type": "code",
   "execution_count": 7,
   "id": "b19f9dc0",
   "metadata": {},
   "outputs": [
    {
     "name": "stdout",
     "output_type": "stream",
     "text": [
      "[[1. 1. 1.]\n",
      " [1. 1. 1.]\n",
      " [1. 1. 1.]]\n",
      "[[ 1  4  9]\n",
      " [16 25 36]\n",
      " [49 64 81]]\n"
     ]
    }
   ],
   "source": [
    "# / operater\n",
    "# multiply arr2 and arr1 using * operater\n",
    "my_multiply=arr1/arr2 #this will multiply element wise\n",
    "print(my_multiply)\n",
    "\n",
    "# .multiply()\n",
    "# we have function in numpy as well to .multiply() tow matrix in numpy\n",
    "my_divide2=np.multiply(arr1,arr2)\n",
    "print(my_divide2)\n",
    "\n"
   ]
  },
  {
   "cell_type": "markdown",
   "id": "d9f62fcb",
   "metadata": {},
   "source": [
    "# **** @ and .dot() method for matrix product row and columan form"
   ]
  },
  {
   "cell_type": "code",
   "execution_count": 8,
   "id": "ebc102e5",
   "metadata": {},
   "outputs": [
    {
     "name": "stdout",
     "output_type": "stream",
     "text": [
      "[[ 30  36  42]\n",
      " [ 66  81  96]\n",
      " [102 126 150]]\n",
      "[[ 30  36  42]\n",
      " [ 66  81  96]\n",
      " [102 126 150]]\n"
     ]
    }
   ],
   "source": [
    "# taking matrix product of two matrix using @ operater\n",
    "arr_mx_pro=arr1@arr2\n",
    "print(arr_mx_pro)\n",
    "\n",
    "# .dot(senod_mx_name)\n",
    "# function for finding mx product\n",
    "my_mx_pro_dot=arr1.dot(arr2)\n",
    "print(my_mx_pro_dot)"
   ]
  },
  {
   "cell_type": "markdown",
   "id": "bba433af",
   "metadata": {},
   "source": [
    "# **** .max()to find max value in a matrix"
   ]
  },
  {
   "cell_type": "code",
   "execution_count": 9,
   "id": "f65cdf68",
   "metadata": {},
   "outputs": [
    {
     "name": "stdout",
     "output_type": "stream",
     "text": [
      "9\n"
     ]
    }
   ],
   "source": [
    "val_max=arr1.max()\n",
    "print(val_max)"
   ]
  },
  {
   "cell_type": "markdown",
   "id": "d28f2d51",
   "metadata": {},
   "source": [
    "# **** .argmax() to find index of max value in a matrix"
   ]
  },
  {
   "cell_type": "code",
   "execution_count": 10,
   "id": "632f979f",
   "metadata": {},
   "outputs": [
    {
     "name": "stdout",
     "output_type": "stream",
     "text": [
      "8\n"
     ]
    }
   ],
   "source": [
    "val_inde_of_max=arr1.argmax()\n",
    "print(val_inde_of_max)"
   ]
  },
  {
   "cell_type": "markdown",
   "id": "67372284",
   "metadata": {},
   "source": [
    "# **** .max(axis=0)to find max value in each column in matrix"
   ]
  },
  {
   "cell_type": "code",
   "execution_count": 11,
   "id": "58b7f68a",
   "metadata": {},
   "outputs": [
    {
     "name": "stdout",
     "output_type": "stream",
     "text": [
      "[7 8 9]\n"
     ]
    }
   ],
   "source": [
    "each_c_max_val=arr1.max(axis=0)\n",
    "print(each_c_max_val)"
   ]
  },
  {
   "cell_type": "markdown",
   "id": "a40f1a7f",
   "metadata": {},
   "source": [
    "# **** .max(axis=1)to find max value in each row in matrix"
   ]
  },
  {
   "cell_type": "code",
   "execution_count": 12,
   "id": "b91d0139",
   "metadata": {},
   "outputs": [
    {
     "name": "stdout",
     "output_type": "stream",
     "text": [
      "[3 6 9]\n"
     ]
    }
   ],
   "source": [
    "each_r_max_val=arr1.max(axis=1)\n",
    "print(each_r_max_val)"
   ]
  },
  {
   "cell_type": "markdown",
   "id": "99e57791",
   "metadata": {},
   "source": [
    "# **** .min()to find minimun value in a matrix"
   ]
  },
  {
   "cell_type": "code",
   "execution_count": 13,
   "id": "50f354c8",
   "metadata": {},
   "outputs": [
    {
     "name": "stdout",
     "output_type": "stream",
     "text": [
      "1\n"
     ]
    }
   ],
   "source": [
    "val_min=arr1.min()\n",
    "print(val_min)"
   ]
  },
  {
   "cell_type": "markdown",
   "id": "8bfff0de",
   "metadata": {},
   "source": [
    "# **** .argmin() to find index of min value in a matrix\n"
   ]
  },
  {
   "cell_type": "code",
   "execution_count": 14,
   "id": "a7d52608",
   "metadata": {},
   "outputs": [
    {
     "name": "stdout",
     "output_type": "stream",
     "text": [
      "0\n"
     ]
    }
   ],
   "source": [
    "val_argmin=arr1.argmin()\n",
    "print(val_argmin)"
   ]
  },
  {
   "cell_type": "markdown",
   "id": "d68d1fac",
   "metadata": {},
   "source": [
    "# **** .min(axis=1)to find min value in each row in matrix"
   ]
  },
  {
   "cell_type": "code",
   "execution_count": 15,
   "id": "00d86201",
   "metadata": {},
   "outputs": [
    {
     "name": "stdout",
     "output_type": "stream",
     "text": [
      "[1 4 7]\n"
     ]
    }
   ],
   "source": [
    "each_c_min_val=arr1.min(axis=1)\n",
    "print(each_c_min_val)"
   ]
  },
  {
   "cell_type": "markdown",
   "id": "1566b502",
   "metadata": {},
   "source": [
    "# **** .max(axis=0)to find max value in each column in matrix"
   ]
  },
  {
   "cell_type": "code",
   "execution_count": 16,
   "id": "13d1e767",
   "metadata": {},
   "outputs": [
    {
     "name": "stdout",
     "output_type": "stream",
     "text": [
      "[1 2 3]\n"
     ]
    }
   ],
   "source": [
    "each_r_min_val=arr1.min(axis=0)\n",
    "print(each_r_min_val)"
   ]
  },
  {
   "cell_type": "markdown",
   "id": "1d0c5713",
   "metadata": {},
   "source": [
    "# To add all the elements of matrix"
   ]
  },
  {
   "cell_type": "code",
   "execution_count": 17,
   "id": "3b673bd8",
   "metadata": {},
   "outputs": [
    {
     "data": {
      "text/plain": [
       "45"
      ]
     },
     "execution_count": 17,
     "metadata": {},
     "output_type": "execute_result"
    }
   ],
   "source": [
    "np.sum(arr1)"
   ]
  },
  {
   "cell_type": "markdown",
   "id": "6a74a73b",
   "metadata": {},
   "source": [
    "# to find sum of elements of every row "
   ]
  },
  {
   "cell_type": "code",
   "execution_count": 18,
   "id": "9eb05aba",
   "metadata": {},
   "outputs": [
    {
     "data": {
      "text/plain": [
       "array([ 6, 15, 24])"
      ]
     },
     "execution_count": 18,
     "metadata": {},
     "output_type": "execute_result"
    }
   ],
   "source": [
    "np.sum(arr1, axis=1)"
   ]
  },
  {
   "cell_type": "markdown",
   "id": "ecb2abbf",
   "metadata": {},
   "source": [
    "# to find sum of elements of every column"
   ]
  },
  {
   "cell_type": "code",
   "execution_count": 19,
   "id": "6a4b365a",
   "metadata": {},
   "outputs": [
    {
     "data": {
      "text/plain": [
       "array([12, 15, 18])"
      ]
     },
     "execution_count": 19,
     "metadata": {},
     "output_type": "execute_result"
    }
   ],
   "source": [
    "np.sum(arr1, axis=0)"
   ]
  },
  {
   "cell_type": "markdown",
   "id": "1c841bef",
   "metadata": {},
   "source": [
    "# to find mean()"
   ]
  },
  {
   "cell_type": "code",
   "execution_count": 20,
   "id": "e6556a1f",
   "metadata": {},
   "outputs": [
    {
     "data": {
      "text/plain": [
       "5.0"
      ]
     },
     "execution_count": 20,
     "metadata": {},
     "output_type": "execute_result"
    }
   ],
   "source": [
    "# to find an vaerage of an array\n",
    "np.mean(arr1) #first add all elements and then divide them by there number\n"
   ]
  },
  {
   "cell_type": "markdown",
   "id": "75e33058",
   "metadata": {},
   "source": [
    "# to find square root of every element in an array"
   ]
  },
  {
   "cell_type": "code",
   "execution_count": 21,
   "id": "1afd1fbc",
   "metadata": {},
   "outputs": [
    {
     "data": {
      "text/plain": [
       "array([[1.        , 1.41421356, 1.73205081],\n",
       "       [2.        , 2.23606798, 2.44948974],\n",
       "       [2.64575131, 2.82842712, 3.        ]])"
      ]
     },
     "execution_count": 21,
     "metadata": {},
     "output_type": "execute_result"
    }
   ],
   "source": [
    "np.sqrt(arr1)"
   ]
  },
  {
   "cell_type": "markdown",
   "id": "05d487fa",
   "metadata": {},
   "source": [
    "# to find strandart division of every element in an array"
   ]
  },
  {
   "cell_type": "code",
   "execution_count": 22,
   "id": "e25a3bb5",
   "metadata": {},
   "outputs": [
    {
     "data": {
      "text/plain": [
       "2.581988897471611"
      ]
     },
     "execution_count": 22,
     "metadata": {},
     "output_type": "execute_result"
    }
   ],
   "source": [
    "np.std(arr1)"
   ]
  },
  {
   "cell_type": "markdown",
   "id": "e3a71775",
   "metadata": {},
   "source": [
    "# to find exponent of every element in an array"
   ]
  },
  {
   "cell_type": "code",
   "execution_count": 23,
   "id": "27efe3f8",
   "metadata": {},
   "outputs": [
    {
     "data": {
      "text/plain": [
       "array([[2.71828183e+00, 7.38905610e+00, 2.00855369e+01],\n",
       "       [5.45981500e+01, 1.48413159e+02, 4.03428793e+02],\n",
       "       [1.09663316e+03, 2.98095799e+03, 8.10308393e+03]])"
      ]
     },
     "execution_count": 23,
     "metadata": {},
     "output_type": "execute_result"
    }
   ],
   "source": [
    "np.exp(arr1)"
   ]
  },
  {
   "cell_type": "markdown",
   "id": "55f7ae62",
   "metadata": {},
   "source": [
    "# to find natural log of every element of an array"
   ]
  },
  {
   "cell_type": "code",
   "execution_count": 24,
   "id": "23536cfb",
   "metadata": {},
   "outputs": [
    {
     "data": {
      "text/plain": [
       "array([[0.        , 0.69314718, 1.09861229],\n",
       "       [1.38629436, 1.60943791, 1.79175947],\n",
       "       [1.94591015, 2.07944154, 2.19722458]])"
      ]
     },
     "execution_count": 24,
     "metadata": {},
     "output_type": "execute_result"
    }
   ],
   "source": [
    "np.log(arr1)"
   ]
  },
  {
   "cell_type": "markdown",
   "id": "7d4ec64a",
   "metadata": {},
   "source": [
    "# to find  log base 10 of every element of an array"
   ]
  },
  {
   "cell_type": "code",
   "execution_count": null,
   "id": "821c777d",
   "metadata": {},
   "outputs": [],
   "source": []
  },
  {
   "cell_type": "code",
   "execution_count": 25,
   "id": "7ecd646b",
   "metadata": {},
   "outputs": [
    {
     "data": {
      "text/plain": [
       "array([[0.        , 0.30103   , 0.47712125],\n",
       "       [0.60205999, 0.69897   , 0.77815125],\n",
       "       [0.84509804, 0.90308999, 0.95424251]])"
      ]
     },
     "execution_count": 25,
     "metadata": {},
     "output_type": "execute_result"
    }
   ],
   "source": [
    "np.log10(arr1)"
   ]
  },
  {
   "cell_type": "code",
   "execution_count": null,
   "id": "57c31ce2",
   "metadata": {},
   "outputs": [],
   "source": []
  }
 ],
 "metadata": {
  "kernelspec": {
   "display_name": "Python 3",
   "language": "python",
   "name": "python3"
  },
  "language_info": {
   "codemirror_mode": {
    "name": "ipython",
    "version": 3
   },
   "file_extension": ".py",
   "mimetype": "text/x-python",
   "name": "python",
   "nbconvert_exporter": "python",
   "pygments_lexer": "ipython3",
   "version": "3.8.8"
  }
 },
 "nbformat": 4,
 "nbformat_minor": 5
}
