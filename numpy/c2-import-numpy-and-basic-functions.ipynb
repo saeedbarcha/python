{
 "cells": [
  {
   "cell_type": "markdown",
   "id": "3c9531e3",
   "metadata": {},
   "source": [
    "# code2"
   ]
  },
  {
   "cell_type": "code",
   "execution_count": null,
   "id": "446f7248",
   "metadata": {},
   "outputs": [],
   "source": [
    "# saeed barcha 03-03-2022 12:25 am\n",
    "\n",
    "# np.array()  type(name_of_array)  .ndim .size .shape .dtype"
   ]
  },
  {
   "cell_type": "code",
   "execution_count": 1,
   "id": "ff88def3",
   "metadata": {},
   "outputs": [],
   "source": [
    "\n",
    "# importing and creating array using numpy "
   ]
  },
  {
   "cell_type": "code",
   "execution_count": 2,
   "id": "493f0e9f",
   "metadata": {},
   "outputs": [],
   "source": [
    "# np.array()            #to create an numpy array 1D , 2D\n",
    "# type(name_of_array)   #to chect datatype of the data\n",
    "# .ndim                 #to check dimention of numpy array\n",
    "# .size                 #to check size of numpy array\n",
    "# .shape                #to check number of rows and columns of numpy array\n",
    "# .dtype                #to theck datatype of elements contains by numpy array"
   ]
  },
  {
   "cell_type": "code",
   "execution_count": 3,
   "id": "a7c98170",
   "metadata": {},
   "outputs": [],
   "source": [
    "# importing numpy\n",
    "import numpy as np"
   ]
  },
  {
   "cell_type": "markdown",
   "id": "03c52bfb",
   "metadata": {},
   "source": [
    "# ****    creating numpy 1D array *****"
   ]
  },
  {
   "cell_type": "code",
   "execution_count": 4,
   "id": "a75b9d64",
   "metadata": {
    "scrolled": true
   },
   "outputs": [
    {
     "name": "stdout",
     "output_type": "stream",
     "text": [
      "[1 2 3 4 5 6]\n"
     ]
    }
   ],
   "source": [
    "#******************** creating numpy 1D array ********************\n",
    "arr_1d=np.array([1,2,3,4,5,6])\n",
    "print(arr_1d)"
   ]
  },
  {
   "cell_type": "code",
   "execution_count": 5,
   "id": "7b92fda7",
   "metadata": {},
   "outputs": [
    {
     "name": "stdout",
     "output_type": "stream",
     "text": [
      "<class 'numpy.ndarray'>\n"
     ]
    }
   ],
   "source": [
    "# to check weather this is list or an array\n",
    "print(type(arr_1d))\n",
    "# type(arr_1d)"
   ]
  },
  {
   "cell_type": "code",
   "execution_count": 6,
   "id": "3973bae0",
   "metadata": {},
   "outputs": [
    {
     "data": {
      "text/plain": [
       "1"
      ]
     },
     "execution_count": 6,
     "metadata": {},
     "output_type": "execute_result"
    }
   ],
   "source": [
    "# to print dimention of the array\n",
    "arr_1d.ndim"
   ]
  },
  {
   "cell_type": "code",
   "execution_count": 7,
   "id": "c01370e2",
   "metadata": {},
   "outputs": [
    {
     "name": "stdout",
     "output_type": "stream",
     "text": [
      "6\n"
     ]
    }
   ],
   "source": [
    "# size of the array\n",
    "arr_1d.size #return number of elements\n",
    "print(arr_1d.size) #both return same value"
   ]
  },
  {
   "cell_type": "code",
   "execution_count": 8,
   "id": "a91f493c",
   "metadata": {},
   "outputs": [
    {
     "name": "stdout",
     "output_type": "stream",
     "text": [
      "(6,)\n"
     ]
    }
   ],
   "source": [
    "# checking the shape of array (number of rows and columns)\n",
    "a=arr_1d.shape # this function will return tuple with single integer number with commas\n",
    "               # when array is 1D then this will return single value tuple which refers to the number of columns\n",
    "print(a)"
   ]
  },
  {
   "cell_type": "code",
   "execution_count": 9,
   "id": "8e1736df",
   "metadata": {},
   "outputs": [
    {
     "data": {
      "text/plain": [
       "dtype('int32')"
      ]
     },
     "execution_count": 9,
     "metadata": {},
     "output_type": "execute_result"
    }
   ],
   "source": [
    "# to check datatype of array contains elements\n",
    "arr_1d.dtype #this returns int32, means that it contains integer type datatype and represented in 32 bit form"
   ]
  },
  {
   "cell_type": "markdown",
   "id": "de1c0d24",
   "metadata": {},
   "source": [
    "# *** creating numpy 2D array *****"
   ]
  },
  {
   "cell_type": "code",
   "execution_count": 10,
   "id": "e3d79e28",
   "metadata": {},
   "outputs": [
    {
     "name": "stdout",
     "output_type": "stream",
     "text": [
      "[[1 2 3 4]\n",
      " [5 6 7 8]]\n"
     ]
    },
    {
     "data": {
      "text/plain": [
       "numpy.ndarray"
      ]
     },
     "execution_count": 10,
     "metadata": {},
     "output_type": "execute_result"
    }
   ],
   "source": [
    "#******************** creating numpy 1D array ********************\n",
    "arr_2d=np.array([[1,2,3,4],[5,6,7,8]])\n",
    "print(arr_2d)\n",
    "\n",
    "# checking type of this datatype\n",
    "type(arr_2d)"
   ]
  },
  {
   "cell_type": "code",
   "execution_count": 11,
   "id": "bcaa2423",
   "metadata": {},
   "outputs": [
    {
     "data": {
      "text/plain": [
       "2"
      ]
     },
     "execution_count": 11,
     "metadata": {},
     "output_type": "execute_result"
    }
   ],
   "source": [
    "# to print dimention of the array\n",
    "arr_2d.ndim"
   ]
  },
  {
   "cell_type": "code",
   "execution_count": 12,
   "id": "6424cc40",
   "metadata": {},
   "outputs": [
    {
     "data": {
      "text/plain": [
       "8"
      ]
     },
     "execution_count": 12,
     "metadata": {},
     "output_type": "execute_result"
    }
   ],
   "source": [
    "# size of the array\n",
    "arr_2d.size #return number of elements"
   ]
  },
  {
   "cell_type": "code",
   "execution_count": 13,
   "id": "96231e04",
   "metadata": {},
   "outputs": [
    {
     "data": {
      "text/plain": [
       "(2, 4)"
      ]
     },
     "execution_count": 13,
     "metadata": {},
     "output_type": "execute_result"
    }
   ],
   "source": [
    "# checking the shape of array (number of rows and columns)\n",
    "arr_2d.shape # this function will return tuple with two integer items\n",
    "             # first integer item refers to number of rows and the second one for columns\n"
   ]
  },
  {
   "cell_type": "code",
   "execution_count": 14,
   "id": "e213be8e",
   "metadata": {},
   "outputs": [
    {
     "data": {
      "text/plain": [
       "dtype('int32')"
      ]
     },
     "execution_count": 14,
     "metadata": {},
     "output_type": "execute_result"
    }
   ],
   "source": [
    "# to check datatype of array contains elements\n",
    "arr_2d.dtype #this returns int32, means that it contains integer type datatype and represented in 32 bit form"
   ]
  },
  {
   "cell_type": "code",
   "execution_count": null,
   "id": "102d4914",
   "metadata": {},
   "outputs": [],
   "source": []
  }
 ],
 "metadata": {
  "kernelspec": {
   "display_name": "Python 3",
   "language": "python",
   "name": "python3"
  },
  "language_info": {
   "codemirror_mode": {
    "name": "ipython",
    "version": 3
   },
   "file_extension": ".py",
   "mimetype": "text/x-python",
   "name": "python",
   "nbconvert_exporter": "python",
   "pygments_lexer": "ipython3",
   "version": "3.8.8"
  }
 },
 "nbformat": 4,
 "nbformat_minor": 5
}
