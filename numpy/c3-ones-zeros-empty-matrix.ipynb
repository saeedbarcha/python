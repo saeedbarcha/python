{
 "cells": [
  {
   "cell_type": "markdown",
   "id": "a9764cda",
   "metadata": {},
   "source": [
    "# code3"
   ]
  },
  {
   "cell_type": "code",
   "execution_count": null,
   "id": "4f371ef0",
   "metadata": {},
   "outputs": [],
   "source": [
    "# saeed barcha 03-03-2022 12:25 am\n",
    "# .ones() matrix, .zeros() matrix and .empty() matrix with there sub functions"
   ]
  },
  {
   "cell_type": "code",
   "execution_count": 1,
   "id": "d756c650",
   "metadata": {},
   "outputs": [],
   "source": [
    "# import numpy\n",
    "import numpy as np"
   ]
  },
  {
   "cell_type": "code",
   "execution_count": 2,
   "id": "e67e5e77",
   "metadata": {},
   "outputs": [
    {
     "name": "stdout",
     "output_type": "stream",
     "text": [
      "[[1 1 1]\n",
      " [1 1 1]\n",
      " [1 1 1]]\n"
     ]
    }
   ],
   "source": [
    "# creating ones matrix (ones matrix means all the entries are 1's in an array)\n",
    "\n",
    "# traditional way\n",
    "mx_1s=np.array([[1,1,1],[1,1,1],[1,1,1]]) # suppose i need a matrix of 100*100 then this method is not suitable  \n",
    "print(mx_1s)\n"
   ]
  },
  {
   "cell_type": "markdown",
   "id": "a4446108",
   "metadata": {},
   "source": [
    "# **** Ones matrix  *****"
   ]
  },
  {
   "cell_type": "code",
   "execution_count": 3,
   "id": "aad424bc",
   "metadata": {},
   "outputs": [
    {
     "name": "stdout",
     "output_type": "stream",
     "text": [
      "[1. 1. 1. 1. 1.]\n",
      "float64\n"
     ]
    }
   ],
   "source": [
    "# ********************** Ones matrix ****************************\n",
    "\n",
    "# suppose i want to create an array with single row and 5 columns \n",
    "# .ones() function takes atleast single argument which refers to number of columns in an array\n",
    "arr_1s=np.ones(5)\n",
    "print(arr_1s) #this will assign float value 1. to array by default\n",
    "\n",
    "# to check the datatype of entries of array\n",
    "print(arr_1s.dtype) #return float64 , datatype is float and representend in 64 bit form "
   ]
  },
  {
   "cell_type": "code",
   "execution_count": 4,
   "id": "f580676d",
   "metadata": {},
   "outputs": [
    {
     "name": "stdout",
     "output_type": "stream",
     "text": [
      "[[1. 1. 1. 1.]\n",
      " [1. 1. 1. 1.]\n",
      " [1. 1. 1. 1.]]\n"
     ]
    }
   ],
   "source": [
    "# to print ones matrix with multiple rows and columns\n",
    "# for 2D or 3D numpy ones array \n",
    "# .ones() functions takes tuple as argument with two elements\n",
    "mx_1s=np.ones((3 , 4))\n",
    "print(mx_1s)\n",
    "\n",
    "\n"
   ]
  },
  {
   "cell_type": "code",
   "execution_count": 5,
   "id": "a6d277b7",
   "metadata": {},
   "outputs": [
    {
     "name": "stdout",
     "output_type": "stream",
     "text": [
      "[[1 1 1 1]\n",
      " [1 1 1 1]\n",
      " [1 1 1 1]]\n"
     ]
    }
   ],
   "source": [
    "# to convert default float value into int\n",
    "# we need to pass tuple inside ones function with two values and after commas set dtype=int\n",
    "mx_1s=np.ones((3,4) , dtype=int)\n",
    "print(mx_1s)\n"
   ]
  },
  {
   "cell_type": "code",
   "execution_count": 6,
   "id": "ca5d5996",
   "metadata": {},
   "outputs": [
    {
     "name": "stdout",
     "output_type": "stream",
     "text": [
      "[['1' '1' '1' '1']\n",
      " ['1' '1' '1' '1']]\n"
     ]
    }
   ],
   "source": [
    "# to convert into string\n",
    "# we need to pass tuple inside ones function with two values and after commas set dtype=str\n",
    "\n",
    "mx_1s=np.ones((2,4) , dtype=str)\n",
    "print(mx_1s)"
   ]
  },
  {
   "cell_type": "code",
   "execution_count": 7,
   "id": "39d7a991",
   "metadata": {},
   "outputs": [
    {
     "name": "stdout",
     "output_type": "stream",
     "text": [
      "[[ True  True  True  True]\n",
      " [ True  True  True  True]]\n"
     ]
    }
   ],
   "source": [
    "# to convert into bool\n",
    "# we need to pass tuple inside ones function with two values and after commas set dtype=bool\n",
    "\n",
    "mx_1s=np.ones((2,4) , dtype=bool)\n",
    "print(mx_1s)"
   ]
  },
  {
   "cell_type": "markdown",
   "id": "c0ef5616",
   "metadata": {},
   "source": [
    "# **** Zeros matrix ****"
   ]
  },
  {
   "cell_type": "code",
   "execution_count": 8,
   "id": "8b6a1cc5",
   "metadata": {},
   "outputs": [
    {
     "name": "stdout",
     "output_type": "stream",
     "text": [
      "[0. 0. 0. 0. 0.]\n",
      "<class 'numpy.ndarray'>\n",
      "float64\n"
     ]
    }
   ],
   "source": [
    "\n",
    "\n",
    "# ********************** Zeros matrix ****************************\n",
    "# for single row and multiple column 1D\n",
    "mx_0s=np.zeros(5,)\n",
    "mx_0s=np.zeros(5)\n",
    "\n",
    "print(mx_0s)\n",
    "\n",
    "print(type(mx_0s))\n",
    "print(mx_0s.dtype)\n",
    "\n"
   ]
  },
  {
   "cell_type": "code",
   "execution_count": 9,
   "id": "7f255bd4",
   "metadata": {},
   "outputs": [
    {
     "name": "stdout",
     "output_type": "stream",
     "text": [
      "[[0. 0. 0. 0.]\n",
      " [0. 0. 0. 0.]\n",
      " [0. 0. 0. 0.]]\n",
      "<class 'numpy.ndarray'>\n",
      "2\n",
      "float64\n"
     ]
    }
   ],
   "source": [
    "# for multiple row and  column 2D\n",
    "# elements default value is float64\n",
    "mx_0s=np.zeros((3,4))\n",
    "print(mx_0s)\n",
    "\n",
    "print(type(mx_0s))\n",
    "print(mx_0s.ndim)\n",
    "print(mx_0s.dtype)\n",
    "\n"
   ]
  },
  {
   "cell_type": "code",
   "execution_count": 10,
   "id": "72809974",
   "metadata": {},
   "outputs": [
    {
     "name": "stdout",
     "output_type": "stream",
     "text": [
      "[[0 0 0 0]\n",
      " [0 0 0 0]\n",
      " [0 0 0 0]]\n",
      "<class 'numpy.ndarray'>\n",
      "2\n",
      "int32\n"
     ]
    }
   ],
   "source": [
    "# converting dtype to int\n",
    "mx_0s=np.zeros((3,4) ,dtype=int)\n",
    "print(mx_0s)\n",
    "\n",
    "print(type(mx_0s))\n",
    "print(mx_0s.ndim)\n",
    "print(mx_0s.dtype)\n",
    "\n"
   ]
  },
  {
   "cell_type": "code",
   "execution_count": 11,
   "id": "ddcb07ab",
   "metadata": {},
   "outputs": [
    {
     "name": "stdout",
     "output_type": "stream",
     "text": [
      "[[False False False False]\n",
      " [False False False False]\n",
      " [False False False False]]\n",
      "<class 'numpy.ndarray'>\n",
      "2\n",
      "bool\n"
     ]
    }
   ],
   "source": [
    "# converting dtype to bool\n",
    "mx_0s=np.zeros((3,4) ,dtype=bool)\n",
    "print(mx_0s)\n",
    "\n",
    "print(type(mx_0s))\n",
    "print(mx_0s.ndim)\n",
    "print(mx_0s.dtype)\n"
   ]
  },
  {
   "cell_type": "code",
   "execution_count": 12,
   "id": "16514a9a",
   "metadata": {},
   "outputs": [
    {
     "name": "stdout",
     "output_type": "stream",
     "text": [
      "[['' '' '' '']\n",
      " ['' '' '' '']\n",
      " ['' '' '' '']]\n",
      "<class 'numpy.ndarray'>\n",
      "2\n",
      "<U1\n"
     ]
    }
   ],
   "source": [
    "# converting dtype to str (string)\n",
    "# this will return an empty space, 0 , 0. and false all are equal to an empty space string     in python\n",
    "mx_0s=np.zeros((3,4) ,dtype=str)\n",
    "print(mx_0s)\n",
    "\n",
    "print(type(mx_0s))\n",
    "print(mx_0s.ndim)\n",
    "print(mx_0s.dtype)\n"
   ]
  },
  {
   "cell_type": "code",
   "execution_count": 13,
   "id": "6c5d3f66",
   "metadata": {},
   "outputs": [
    {
     "name": "stdout",
     "output_type": "stream",
     "text": [
      "False\n",
      "True\n",
      "True\n"
     ]
    }
   ],
   "source": [
    "# prof of the above logic\n",
    "mystr=\"\" # an empty string\n",
    "print(bool(mystr))\n",
    "\n",
    "ustr=\" \" # anything inside string returns true when convert it into bool\n",
    "print(bool(ustr))\n",
    "\n",
    "utr=\"sds\" # anything inside string returns true when convert it into bool\n",
    "print(bool(utr))"
   ]
  },
  {
   "cell_type": "markdown",
   "id": "552a785d",
   "metadata": {},
   "source": [
    "# *** empty matrix in python ***"
   ]
  },
  {
   "cell_type": "code",
   "execution_count": 14,
   "id": "374f21af",
   "metadata": {},
   "outputs": [
    {
     "name": "stdout",
     "output_type": "stream",
     "text": [
      "[[6.23042070e-307 1.33512241e-307 1.69118515e-306 1.69119330e-306\n",
      "  6.23059386e-307]\n",
      " [1.11260483e-306 1.24610383e-306 1.69118108e-306 8.06632139e-308\n",
      "  1.20160711e-306]\n",
      " [1.69119330e-306 1.29062229e-306 1.60217812e-306 1.37961370e-306\n",
      "  1.11260348e-306]\n",
      " [9.34600963e-307 7.56602523e-307 8.34451079e-308 1.33508761e-307\n",
      "  1.33511562e-306]\n",
      " [8.90103560e-307 1.42410974e-306 1.00132228e-307 1.33511969e-306\n",
      "  2.18568966e-312]]\n"
     ]
    }
   ],
   "source": [
    "#******* empty matrix in python **************\n",
    "# this will return random numbers when row and columns are same in number\n",
    "mx_em=np.empty((5,5))\n",
    "print(mx_em)"
   ]
  },
  {
   "cell_type": "code",
   "execution_count": 15,
   "id": "114d9cca",
   "metadata": {},
   "outputs": [
    {
     "name": "stdout",
     "output_type": "stream",
     "text": [
      "[[0. 0. 0. 0. 0.]\n",
      " [0. 0. 0. 0. 0.]\n",
      " [0. 0. 0. 0. 0.]]\n"
     ]
    }
   ],
   "source": [
    "# empty matrix in python \n",
    "# this will return 0.  when row and columns are not same in number\n",
    "mx_em=np.empty((3,5))\n",
    "print(mx_em)"
   ]
  }
 ],
 "metadata": {
  "kernelspec": {
   "display_name": "Python 3",
   "language": "python",
   "name": "python3"
  },
  "language_info": {
   "codemirror_mode": {
    "name": "ipython",
    "version": 3
   },
   "file_extension": ".py",
   "mimetype": "text/x-python",
   "name": "python",
   "nbconvert_exporter": "python",
   "pygments_lexer": "ipython3",
   "version": "3.8.8"
  }
 },
 "nbformat": 4,
 "nbformat_minor": 5
}
