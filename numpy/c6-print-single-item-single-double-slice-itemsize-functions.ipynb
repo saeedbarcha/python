{
 "cells": [
  {
   "cell_type": "markdown",
   "id": "fa61afa5",
   "metadata": {},
   "source": [
    "# code=6"
   ]
  },
  {
   "cell_type": "code",
   "execution_count": 1,
   "id": "ef7fcc80",
   "metadata": {},
   "outputs": [],
   "source": [
    "# saeed barcha 33-03-2022\n",
    "# array slicing in numpy\n",
    "\n",
    "# printing single value from matrix\n",
    "# single slicing of matrix\n",
    "# double sliciing\n",
    "# .itemsize function\n",
    "# .dtype function"
   ]
  },
  {
   "cell_type": "code",
   "execution_count": 2,
   "id": "cefa61df",
   "metadata": {},
   "outputs": [
    {
     "name": "stdout",
     "output_type": "stream",
     "text": [
      "[[  1   2   3   4   5   6   7   8   9  10]\n",
      " [ 11  12  13  14  15  16  17  18  19  20]\n",
      " [ 21  22  23  24  25  26  27  28  29  30]\n",
      " [ 31  32  33  34  35  36  37  38  39  40]\n",
      " [ 41  42  43  44  45  46  47  48  49  50]\n",
      " [ 51  52  53  54  55  56  57  58  59  60]\n",
      " [ 61  62  63  64  65  66  67  68  69  70]\n",
      " [ 71  72  73  74  75  76  77  78  79  80]\n",
      " [ 81  82  83  84  85  86  87  88  89  90]\n",
      " [ 91  92  93  94  95  96  97  98  99 100]]\n"
     ]
    }
   ],
   "source": [
    "import numpy as np\n",
    "\n",
    "mx=np.arange(1,101).reshape(10,10)\n",
    "print(mx)"
   ]
  },
  {
   "cell_type": "markdown",
   "id": "a100419d",
   "metadata": {},
   "source": [
    "# to print 1 from martix mx"
   ]
  },
  {
   "cell_type": "code",
   "execution_count": 3,
   "id": "b7485b36",
   "metadata": {},
   "outputs": [
    {
     "name": "stdout",
     "output_type": "stream",
     "text": [
      "1\n"
     ]
    }
   ],
   "source": [
    "# to print 1\n",
    "#  we have to use indexinig\n",
    "one_mx=mx[0,0] #first 0 refers to index of row and second 0 for index of column\n",
    "print(one_mx)"
   ]
  },
  {
   "cell_type": "markdown",
   "id": "c1689dc6",
   "metadata": {},
   "source": [
    "# to print a single/whole row"
   ]
  },
  {
   "cell_type": "code",
   "execution_count": 4,
   "id": "1ffef500",
   "metadata": {},
   "outputs": [
    {
     "name": "stdout",
     "output_type": "stream",
     "text": [
      "[21 22 23 24 25 26 27 28 29 30]\n"
     ]
    }
   ],
   "source": [
    "\n",
    "#  we have to use indexinig\n",
    "one_mx=mx[2] #first 0 refers to index of row and second 0 for index of column\n",
    "print(one_mx)"
   ]
  },
  {
   "cell_type": "markdown",
   "id": "9e9dafa9",
   "metadata": {},
   "source": [
    "# to print a single/whole column"
   ]
  },
  {
   "cell_type": "code",
   "execution_count": 5,
   "id": "66cf3a82",
   "metadata": {},
   "outputs": [
    {
     "name": "stdout",
     "output_type": "stream",
     "text": [
      "[ 5 15 25 35 45 55 65 75 85 95]\n"
     ]
    }
   ],
   "source": [
    "# to print any single column from a matrix\n",
    "# mx[ : , 4] #we dont have to write any thing before and after collons \n",
    "# collons represent to whole and next value represent to the index o the collumn\n",
    "\n",
    "whole_column=mx[:,4]\n",
    "print(whole_column)"
   ]
  },
  {
   "cell_type": "markdown",
   "id": "11034456",
   "metadata": {},
   "source": [
    "# print single column in 2D"
   ]
  },
  {
   "cell_type": "code",
   "execution_count": 6,
   "id": "5f840ebb",
   "metadata": {},
   "outputs": [
    {
     "name": "stdout",
     "output_type": "stream",
     "text": [
      "[[ 1]\n",
      " [11]\n",
      " [21]\n",
      " [31]\n",
      " [41]\n",
      " [51]\n",
      " [61]\n",
      " [71]\n",
      " [81]\n",
      " [91]]\n",
      "[[ 1  2  3]\n",
      " [11 12 13]\n",
      " [21 22 23]\n",
      " [31 32 33]\n",
      " [41 42 43]\n",
      " [51 52 53]\n",
      " [61 62 63]\n",
      " [71 72 73]\n",
      " [81 82 83]\n",
      " [91 92 93]]\n"
     ]
    }
   ],
   "source": [
    "# : slice operater is use to slice the column\n",
    "# second value for index number in matrix\n",
    "# again silcing : operater\n",
    "# third value for number of column in matrix\n",
    "\n",
    "whole_column=mx[:,0:1] #1 column\n",
    "print(whole_column)\n",
    "\n",
    "whole_column=mx[:,0:3]  #3 column\n",
    "print(whole_column)"
   ]
  },
  {
   "cell_type": "markdown",
   "id": "c1502ecb",
   "metadata": {},
   "source": [
    "# to slice some row and columns from matrix"
   ]
  },
  {
   "cell_type": "code",
   "execution_count": 7,
   "id": "079a4d0c",
   "metadata": {},
   "outputs": [
    {
     "name": "stdout",
     "output_type": "stream",
     "text": [
      "[[  1   2   3   4   5   6   7   8   9  10]\n",
      " [ 11  12  13  14  15  16  17  18  19  20]\n",
      " [ 21  22  23  24  25  26  27  28  29  30]\n",
      " [ 31  32  33  34  35  36  37  38  39  40]\n",
      " [ 41  42  43  44  45  46  47  48  49  50]\n",
      " [ 51  52  53  54  55  56  57  58  59  60]\n",
      " [ 61  62  63  64  65  66  67  68  69  70]\n",
      " [ 71  72  73  74  75  76  77  78  79  80]\n",
      " [ 81  82  83  84  85  86  87  88  89  90]\n",
      " [ 91  92  93  94  95  96  97  98  99 100]]\n"
     ]
    }
   ],
   "source": [
    "print(mx)"
   ]
  },
  {
   "cell_type": "code",
   "execution_count": 9,
   "id": "9425545d",
   "metadata": {},
   "outputs": [
    {
     "name": "stdout",
     "output_type": "stream",
     "text": [
      "[[24 25 26 27]\n",
      " [34 35 36 37]\n",
      " [44 45 46 47]\n",
      " [54 55 56 57]]\n"
     ]
    }
   ],
   "source": [
    "# 2 for starting index of row\n",
    "# 6 for ending index of row\n",
    "# 3 for starting index of column\n",
    "# 7 for ending index of column\n",
    "row_and_col=mx[2:6,3:7]\n",
    "print(row_and_col)"
   ]
  },
  {
   "cell_type": "markdown",
   "id": "2421ca71",
   "metadata": {},
   "source": [
    "# to print all rows and some of the columns\n"
   ]
  },
  {
   "cell_type": "code",
   "execution_count": 16,
   "id": "603480e1",
   "metadata": {},
   "outputs": [
    {
     "name": "stdout",
     "output_type": "stream",
     "text": [
      "[[ 1  2  3  4  5]\n",
      " [11 12 13 14 15]\n",
      " [21 22 23 24 25]\n",
      " [31 32 33 34 35]\n",
      " [41 42 43 44 45]\n",
      " [51 52 53 54 55]\n",
      " [61 62 63 64 65]\n",
      " [71 72 73 74 75]\n",
      " [81 82 83 84 85]\n",
      " [91 92 93 94 95]]\n"
     ]
    }
   ],
   "source": [
    "# row_and_col=mx[:,:] #print whole matrix\n",
    "# row_and_col=mx[::] #print whole matrix\n",
    "\n",
    "# row_and_col=mx[:,:5] #print all rows and columns from 0 to 5\n",
    "# row_and_col=mx[:,5:] #print all rows and columns from 5 to till end\n",
    "\n",
    "row_and_col=mx[:,0:5] #this will take all the rows and columns from index 3 to 7\n",
    "\n",
    "print(row_and_col)\n"
   ]
  },
  {
   "cell_type": "markdown",
   "id": "2c0516e6",
   "metadata": {},
   "source": [
    "# .itemsize function to find size occupy by elements of matrix"
   ]
  },
  {
   "cell_type": "code",
   "execution_count": 18,
   "id": "bb27e182",
   "metadata": {},
   "outputs": [
    {
     "data": {
      "text/plain": [
       "4"
      ]
     },
     "execution_count": 18,
     "metadata": {},
     "output_type": "execute_result"
    }
   ],
   "source": [
    "row_and_col.itemsize"
   ]
  },
  {
   "cell_type": "markdown",
   "id": "11970b35",
   "metadata": {},
   "source": [
    "# .dtype to check datatype of matrix"
   ]
  },
  {
   "cell_type": "code",
   "execution_count": 19,
   "id": "599835d3",
   "metadata": {},
   "outputs": [
    {
     "data": {
      "text/plain": [
       "dtype('int32')"
      ]
     },
     "execution_count": 19,
     "metadata": {},
     "output_type": "execute_result"
    }
   ],
   "source": [
    "row_and_col.dtype\n",
    "\n",
    "# this matrix contains integer type of value and in 32 bit form\n",
    "# 32/8=4 so these elements contains 4 bits size"
   ]
  },
  {
   "cell_type": "code",
   "execution_count": null,
   "id": "d54b1350",
   "metadata": {},
   "outputs": [],
   "source": []
  }
 ],
 "metadata": {
  "kernelspec": {
   "display_name": "Python 3",
   "language": "python",
   "name": "python3"
  },
  "language_info": {
   "codemirror_mode": {
    "name": "ipython",
    "version": 3
   },
   "file_extension": ".py",
   "mimetype": "text/x-python",
   "name": "python",
   "nbconvert_exporter": "python",
   "pygments_lexer": "ipython3",
   "version": "3.8.8"
  }
 },
 "nbformat": 4,
 "nbformat_minor": 5
}
