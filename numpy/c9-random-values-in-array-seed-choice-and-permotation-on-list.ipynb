{
 "cells": [
  {
   "cell_type": "markdown",
   "id": "e2396743",
   "metadata": {},
   "source": [
    "# code=9"
   ]
  },
  {
   "cell_type": "code",
   "execution_count": 1,
   "id": "dde99c31",
   "metadata": {},
   "outputs": [],
   "source": [
    "# saeed barcha 33-03-2022\n",
    "# random and numpy module\n",
    "# creating array with random sinsle value\n",
    "# creating 2D 3*3 array  with random value\n",
    "# creating 3D  array  with random value\n",
    "# functions .seed(), .rand(),.randn(), .randint(), \n",
    "# .choice() for getting any random value from list\n",
    "# .permutation(name fo list) .for shuffling list "
   ]
  },
  {
   "cell_type": "code",
   "execution_count": 2,
   "id": "0463d3d0",
   "metadata": {},
   "outputs": [],
   "source": [
    "import numpy as np\n",
    "import random"
   ]
  },
  {
   "cell_type": "code",
   "execution_count": 3,
   "id": "21f36a3c",
   "metadata": {},
   "outputs": [
    {
     "data": {
      "text/plain": [
       "array([0.31878809])"
      ]
     },
     "execution_count": 3,
     "metadata": {},
     "output_type": "execute_result"
    }
   ],
   "source": [
    "# creating numpy array which contains single value generating random value between 0 and 1\n",
    "np.random.random(1) # genetate a value between 0 and 1 .. 1 is excluded"
   ]
  },
  {
   "cell_type": "markdown",
   "id": "e181346d",
   "metadata": {},
   "source": [
    "# creating 3*3 matrix with random values\n"
   ]
  },
  {
   "cell_type": "code",
   "execution_count": 4,
   "id": "c332021e",
   "metadata": {},
   "outputs": [
    {
     "data": {
      "text/plain": [
       "array([[0.05880262, 0.67906297, 0.16835356],\n",
       "       [0.32199002, 0.24045917, 0.93282237],\n",
       "       [0.07804952, 0.79370982, 0.69803213]])"
      ]
     },
     "execution_count": 4,
     "metadata": {},
     "output_type": "execute_result"
    }
   ],
   "source": [
    "np.random.random((3,3)) # return float value "
   ]
  },
  {
   "cell_type": "code",
   "execution_count": 5,
   "id": "f5e7514d",
   "metadata": {},
   "outputs": [
    {
     "data": {
      "text/plain": [
       "array([[2, 2, 1],\n",
       "       [1, 1, 1],\n",
       "       [2, 1, 2]])"
      ]
     },
     "execution_count": 5,
     "metadata": {},
     "output_type": "execute_result"
    }
   ],
   "source": [
    "# 2D array with random values\n",
    "np.random.randint(1,4,(3,3)) # return int value \n",
    "# 1 and 4 values are starting and ending values and (3,3) in number of columns and rows"
   ]
  },
  {
   "cell_type": "markdown",
   "id": "7d1e0ffd",
   "metadata": {},
   "source": [
    "# 3D array with random values"
   ]
  },
  {
   "cell_type": "code",
   "execution_count": 6,
   "id": "deb0d221",
   "metadata": {},
   "outputs": [
    {
     "data": {
      "text/plain": [
       "array([[[3, 1, 1],\n",
       "        [3, 2, 1],\n",
       "        [3, 3, 2]],\n",
       "\n",
       "       [[1, 2, 1],\n",
       "        [3, 1, 2],\n",
       "        [1, 3, 2]]])"
      ]
     },
     "execution_count": 6,
     "metadata": {},
     "output_type": "execute_result"
    }
   ],
   "source": [
    "# 2D array with random values\n",
    "np.random.randint(1,4,(2,3,3)) # return int value \n",
    "# 1 and 4 values are starting and ending values and (2,3,3) 2 is inside arrays 3D in number of columns and rows"
   ]
  },
  {
   "cell_type": "markdown",
   "id": "976bb531",
   "metadata": {},
   "source": [
    "# .seed(10) "
   ]
  },
  {
   "cell_type": "code",
   "execution_count": 7,
   "id": "8c2d80bf",
   "metadata": {},
   "outputs": [
    {
     "data": {
      "text/plain": [
       "array([[[2, 2, 1, 1],\n",
       "        [2, 1, 2, 2],\n",
       "        [1, 2, 2, 3],\n",
       "        [1, 2, 1, 3]],\n",
       "\n",
       "       [[1, 3, 1, 1],\n",
       "        [1, 3, 1, 3],\n",
       "        [3, 2, 1, 1],\n",
       "        [3, 2, 3, 2]]])"
      ]
     },
     "execution_count": 7,
     "metadata": {},
     "output_type": "execute_result"
    }
   ],
   "source": [
    "# .seed(10) this function is use to get same values from a random function on different executions\n",
    "np.random.seed(10)\n",
    "np.random.randint(1,4,(2,4,4))"
   ]
  },
  {
   "cell_type": "code",
   "execution_count": 8,
   "id": "ddd12b89",
   "metadata": {},
   "outputs": [
    {
     "data": {
      "text/plain": [
       "array([[[2, 2, 1, 1],\n",
       "        [2, 1, 2, 2],\n",
       "        [1, 2, 2, 3],\n",
       "        [1, 2, 1, 3]],\n",
       "\n",
       "       [[1, 3, 1, 1],\n",
       "        [1, 3, 1, 3],\n",
       "        [3, 2, 1, 1],\n",
       "        [3, 2, 3, 2]]])"
      ]
     },
     "execution_count": 8,
     "metadata": {},
     "output_type": "execute_result"
    }
   ],
   "source": [
    "# same values returen by above function\n",
    "np.random.seed(10)\n",
    "np.random.randint(1,4,(2,4,4))"
   ]
  },
  {
   "cell_type": "code",
   "execution_count": null,
   "id": "60647e64",
   "metadata": {},
   "outputs": [],
   "source": []
  },
  {
   "cell_type": "markdown",
   "id": "55b85f91",
   "metadata": {},
   "source": [
    "# .rand(3)  this function will generate numbers between 0 and 3"
   ]
  },
  {
   "cell_type": "code",
   "execution_count": 9,
   "id": "963b53fb",
   "metadata": {},
   "outputs": [
    {
     "data": {
      "text/plain": [
       "array([0.13145815, 0.41366737, 0.77872881])"
      ]
     },
     "execution_count": 9,
     "metadata": {},
     "output_type": "execute_result"
    }
   ],
   "source": [
    "np.random.rand(3) # 1row 3 cols"
   ]
  },
  {
   "cell_type": "code",
   "execution_count": 10,
   "id": "e45beda4",
   "metadata": {},
   "outputs": [],
   "source": [
    "# genetating 3*3 with random value"
   ]
  },
  {
   "cell_type": "code",
   "execution_count": 11,
   "id": "b9182984",
   "metadata": {},
   "outputs": [
    {
     "data": {
      "text/plain": [
       "array([[0.58390137, 0.18263144, 0.82608225],\n",
       "       [0.10540183, 0.28357668, 0.06556327],\n",
       "       [0.05644419, 0.76545582, 0.01178803]])"
      ]
     },
     "execution_count": 11,
     "metadata": {},
     "output_type": "execute_result"
    }
   ],
   "source": [
    "np.random.rand(3,3)"
   ]
  },
  {
   "cell_type": "markdown",
   "id": "f6903780",
   "metadata": {},
   "source": [
    "# .randn()"
   ]
  },
  {
   "cell_type": "code",
   "execution_count": 12,
   "id": "16df3f7e",
   "metadata": {},
   "outputs": [
    {
     "data": {
      "text/plain": [
       "array([-1.58494101,  1.05535316, -1.92657911])"
      ]
     },
     "execution_count": 12,
     "metadata": {},
     "output_type": "execute_result"
    }
   ],
   "source": [
    "# .randn() will generate negative and positive values\n",
    "# we can make 1D array using .rand() function\n",
    "# this will only return values between 0 and 1\n",
    "np.random.randn(3)"
   ]
  },
  {
   "cell_type": "code",
   "execution_count": 13,
   "id": "ec7e3f20",
   "metadata": {},
   "outputs": [
    {
     "data": {
      "text/plain": [
       "array([[ 0.69858388, -0.74620143, -0.15662666, -0.19363594],\n",
       "       [ 1.13912535,  0.36221796, -0.59091299,  0.38936304],\n",
       "       [-0.52699615, -0.51430791,  0.89760917,  0.98925209]])"
      ]
     },
     "execution_count": 13,
     "metadata": {},
     "output_type": "execute_result"
    }
   ],
   "source": [
    "# .randn() will generate negative and positive values\n",
    "np.random.randn(3,4)"
   ]
  },
  {
   "cell_type": "markdown",
   "id": "955753c4",
   "metadata": {},
   "source": [
    "# list  .choice() in python and printing any single value "
   ]
  },
  {
   "cell_type": "code",
   "execution_count": 14,
   "id": "1848cbc9",
   "metadata": {},
   "outputs": [
    {
     "data": {
      "text/plain": [
       "2"
      ]
     },
     "execution_count": 14,
     "metadata": {},
     "output_type": "execute_result"
    }
   ],
   "source": [
    "mylist=[2,4,33,23,43,27,8]\n",
    "np.random.choice(mylist)"
   ]
  },
  {
   "cell_type": "markdown",
   "id": "ac524918",
   "metadata": {},
   "source": [
    "# permutation /shufalling list values "
   ]
  },
  {
   "cell_type": "code",
   "execution_count": 15,
   "id": "1e631741",
   "metadata": {},
   "outputs": [
    {
     "data": {
      "text/plain": [
       "array([ 4, 23,  8, 43, 33,  2, 27])"
      ]
     },
     "execution_count": 15,
     "metadata": {},
     "output_type": "execute_result"
    }
   ],
   "source": [
    "# permutation on list\n",
    "mylist=[2,4,33,23,43,27,8]\n",
    "np.random.permutation(mylist)"
   ]
  },
  {
   "cell_type": "code",
   "execution_count": 16,
   "id": "53764f1e",
   "metadata": {},
   "outputs": [
    {
     "data": {
      "text/plain": [
       "array([23, 33, 27,  8,  4,  2, 43])"
      ]
     },
     "execution_count": 16,
     "metadata": {},
     "output_type": "execute_result"
    }
   ],
   "source": [
    "np.random.permutation(mylist)\n"
   ]
  },
  {
   "cell_type": "code",
   "execution_count": 17,
   "id": "aaa9703b",
   "metadata": {},
   "outputs": [
    {
     "data": {
      "text/plain": [
       "array([ 8,  2, 43, 23,  4, 27, 33])"
      ]
     },
     "execution_count": 17,
     "metadata": {},
     "output_type": "execute_result"
    }
   ],
   "source": [
    "np.random.permutation(mylist)"
   ]
  },
  {
   "cell_type": "code",
   "execution_count": null,
   "id": "7ed0028b",
   "metadata": {},
   "outputs": [],
   "source": []
  }
 ],
 "metadata": {
  "kernelspec": {
   "display_name": "Python 3",
   "language": "python",
   "name": "python3"
  },
  "language_info": {
   "codemirror_mode": {
    "name": "ipython",
    "version": 3
   },
   "file_extension": ".py",
   "mimetype": "text/x-python",
   "name": "python",
   "nbconvert_exporter": "python",
   "pygments_lexer": "ipython3",
   "version": "3.8.8"
  }
 },
 "nbformat": 4,
 "nbformat_minor": 5
}
