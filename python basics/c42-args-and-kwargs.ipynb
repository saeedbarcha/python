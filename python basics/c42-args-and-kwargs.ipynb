{
 "cells": [
  {
   "cell_type": "code",
   "execution_count": null,
   "id": "05129719",
   "metadata": {},
   "outputs": [],
   "source": [
    "# code 42\n",
    "# saeed barcha 24-02-2022\n",
    "# normal arguments , *args and **kwargs in python"
   ]
  },
  {
   "cell_type": "code",
   "execution_count": 7,
   "id": "7c09e0de",
   "metadata": {},
   "outputs": [
    {
     "name": "stdout",
     "output_type": "stream",
     "text": [
      "4\n",
      "sum() takes 2 positional arguments but 3 were given\n"
     ]
    }
   ],
   "source": [
    "# normal arguments\n",
    "def sum(a,b):\n",
    "    print(a+b)\n",
    "\n",
    "sum(2,2)\n",
    "# sum(2,2,2) #in this case we pass 3 parameters in a function which contains two argumrnts this will returns an error\n",
    "\n",
    "# to print that error\n",
    "try:\n",
    "    sum(2,2,2)\n",
    "    \n",
    "except Exception as e:\n",
    "    print(e)"
   ]
  },
  {
   "cell_type": "code",
   "execution_count": 17,
   "id": "b9cd1faa",
   "metadata": {},
   "outputs": [
    {
     "name": "stdout",
     "output_type": "stream",
     "text": [
      "<class 'tuple'>\n",
      "saeed\n",
      "barcha\n",
      "rahimabadi\n",
      "gull\n",
      "khan\n",
      "karim\n"
     ]
    }
   ],
   "source": [
    "# *args \n",
    "# we can use args in functions where we dont know the numbere of parameters to a finction whine declaring function\n",
    "# args take inputs/parameters as a tuple. when we are passing any list it convert into tuple first\n",
    "\n",
    "def printName(*args): #args as a tuple\n",
    "    print(type(args))\n",
    "    for item in args:\n",
    "        print(item)\n",
    "#  we have to put staric whil passing parameter during calling function\n",
    "printName(*[\"saeed\",\"barcha\",\"rahimabadi\",\"gull\",\"khan\",\"karim\"])"
   ]
  },
  {
   "cell_type": "code",
   "execution_count": 23,
   "id": "46e2420e",
   "metadata": {},
   "outputs": [
    {
     "name": "stdout",
     "output_type": "stream",
     "text": [
      "printing through indexing:ggg\n",
      "my val :s\n",
      "my val :a\n",
      "my val :b\n",
      "my val :ggg\n",
      "my val :hghg\n",
      "my val :kk\n"
     ]
    }
   ],
   "source": [
    "# passing list in *args\n",
    "# it is not compulsory to write *args.. the compulsory this is to write staric only (*)\n",
    "lis=[\"s\",\"a\",\"b\",\"ggg\",\"hghg\",\"kk\"]\n",
    "def list1(*lis):\n",
    "#     we can print any of the parameter using its indexing\n",
    "    print(f\"printing through indexing:{lis[3]}\") #pring argunent at third index\n",
    "    for items in lis:\n",
    "        print(f\"my val :{items}\")\n",
    "        \n",
    "list1(*lis)"
   ]
  },
  {
   "cell_type": "code",
   "execution_count": 40,
   "id": "fa21e796",
   "metadata": {},
   "outputs": [
    {
     "name": "stdout",
     "output_type": "stream",
     "text": [
      "saeed\n",
      "11\n",
      "12\n",
      "13\n",
      "14\n",
      "15\n"
     ]
    }
   ],
   "source": [
    "# passing normal and *args parameters in a function\n",
    "li1=[1,2,3,4,5]\n",
    "n=\"saeed\"\n",
    "def myfun(name, *args): #have to place normal argumrnts before *args argument\n",
    "    print(name)\n",
    "    for item in args:\n",
    "        print(int(item)+10)\n",
    "        \n",
    "# calling function\n",
    "myfun(n, *li1)\n",
    "myfun(n) # optional:=> to pass 8args and kwargs is not compulsory  .function will work correctly without them\n",
    "\n"
   ]
  },
  {
   "cell_type": "code",
   "execution_count": 50,
   "id": "7b668834",
   "metadata": {},
   "outputs": [
    {
     "name": "stdout",
     "output_type": "stream",
     "text": [
      "value in : s\n",
      "value in : a\n",
      "value in : b\n",
      "value in : ggg\n",
      "value in : hghg\n",
      "value in : kk\n",
      "dictionary key in  : s and its value : saeed\n",
      "dictionary key in  : N and its value : noor\n",
      "dictionary key in  : k and its value : kamaal\n"
     ]
    }
   ],
   "source": [
    "#   **kwargs argument in python \n",
    "def myfun1(*args ,**kwargs):\n",
    "    for item in args:\n",
    "        print(f\"value in : {item}\")\n",
    "        \n",
    "    for key , value  in kwargs.items(): #.items() method takes key value pair from dictionary\n",
    "        print(f\"dictionary key in  : {key} and its value : {value}\")\n",
    "        \n",
    "lis3=[\"s\",\"a\",\"b\",\"ggg\",\"hghg\",\"kk\"]\n",
    "lis4={\"s\":\"saeed\",\"N\":\"noor\" ,\"k\":\"kamaal\"}\n",
    "\n",
    "myfun1(*lis3 ,**lis4)"
   ]
  }
 ],
 "metadata": {
  "kernelspec": {
   "display_name": "Python 3",
   "language": "python",
   "name": "python3"
  },
  "language_info": {
   "codemirror_mode": {
    "name": "ipython",
    "version": 3
   },
   "file_extension": ".py",
   "mimetype": "text/x-python",
   "name": "python",
   "nbconvert_exporter": "python",
   "pygments_lexer": "ipython3",
   "version": "3.8.8"
  }
 },
 "nbformat": 4,
 "nbformat_minor": 5
}
