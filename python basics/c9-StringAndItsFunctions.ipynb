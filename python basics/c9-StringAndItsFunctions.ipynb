{
 "cells": [
  {
   "cell_type": "code",
   "execution_count": 1,
   "id": "95b88637",
   "metadata": {},
   "outputs": [],
   "source": [
    "# code9\n",
    "# saeed hussain  27/12/2021\n",
    "# String and its built-in functions"
   ]
  },
  {
   "cell_type": "code",
   "execution_count": 2,
   "id": "c5a59713",
   "metadata": {},
   "outputs": [
    {
     "name": "stdout",
     "output_type": "stream",
     "text": [
      "saeed barcha\n",
      "<class 'str'>\n"
     ]
    }
   ],
   "source": [
    "# declare and assing a string variable\n",
    "name=\"saeed barcha\"\n",
    "# printing the string variable\n",
    "print(name)\n",
    "\n",
    "# datatype of string \n",
    "print(type(name))"
   ]
  },
  {
   "cell_type": "code",
   "execution_count": 3,
   "id": "2e296416",
   "metadata": {},
   "outputs": [
    {
     "name": "stdout",
     "output_type": "stream",
     "text": [
      "12\n"
     ]
    }
   ],
   "source": [
    "# to find the length of the string(number of character in string)\n",
    "print(len(name)) #total number of characters in that string"
   ]
  },
  {
   "cell_type": "code",
   "execution_count": 4,
   "id": "24a6c5b9",
   "metadata": {},
   "outputs": [
    {
     "name": "stdout",
     "output_type": "stream",
     "text": [
      "saee\n",
      "Hussain\n"
     ]
    }
   ],
   "source": [
    "# slicing in string\n",
    "# to print a part of the string \n",
    "# 0 is for starting and 4 for ending \n",
    "# character at 0 index will include and character at 4 index will exclued \n",
    "mystr=\"saeed Hussain\"\n",
    "print(mystr[0:4])\n",
    "# suppose i want to print only hussain\n",
    "print(mystr[6:14])"
   ]
  },
  {
   "cell_type": "code",
   "execution_count": 5,
   "id": "c91b9f85",
   "metadata": {},
   "outputs": [],
   "source": [
    "# if we try to print any character at an index which dosn't exist\n",
    "# an error will occur\n",
    "# print(mystr[40])"
   ]
  },
  {
   "cell_type": "code",
   "execution_count": 6,
   "id": "a4898a46",
   "metadata": {},
   "outputs": [
    {
     "name": "stdout",
     "output_type": "stream",
     "text": [
      "saeed Hussain\n"
     ]
    }
   ],
   "source": [
    "# if we try this it will ignor an print some result\n",
    "# mystr=\"my name is saeed\"\n",
    "print(mystr[:40]) # print(mystr[0:40]) #both are same"
   ]
  },
  {
   "cell_type": "code",
   "execution_count": 7,
   "id": "c92f443a",
   "metadata": {},
   "outputs": [
    {
     "name": "stdout",
     "output_type": "stream",
     "text": [
      "this is saeed barcha nodejs and python developer\n",
      "ti ssedbrh oesadpto eeoe\n",
      "tssadahne dyodep\n",
      "t sdr eapoeo\n"
     ]
    }
   ],
   "source": [
    "# skiping characters\n",
    "whoim=\"this is saeed barcha nodejs and python developer\"\n",
    "print(whoim)\n",
    "# to skip a single character\n",
    "# print(whoim[0:48:1]) this will not effect\n",
    "# 0 for start from index 40 for end of index and 2 for skip one character (we can  change 0 and 48 and 2 as well)\n",
    "print(whoim[0:48:2])  #skiping single character\n",
    "print(whoim[0:48:3])  #skiping two character\n",
    "print(whoim[0:48:4])  #skiping three character and so..on\n",
    "\n",
    "# print(whoim) == print(whoim[0:48:1]) == print(whoim[::]) == print(whoim[0::]) == print(whoim[0:40:]) ==\n",
    "# print(whoim[0:40:1])==print(whoim[:48:])==print(whoim[:40:1])==print(whoim[::1])==print(whoim[0::1])"
   ]
  },
  {
   "cell_type": "code",
   "execution_count": 8,
   "id": "80e1adfb",
   "metadata": {},
   "outputs": [
    {
     "name": "stdout",
     "output_type": "stream",
     "text": [
      "t\n"
     ]
    }
   ],
   "source": [
    "print(whoim[0:48:100]) #this will print T only it is just because of because skiping number( 99 characters) is greater then total number of characters in string. "
   ]
  },
  {
   "cell_type": "code",
   "execution_count": 9,
   "id": "8090d59d",
   "metadata": {},
   "outputs": [
    {
     "name": "stdout",
     "output_type": "stream",
     "text": [
      "repoleved nohtyp dna sjedon ahcrab deeas si siht\n",
      "rplvdnhy n jdnaca ea ish\n",
      "rov hpnsd cbesii\n",
      "rov hpnsd cbesii\n",
      "ee\n",
      "ae\n"
     ]
    }
   ],
   "source": [
    "# negative indexing\n",
    "# to inverse the string through negative indexing\n",
    "print(whoim[::-1])\n",
    "# to invers the string and skip single character\n",
    "print(whoim[::-2])\n",
    "# to invers the string and skip 2 character\n",
    "print(whoim[::-3])\n",
    "print(whoim[-1:-48:-3]) #print(whoim[:-48:-3]) == print(whoim[-1::-3])\n",
    "# positive indexing\n",
    "#   0  1  2  3  4\n",
    "#   s  a  e  e  d\n",
    "#  -5 -4 -3 -2 -1\n",
    "# negative indexing\n",
    "nami=\"saeed\"\n",
    "# suppose i want to print ee through neagtive and positive indexing\n",
    "print(nami[2:4])\n",
    "print(nami[-4:-2])"
   ]
  },
  {
   "cell_type": "code",
   "execution_count": 10,
   "id": "32cdf1fb",
   "metadata": {},
   "outputs": [
    {
     "name": "stdout",
     "output_type": "stream",
     "text": [
      "True\n",
      "False\n"
     ]
    }
   ],
   "source": [
    "# .isalnum() function .this function returns bool value.weather string contains alphabats and numbers or not\n",
    "st1=\"thisisaboutstinganditsfunctions\"\n",
    "print(st1.isalnum()) # returns true there are only numeric and alphabates.\n",
    "st2=\"this is about sting and its functions\"\n",
    "print(st2.isalnum())  # returns false there are not only numeric and alphabates but special characters are their for example empty spaces."
   ]
  },
  {
   "cell_type": "code",
   "execution_count": 11,
   "id": "fd9c2b93",
   "metadata": {},
   "outputs": [
    {
     "name": "stdout",
     "output_type": "stream",
     "text": [
      "False\n",
      "True\n"
     ]
    }
   ],
   "source": [
    "#  .isalpha() \n",
    "# return boolean is it contains only alphabats or not\n",
    "st11=\"saeed barcha\"\n",
    "print(st11.isalpha()) #returns false because it contains free space\n",
    "\n",
    "st22=\"namebarcha\"\n",
    "print(st22.isalpha()) #returns true it only contains alphabats\n"
   ]
  },
  {
   "cell_type": "code",
   "execution_count": 12,
   "id": "154b4778",
   "metadata": {},
   "outputs": [
    {
     "name": "stdout",
     "output_type": "stream",
     "text": [
      "True\n",
      "True\n",
      "True\n",
      "False\n",
      "False\n",
      "False\n",
      "False\n"
     ]
    }
   ],
   "source": [
    "# .endsWith() \n",
    "# returns boolean ... to check weather string ends with which word or character\n",
    "print(st11.endswith(\"barcha\")) #return true\n",
    "print(st11.endswith(\"cha\")) #return true\n",
    "print(st11.endswith(\"a\")) #return true\n",
    "\n",
    "print(st11.endswith(\"chha\")) #return false\n",
    "\n",
    "print(st11.endswith(\"feel\")) #return false\n",
    "print(st11.endswith(\"el\")) #return false\n",
    "print(st11.endswith(\"l\")) #return false\n"
   ]
  },
  {
   "cell_type": "code",
   "execution_count": 13,
   "id": "8b0d7b74",
   "metadata": {},
   "outputs": [
    {
     "name": "stdout",
     "output_type": "stream",
     "text": [
      "4\n",
      "0\n",
      "4\n",
      "2\n",
      "1\n"
     ]
    }
   ],
   "source": [
    "# .count() return int value\n",
    "# this function is use to count the numbers of single characters or words or word phrase in a string\n",
    "newStr=\"what ever he is doing is just outstanding!\"\n",
    "print(newStr.count(\"i\"))  #return 3: numbers of i in this stirng\n",
    "print(newStr.count(\"q\"))  #return 0: numbers of q in this stirng\n",
    "print(newStr.count(\"t\"))  #return 4: numbers of t in this stirng\n",
    "\n",
    "# word\n",
    "print(newStr.count(\"is\"))  #return 2: is word came two times in this stirng\n",
    "\n",
    "# word phrase\n",
    "print(newStr.count(\"is just\"))  #return 2: <is just) word pharse came single in this stirng\n"
   ]
  },
  {
   "cell_type": "code",
   "execution_count": 14,
   "id": "51934f85",
   "metadata": {},
   "outputs": [
    {
     "name": "stdout",
     "output_type": "stream",
     "text": [
      "Muhammad issa\n",
      "A\n"
     ]
    }
   ],
   "source": [
    "# .capitalize() this function will capitalize the first later of the stirng\n",
    "nameBaba=\"muhammad issa\"\n",
    "print(nameBaba.capitalize()) # character m will change to upper-case\n",
    "\n",
    "# we can use this function like this as well\n",
    "print(nameBaba[3].capitalize())"
   ]
  },
  {
   "cell_type": "code",
   "execution_count": 15,
   "id": "6dcb5504",
   "metadata": {},
   "outputs": [
    {
     "name": "stdout",
     "output_type": "stream",
     "text": [
      "5\n",
      "13\n"
     ]
    }
   ],
   "source": [
    "# .find()\n",
    "# to find single character ,word or word phrase\n",
    "# newStr=\"what ever he is doing is just outstanding!\"\n",
    "print(newStr.find(\"e\")) #this will return the index of e at first instance in string.\n",
    "print(newStr.find(\"is\")) #this will return the index of first character searched at first instance in the string.\n",
    "\n",
    "\n"
   ]
  },
  {
   "cell_type": "code",
   "execution_count": 16,
   "id": "8ebfc473",
   "metadata": {},
   "outputs": [
    {
     "name": "stdout",
     "output_type": "stream",
     "text": [
      "what ever he is doing is just outstanding!\n"
     ]
    }
   ],
   "source": [
    "# .lower()\n",
    "# to convert the whole string in lower-case\n",
    "print(newStr.lower()) "
   ]
  },
  {
   "cell_type": "code",
   "execution_count": 17,
   "id": "8f270e58",
   "metadata": {},
   "outputs": [
    {
     "name": "stdout",
     "output_type": "stream",
     "text": [
      "WHAT EVER HE IS DOING IS JUST OUTSTANDING!\n"
     ]
    }
   ],
   "source": [
    "# .upper\n",
    "# to convert the whole string in upper-case\n",
    "print(newStr.upper()) "
   ]
  },
  {
   "cell_type": "code",
   "execution_count": 18,
   "id": "8526494b",
   "metadata": {},
   "outputs": [
    {
     "name": "stdout",
     "output_type": "stream",
     "text": [
      "what ever he Os doOng Os just outstandOng!\n",
      "what ever he are doing are just outstanding!\n",
      "WHAT ever he is doing is just outstanding!\n",
      "what evgood is doing is just outstanding!\n"
     ]
    }
   ],
   "source": [
    "# .replace(\"\",\"\")\n",
    "# replace function is use to replace a single character ,single word ,come characters or word phrase from a string\n",
    "\n",
    "print(newStr.replace(\"i\",\"O\")) #replace i with O\n",
    "print(newStr.replace(\"is\",\"are\")) #replace is with are \n",
    "print(newStr.replace(\"what\",\"WHAT\")) \n",
    "print(newStr.replace(\"er he\",\"good\")) \n"
   ]
  },
  {
   "cell_type": "code",
   "execution_count": 19,
   "id": "8b454407",
   "metadata": {},
   "outputs": [
    {
     "name": "stdout",
     "output_type": "stream",
     "text": [
      "saeed Hussain\n",
      "H\n",
      " \n"
     ]
    }
   ],
   "source": [
    "# indexing in python\n",
    "# index 01234567891011\n",
    "mystr=\"saeed Hussain\"\n",
    "print(mystr)\n",
    "\n",
    "# to print only character in a string using its indexing\n",
    "print(mystr[6])\n",
    "# this will print an empty space it is just becaus of at 5 index there is an empty space\n",
    "print(mystr[5])"
   ]
  }
 ],
 "metadata": {
  "kernelspec": {
   "display_name": "Python 3",
   "language": "python",
   "name": "python3"
  },
  "language_info": {
   "codemirror_mode": {
    "name": "ipython",
    "version": 3
   },
   "file_extension": ".py",
   "mimetype": "text/x-python",
   "name": "python",
   "nbconvert_exporter": "python",
   "pygments_lexer": "ipython3",
   "version": "3.8.8"
  }
 },
 "nbformat": 4,
 "nbformat_minor": 5
}
