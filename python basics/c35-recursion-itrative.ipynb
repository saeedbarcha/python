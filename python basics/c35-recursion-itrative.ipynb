{
 "cells": [
  {
   "cell_type": "code",
   "execution_count": 1,
   "id": "20bfdfb8",
   "metadata": {},
   "outputs": [],
   "source": [
    "# code1\n",
    "# saeed barcha 20-2-2022\n",
    "# recursions-recursive vs iterative Apporach"
   ]
  },
  {
   "cell_type": "code",
   "execution_count": 2,
   "id": "73d50e63",
   "metadata": {},
   "outputs": [
    {
     "name": "stdout",
     "output_type": "stream",
     "text": [
      "saeed :this is just a simple function which print a single statement\n",
      "saeed :hello\n"
     ]
    }
   ],
   "source": [
    "# simple function\n",
    "def fun(str):\n",
    "    \n",
    "    print(str,\":this is just a simple function which print a single statement\")\n",
    "\n",
    "fun(\"saeed\")\n",
    "\n",
    "# Recursion\n",
    "def fun1(str):\n",
    "#     fun1(\"saeed\") #uncomment this to see the error after the recursion occurs \n",
    "    print(str,\":hello\")\n",
    "\n",
    "fun1(\"saeed\")"
   ]
  },
  {
   "cell_type": "code",
   "execution_count": 4,
   "id": "aa17ab63",
   "metadata": {},
   "outputs": [],
   "source": [
    "# printing factroial using \n",
    "\n",
    "def factorial(n):\n",
    "    \"\"\"\n",
    "    n! this is way of writing factorial in mathematics\n",
    "    =>param n: integer\n",
    "    =>return :n * n-1 * n-2 *n-3 .. #this will continue till n==1\n",
    "    \n",
    "    factorial of 5\n",
    "    5! = 5*4*3*2*1\n",
    "    n! = n * n-1 * n-2 * n-3 * n-4  #till n-(substractNumber)=1\n",
    "    same as:\n",
    "    n! = n * (n-1)!\n",
    "    same as:\n",
    "    n! = n * (n-1) * (n-2)!\n",
    "    same as:\n",
    "    n! = n * (n-1) * (n-2) * (n-3)! so on....\n",
    "    \n",
    "    \"\"\"\n",
    "    pass "
   ]
  },
  {
   "cell_type": "code",
   "execution_count": 8,
   "id": "92bc8351",
   "metadata": {},
   "outputs": [
    {
     "name": "stdout",
     "output_type": "stream",
     "text": [
      "Enter your number: 4\n"
     ]
    },
    {
     "data": {
      "text/plain": [
       "24"
      ]
     },
     "execution_count": 8,
     "metadata": {},
     "output_type": "execute_result"
    }
   ],
   "source": [
    "# printing factroial using iterative apporach \n",
    "\n",
    "def FUIA(n):\n",
    "    fac=1\n",
    "    for i in range(n): # in this case i start from 0 and ends with n-1\n",
    "        fac=fac*(i+1) # if i multiple with i=0 the its value will equal to 0 # to remove tha i add (i+1)\n",
    "    return fac\n",
    "\n",
    "number=int(input(\"Enter your number: \"))\n",
    "\n",
    "FUIA(number)"
   ]
  },
  {
   "cell_type": "code",
   "execution_count": 9,
   "id": "6fb19fe5",
   "metadata": {},
   "outputs": [
    {
     "name": "stdout",
     "output_type": "stream",
     "text": [
      "Enter your number: 5\n"
     ]
    },
    {
     "data": {
      "text/plain": [
       "120"
      ]
     },
     "execution_count": 9,
     "metadata": {},
     "output_type": "execute_result"
    }
   ],
   "source": [
    "# factorial using recursive function\n",
    "\n",
    "def FURF(n):\n",
    "    if n==1:\n",
    "        return 1\n",
    "    else:\n",
    "        return n*FURF(n-1)\n",
    "# 5 * FURF(4)        in this stact value is 4\n",
    "# 5 * 4 * FURF(3)\n",
    "# 5 * 4 * 3 * FURF(2)\n",
    "# 5 * 4 * 3 * 2 * FURF(1)\n",
    "\n",
    "num=int(input(\"Enter your number: \"))\n",
    "\n",
    "FURF(num)"
   ]
  },
  {
   "cell_type": "code",
   "execution_count": 17,
   "id": "ec38391e",
   "metadata": {},
   "outputs": [
    {
     "name": "stdout",
     "output_type": "stream",
     "text": [
      "Enter any number to find Fibonachi: 7\n"
     ]
    },
    {
     "data": {
      "text/plain": [
       "8"
      ]
     },
     "execution_count": 17,
     "metadata": {},
     "output_type": "execute_result"
    }
   ],
   "source": [
    "# printing fibonacci numbers\n",
    "# 0 1 2 3 5 8 13 21 34 55 .. fibonacci numbers  \n",
    "#i these case the numbers of the sum of two previous numbers\n",
    "\n",
    "def fibonacci(a):\n",
    "    if a==1:\n",
    "        return 0\n",
    "    elif a==2:\n",
    "        return 1\n",
    "    else:\n",
    "        return fibonacci(a-1) + fibonacci(a-2)\n",
    "\n",
    "a=int(input(\"Enter any number to find Fibonachi: \"))\n",
    "fibonacci(a)"
   ]
  },
  {
   "cell_type": "code",
   "execution_count": null,
   "id": "b3e304bd",
   "metadata": {},
   "outputs": [],
   "source": []
  },
  {
   "cell_type": "code",
   "execution_count": null,
   "id": "db63ef7e",
   "metadata": {},
   "outputs": [],
   "source": []
  }
 ],
 "metadata": {
  "kernelspec": {
   "display_name": "Python 3",
   "language": "python",
   "name": "python3"
  },
  "language_info": {
   "codemirror_mode": {
    "name": "ipython",
    "version": 3
   },
   "file_extension": ".py",
   "mimetype": "text/x-python",
   "name": "python",
   "nbconvert_exporter": "python",
   "pygments_lexer": "ipython3",
   "version": "3.8.8"
  }
 },
 "nbformat": 4,
 "nbformat_minor": 5
}
