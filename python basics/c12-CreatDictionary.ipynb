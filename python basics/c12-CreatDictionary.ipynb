{
 "cells": [
  {
   "cell_type": "code",
   "execution_count": 1,
   "id": "628b6615",
   "metadata": {},
   "outputs": [],
   "source": [
    "# code12\n",
    "# saeed hussain  29/12/2021\n",
    "# task 1 \n",
    "# create a dictionary and store some words in it. take input from user and display result in the dictionary."
   ]
  },
  {
   "cell_type": "code",
   "execution_count": 3,
   "id": "19c43bfa",
   "metadata": {},
   "outputs": [
    {
     "name": "stdout",
     "output_type": "stream",
     "text": [
      "Enter any word to know name:saeed\n",
      "This is the meaning:  python developer\n"
     ]
    }
   ],
   "source": [
    "myDic={\n",
    "    \"saeed\":\"python developer\",\n",
    "    \"abid\":\"node js developer\",\n",
    "    \"kalim\":\"uxui designer\",\n",
    "    \"perwaiz\":\"computing specialist\"\n",
    "}\n",
    "# print(myDic)\n",
    "searchWord=input(\"Enter any word to know name:\",)\n",
    "# print(\"This is the meaning: \" ,myDic[searchWord])\n",
    "print(\"This is the meaning: \" , myDic[searchWord.lower()]) # to convert all the letters in lower case first "
   ]
  },
  {
   "cell_type": "code",
   "execution_count": null,
   "id": "62e791f1",
   "metadata": {},
   "outputs": [],
   "source": []
  }
 ],
 "metadata": {
  "kernelspec": {
   "display_name": "Python 3",
   "language": "python",
   "name": "python3"
  },
  "language_info": {
   "codemirror_mode": {
    "name": "ipython",
    "version": 3
   },
   "file_extension": ".py",
   "mimetype": "text/x-python",
   "name": "python",
   "nbconvert_exporter": "python",
   "pygments_lexer": "ipython3",
   "version": "3.8.8"
  }
 },
 "nbformat": 4,
 "nbformat_minor": 5
}
