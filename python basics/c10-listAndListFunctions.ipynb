{
 "cells": [
  {
   "cell_type": "code",
   "execution_count": 1,
   "id": "2dc8a78c",
   "metadata": {},
   "outputs": [],
   "source": [
    "# code10\n",
    "# saeed hussain  28/12/2021\n",
    "# List , tuple and its built-in functions \n",
    "# (mutable and immutable)\n",
    "# swaping values in python and traditionallay\n",
    "# list and tuple both are almost similar except one thing,\n",
    "# we can modify a value in list but we can cant modify any value in the tuple"
   ]
  },
  {
   "cell_type": "code",
   "execution_count": 2,
   "id": "bb33fdd5",
   "metadata": {},
   "outputs": [],
   "source": [
    "# list\n",
    "# we can insert multiple values in the list (int , string , boolen , dectionary , list ,tuple)\n",
    "list1=[\"saeed\" , \"noor\" , \"Ali\" , \"karim\" ,\"waheed\"] # mixed list contains different types of datatype variables"
   ]
  },
  {
   "cell_type": "code",
   "execution_count": 3,
   "id": "53e880a9",
   "metadata": {},
   "outputs": [
    {
     "name": "stdout",
     "output_type": "stream",
     "text": [
      "noor\n",
      "karim\n"
     ]
    }
   ],
   "source": [
    "# accessing list items values\n",
    "print(list1[1])\n",
    "print(list1[3])"
   ]
  },
  {
   "cell_type": "code",
   "execution_count": 4,
   "id": "9adbfce1",
   "metadata": {},
   "outputs": [
    {
     "name": "stdout",
     "output_type": "stream",
     "text": [
      "[1, 2, 3, 11, 21, 13, 7]\n",
      "2\n"
     ]
    }
   ],
   "source": [
    "# int-type list\n",
    "numList=[1,2,3,11,21,13,7]\n",
    "print(numList)\n",
    "# to print single items\n",
    "print(numList[1])"
   ]
  },
  {
   "cell_type": "code",
   "execution_count": 5,
   "id": "1520ca27",
   "metadata": {},
   "outputs": [
    {
     "name": "stdout",
     "output_type": "stream",
     "text": [
      "None\n",
      "[1, 2, 3, 7, 11, 13, 21]\n"
     ]
    }
   ],
   "source": [
    "# .sort() to show numbers in asending order\n",
    "print(numList.sort()) #this will return none\n",
    "numList.sort()\n",
    "print(numList)\n"
   ]
  },
  {
   "cell_type": "code",
   "execution_count": 6,
   "id": "ef4d6a6d",
   "metadata": {},
   "outputs": [
    {
     "name": "stdout",
     "output_type": "stream",
     "text": [
      "[21, 13, 11, 7, 3, 2, 1]\n"
     ]
    }
   ],
   "source": [
    "# .reverse() to show the numbers in reverse/desending order\n",
    "numList.reverse()\n",
    "print(numList)\n",
    "# a=len(numList)"
   ]
  },
  {
   "cell_type": "code",
   "execution_count": 7,
   "id": "d6256449",
   "metadata": {},
   "outputs": [
    {
     "name": "stdout",
     "output_type": "stream",
     "text": [
      "[21, 13, 11, 7, 3, 2, 1]\n",
      "[21, 13, 11, 7, 3, 2, 1]\n",
      "[21, 11, 3, 1]\n"
     ]
    }
   ],
   "source": [
    "# advance slicing in list\n",
    "# to print some values from list \n",
    "print(numList[0:len(numList)]) #print(numList[0:]) == print(numList[0:8])\n",
    "# to print spacific part and skiping a single value\n",
    "print(numList[0:8:1])\n",
    "# to print spacific part and skiping a single value\n",
    "print(numList[0:8:2])"
   ]
  },
  {
   "cell_type": "code",
   "execution_count": 8,
   "id": "de6a0533",
   "metadata": {},
   "outputs": [
    {
     "name": "stdout",
     "output_type": "stream",
     "text": [
      "21\n"
     ]
    }
   ],
   "source": [
    "# to find maximum value in the list\n",
    "print(max(numList))"
   ]
  },
  {
   "cell_type": "code",
   "execution_count": 9,
   "id": "2c1c668d",
   "metadata": {},
   "outputs": [
    {
     "name": "stdout",
     "output_type": "stream",
     "text": [
      "1\n"
     ]
    }
   ],
   "source": [
    "# to find Minimum number in the list\n",
    "print(min(numList))"
   ]
  },
  {
   "cell_type": "code",
   "execution_count": 10,
   "id": "98bd7a02",
   "metadata": {},
   "outputs": [
    {
     "name": "stdout",
     "output_type": "stream",
     "text": [
      "[1, 2, 3, 7, 11, 13, 21]\n"
     ]
    }
   ],
   "source": [
    "# advance negative indexing \n",
    "print(numList[::-1])\n",
    "#agar hum values dalangay or phir negative value to yai wala kaam nai kara ga\n",
    "# yai list k andar hota ha.string k anadar aisa nai hota\n",
    "# print(numList[0:8:-1])\n"
   ]
  },
  {
   "cell_type": "code",
   "execution_count": 11,
   "id": "baff4db3",
   "metadata": {},
   "outputs": [
    {
     "name": "stdout",
     "output_type": "stream",
     "text": [
      "[1, 2, 3, 7, 11, 13, 21]\n",
      "[1, 2, 3, 7, 11, 13, 21, 199, 177]\n"
     ]
    }
   ],
   "source": [
    "# .append() add value to the end\n",
    "# to add something im the end of the list\n",
    "numList.reverse()\n",
    "print(numList)\n",
    "\n",
    "# to add any value (something) in the end of the list\n",
    "numList.append(199)\n",
    "numList.append(177)\n",
    "print(numList)"
   ]
  },
  {
   "cell_type": "code",
   "execution_count": 12,
   "id": "e1aadb8a",
   "metadata": {},
   "outputs": [
    {
     "name": "stdout",
     "output_type": "stream",
     "text": [
      "[1, 2, 3, 7, 11, 13, 21, 199]\n"
     ]
    }
   ],
   "source": [
    "#.pop() \n",
    "# to remove value from the end of the list\n",
    "numList.pop()\n",
    "print(numList)"
   ]
  },
  {
   "cell_type": "code",
   "execution_count": 13,
   "id": "5a44a9ed",
   "metadata": {},
   "outputs": [
    {
     "name": "stdout",
     "output_type": "stream",
     "text": [
      "[1000, 1, 2, 3, 7, 11, 13, 21, 199]\n"
     ]
    }
   ],
   "source": [
    "# .insert( , ) this method is used to add some value in the list at any index\n",
    "numList.insert(0,1000)\n",
    "print(numList)"
   ]
  },
  {
   "cell_type": "code",
   "execution_count": 14,
   "id": "dbb71b70",
   "metadata": {},
   "outputs": [
    {
     "name": "stdout",
     "output_type": "stream",
     "text": [
      "[1000, 2, 3, 7, 11, 13, 21, 199]\n"
     ]
    }
   ],
   "source": [
    "# .remove() \n",
    "# this function is use to remove any value from anywhere in the list using its indexing\n",
    "numList.remove(1)\n",
    "print(numList)"
   ]
  },
  {
   "cell_type": "code",
   "execution_count": 15,
   "id": "6513e0bc",
   "metadata": {},
   "outputs": [
    {
     "name": "stdout",
     "output_type": "stream",
     "text": [
      "(2, 3, 21, 32, 2)\n"
     ]
    }
   ],
   "source": [
    "# tuple is an immutable datatype\n",
    "tp=(2,3,21,32,2)\n",
    "print(tp)"
   ]
  },
  {
   "cell_type": "code",
   "execution_count": 16,
   "id": "0e5ee384",
   "metadata": {},
   "outputs": [
    {
     "name": "stdout",
     "output_type": "stream",
     "text": [
      "1\n",
      "(2,)\n"
     ]
    }
   ],
   "source": [
    "# if tuple contains onlu one value then we need to put comma ,\n",
    "# eg\n",
    "tp2=(1)\n",
    "print(tp2) # the result of this line is not a tuple .python engine consider this as an int\n",
    "\n",
    "tp3=(2,) # now this is tuple\n",
    "print(tp3)"
   ]
  },
  {
   "cell_type": "code",
   "execution_count": 17,
   "id": "3bc76a9e",
   "metadata": {},
   "outputs": [
    {
     "name": "stdout",
     "output_type": "stream",
     "text": [
      "5\n"
     ]
    }
   ],
   "source": [
    "# all these functions are same\n",
    "# .len(), .min() , .max() , .\n",
    "print(len(tp))"
   ]
  },
  {
   "cell_type": "code",
   "execution_count": 18,
   "id": "823ddeb7",
   "metadata": {},
   "outputs": [
    {
     "name": "stdout",
     "output_type": "stream",
     "text": [
      "8 1\n",
      "3 10\n"
     ]
    }
   ],
   "source": [
    "# swaping\n",
    "a=1\n",
    "b=8\n",
    "# swaping traditionally\n",
    "temp=a\n",
    "a=b\n",
    "b=temp\n",
    "print(a,b)\n",
    "\n",
    "# swaping in python\n",
    "c=10\n",
    "d=3\n",
    "c,d=d,c\n",
    "print(c,d)"
   ]
  },
  {
   "cell_type": "code",
   "execution_count": null,
   "id": "eed34eec",
   "metadata": {},
   "outputs": [],
   "source": []
  },
  {
   "cell_type": "code",
   "execution_count": null,
   "id": "0dd8e606",
   "metadata": {},
   "outputs": [],
   "source": []
  }
 ],
 "metadata": {
  "kernelspec": {
   "display_name": "Python 3",
   "language": "python",
   "name": "python3"
  },
  "language_info": {
   "codemirror_mode": {
    "name": "ipython",
    "version": 3
   },
   "file_extension": ".py",
   "mimetype": "text/x-python",
   "name": "python",
   "nbconvert_exporter": "python",
   "pygments_lexer": "ipython3",
   "version": "3.8.8"
  }
 },
 "nbformat": 4,
 "nbformat_minor": 5
}
