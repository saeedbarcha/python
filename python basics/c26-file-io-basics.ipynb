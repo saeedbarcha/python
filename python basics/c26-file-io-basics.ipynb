{
 "cells": [
  {
   "cell_type": "code",
   "execution_count": 1,
   "id": "90c6c2b0",
   "metadata": {},
   "outputs": [],
   "source": [
    "# code26\n",
    "# saeed hussain  12/2/2022\n",
    "# file IO basics"
   ]
  },
  {
   "cell_type": "code",
   "execution_count": 6,
   "id": "2cce018f",
   "metadata": {},
   "outputs": [],
   "source": [
    "# file\n",
    "# valutile RAM\n",
    "# non valutile Hard disk\n",
    "# we are storing different thing in non-volutile memory thats are known as file\n",
    "# this file may contains text, binary, image mp2,mp4 we story all these by encoding them\n",
    "# that mp3 or mp4 player can decode that file\n",
    "\n",
    "# we can open file in different mode\n",
    "\n",
    "# \"r\" = read mode => opening file for reading /this is default mode\n",
    "# \"w\" = write mode => opening file for writing\n",
    "# \"x\" = execlusive creation mode => creat file if not exist\n",
    "# \"a\" = append mode => add more content to end of the file\n",
    "# \"t\" = text mode => opening file in text mode/textual form  /this is also default mode\n",
    "# \"b\" = binary mode => opening file in binary form\n",
    "# \"+\" = read and write mode => opening file to update\n"
   ]
  },
  {
   "cell_type": "code",
   "execution_count": null,
   "id": "7bd8b6fc",
   "metadata": {},
   "outputs": [],
   "source": []
  },
  {
   "cell_type": "code",
   "execution_count": null,
   "id": "68c57e47",
   "metadata": {},
   "outputs": [],
   "source": []
  }
 ],
 "metadata": {
  "kernelspec": {
   "display_name": "Python 3",
   "language": "python",
   "name": "python3"
  },
  "language_info": {
   "codemirror_mode": {
    "name": "ipython",
    "version": 3
   },
   "file_extension": ".py",
   "mimetype": "text/x-python",
   "name": "python",
   "nbconvert_exporter": "python",
   "pygments_lexer": "ipython3",
   "version": "3.8.8"
  }
 },
 "nbformat": 4,
 "nbformat_minor": 5
}
