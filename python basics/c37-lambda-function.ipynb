{
 "cells": [
  {
   "cell_type": "code",
   "execution_count": null,
   "id": "4842ba4c",
   "metadata": {},
   "outputs": [],
   "source": [
    "# code37\n",
    "# saeed barcha 20-2-2022\n",
    "# lambda function in python\n",
    "# is alos known as one liner and anonymous function "
   ]
  },
  {
   "cell_type": "code",
   "execution_count": 6,
   "id": "784bd28b",
   "metadata": {},
   "outputs": [
    {
     "name": "stdout",
     "output_type": "stream",
     "text": [
      "24\n",
      "4\n"
     ]
    }
   ],
   "source": [
    "# traditional function\n",
    "def sum(a,b):\n",
    "    return a+b\n",
    "print(sum(12,12))\n",
    "\n",
    "# we can do the above task using lambda function\n",
    "# actually not a function but it act like a function \n",
    "\n",
    "sum1 = lambda a, b: a+b\n",
    "\n",
    "print(sum1(2,2))"
   ]
  },
  {
   "cell_type": "code",
   "execution_count": 8,
   "id": "3373b2b3",
   "metadata": {},
   "outputs": [
    {
     "name": "stdout",
     "output_type": "stream",
     "text": [
      "0\n",
      "0\n"
     ]
    }
   ],
   "source": [
    "# traditional function\n",
    "def sub(a,b):\n",
    "    return a-b\n",
    "print(sub(12,12))\n",
    "\n",
    "# we can do the above task using lambda function\n",
    "# actually not a function but it act like a function \n",
    "\n",
    "sub1 = lambda a, b: a-b\n",
    "\n",
    "print(sub1(2,2))"
   ]
  },
  {
   "cell_type": "code",
   "execution_count": null,
   "id": "98749a4b",
   "metadata": {},
   "outputs": [],
   "source": []
  }
 ],
 "metadata": {
  "kernelspec": {
   "display_name": "Python 3",
   "language": "python",
   "name": "python3"
  },
  "language_info": {
   "codemirror_mode": {
    "name": "ipython",
    "version": 3
   },
   "file_extension": ".py",
   "mimetype": "text/x-python",
   "name": "python",
   "nbconvert_exporter": "python",
   "pygments_lexer": "ipython3",
   "version": "3.8.8"
  }
 },
 "nbformat": 4,
 "nbformat_minor": 5
}
