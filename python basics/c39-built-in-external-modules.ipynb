{
 "cells": [
  {
   "cell_type": "code",
   "execution_count": null,
   "id": "8558b800",
   "metadata": {},
   "outputs": [],
   "source": [
    "# code38\n",
    "# saeed barcha 20-2-2022\n",
    "# Built-in and External modules in python "
   ]
  },
  {
   "cell_type": "code",
   "execution_count": 8,
   "id": "d46b6f0d",
   "metadata": {},
   "outputs": [
    {
     "name": "stdout",
     "output_type": "stream",
     "text": [
      "2\n"
     ]
    }
   ],
   "source": [
    "# built-in modules in python\n",
    "import random\n",
    "# once importing any module in our code\n",
    "# we can use its functiona and also sub modules provided by this module"
   ]
  },
  {
   "cell_type": "code",
   "execution_count": null,
   "id": "fae3798d",
   "metadata": {},
   "outputs": [],
   "source": [
    "# .randint( , ) this will return integer value\n",
    "# to generate a random integer number b/w 0 to 5\n",
    "randNum=random.randint(0,5)\n",
    "print(randNum) # this will show different result at different executions."
   ]
  },
  {
   "cell_type": "code",
   "execution_count": 12,
   "id": "5b172dc3",
   "metadata": {},
   "outputs": [
    {
     "name": "stdout",
     "output_type": "stream",
     "text": [
      "0.09355058450438603\n"
     ]
    }
   ],
   "source": [
    "# .random() this will return float value between 0 and 1\n",
    "randNum1=random.random()\n",
    "print(randNum1) # this will show different result at different executions."
   ]
  },
  {
   "cell_type": "code",
   "execution_count": 13,
   "id": "ee1f4f1d",
   "metadata": {},
   "outputs": [
    {
     "name": "stdout",
     "output_type": "stream",
     "text": [
      "45.566893744763775\n"
     ]
    }
   ],
   "source": [
    "# to generate random float numbers between 0 and 50 \n",
    "randNum2=random.random()*50\n",
    "print(randNum2) # this will show different result at different executions."
   ]
  },
  {
   "cell_type": "code",
   "execution_count": 14,
   "id": "ce4aa913",
   "metadata": {},
   "outputs": [
    {
     "name": "stdout",
     "output_type": "stream",
     "text": [
      "96.1782642232468\n"
     ]
    }
   ],
   "source": [
    "# to generate random float numbers between 0 and 100 \n",
    "randNum3=random.random()*100\n",
    "print(randNum3) # this will show different result at different executions."
   ]
  },
  {
   "cell_type": "code",
   "execution_count": 18,
   "id": "ebf201f0",
   "metadata": {},
   "outputs": [
    {
     "name": "stdout",
     "output_type": "stream",
     "text": [
      "good\n"
     ]
    }
   ],
   "source": [
    "# to chose any value from list \n",
    "# we have a menthd random.choice\n",
    "lst=[\"good\",\"bed\",\"lad\",\"gad\",\"tad\",\"mad\",\"zad\"]\n",
    "\n",
    "print(random.choice(lst)) # this will also give us different values from the list "
   ]
  },
  {
   "cell_type": "code",
   "execution_count": 19,
   "id": "366dbae3",
   "metadata": {},
   "outputs": [],
   "source": [
    "# enternal modules\n",
    "# we have to install thyem first through command prompt or IDE terminal\n",
    "# command \n",
    "# pip install (module name)\n",
    "# we can use any module before installing it\n",
    "\n",
    "# eg to install sklearn\n",
    "# pip install sklearn\n",
    "\n",
    "\n",
    "\n",
    "# ifrst we have to install them and then impornt them in file and the we can use there function and methods provided by them"
   ]
  },
  {
   "cell_type": "code",
   "execution_count": null,
   "id": "0a017c89",
   "metadata": {},
   "outputs": [],
   "source": []
  }
 ],
 "metadata": {
  "kernelspec": {
   "display_name": "Python 3",
   "language": "python",
   "name": "python3"
  },
  "language_info": {
   "codemirror_mode": {
    "name": "ipython",
    "version": 3
   },
   "file_extension": ".py",
   "mimetype": "text/x-python",
   "name": "python",
   "nbconvert_exporter": "python",
   "pygments_lexer": "ipython3",
   "version": "3.8.8"
  }
 },
 "nbformat": 4,
 "nbformat_minor": 5
}
