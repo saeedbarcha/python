{
 "cells": [
  {
   "cell_type": "code",
   "execution_count": 1,
   "id": "df64fe91",
   "metadata": {},
   "outputs": [
    {
     "name": "stdout",
     "output_type": "stream",
     "text": [
      "how to comment in python\n"
     ]
    }
   ],
   "source": [
    "# code7\n",
    "# saeed hussain  24/12/2021\n",
    "# comments,escape sequence & print statement\n",
    "\n",
    "# single line comments\n",
    "# using writing # in starting of the line which we want to comment out\n",
    "# eg\n",
    "#  this is commented line\n",
    "\n",
    "# multiline comment , write triple quotes before and after the commented content\n",
    "\"\"\"\"\n",
    "saeed \n",
    "barcha \n",
    "rahimabdi\n",
    "good\n",
    "to see u\n",
    "\"\"\"\n",
    "# comment after a statement in a single line\n",
    "print(\"how to comment in python\") #this is comment after statement"
   ]
  },
  {
   "cell_type": "code",
   "execution_count": 2,
   "id": "d8375ccd",
   "metadata": {},
   "outputs": [
    {
     "name": "stdout",
     "output_type": "stream",
     "text": [
      "saeed\n",
      "barcha\n",
      "saeedbarcha\n",
      "saeed barcha\n",
      "saeed    barcha\n",
      "saeed.barcha\n",
      "saeed barcha\n",
      "saeed barhca\n"
     ]
    }
   ],
   "source": [
    "\n",
    "#print statements\n",
    "print(\"saeed\")\n",
    "print(\"barcha\")\n",
    "\n",
    "# suppose i dont want to break line between the saeed and barcha \n",
    "print(\"saeed\", end=\"\")\n",
    "print(\"barcha\")\n",
    "\n",
    "# suppose i want to add a single space between the both strings\n",
    "print(\"saeed\", end=\" \")\n",
    "print(\"barcha\")\n",
    "\n",
    "# suppose i want to add a multiple space between the both strings\n",
    "print(\"saeed\", end=\"    \")\n",
    "print(\"barcha\")\n",
    "\n",
    "# suppose i want to add a dot between the both strings\n",
    "print(\"saeed\", end=\".\")\n",
    "print(\"barcha\")\n",
    "\n",
    "# replacing two print statements with one print statement\n",
    "print(\"saeed\", end=\" \")\n",
    "print(\"barcha\")\n",
    "# replace with\n",
    "print(\"saeed\",\"barhca\")"
   ]
  },
  {
   "cell_type": "code",
   "execution_count": 3,
   "id": "354f55b2",
   "metadata": {},
   "outputs": [
    {
     "name": "stdout",
     "output_type": "stream",
     "text": [
      "c:\n",
      "ewfolder\n",
      "c:\\newfolder\n",
      "saeed'barcha'\n",
      "saeed\"barch\"a\n",
      "saeed \\t barch \n"
     ]
    }
   ],
   "source": [
    "# Escape squence caracters\n",
    "# \\n ,\\', \\\" ,\\\\\n",
    "\n",
    "# \\n :> backslash n in between string will consider break line in python. to print \\n in between string we need to write \\\\n\n",
    "print(\"c:\\newfolder\")\n",
    "# this have break the line\n",
    "print(\"c:\\\\newfolder\")\n",
    "\n",
    "# to print single quote\n",
    "print(\"saeed\\'barcha\\'\")\n",
    "\n",
    "# to print double quote\n",
    "print(\"saeed\\\"barch\\\"a\")\n",
    "\n",
    "#to print \\t in between string\n",
    "print(\"saeed \\\\t barch \")"
   ]
  }
 ],
 "metadata": {
  "kernelspec": {
   "display_name": "Python 3",
   "language": "python",
   "name": "python3"
  },
  "language_info": {
   "codemirror_mode": {
    "name": "ipython",
    "version": 3
   },
   "file_extension": ".py",
   "mimetype": "text/x-python",
   "name": "python",
   "nbconvert_exporter": "python",
   "pygments_lexer": "ipython3",
   "version": "3.8.8"
  }
 },
 "nbformat": 4,
 "nbformat_minor": 5
}
