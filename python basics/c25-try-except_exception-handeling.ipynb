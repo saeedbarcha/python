{
 "cells": [
  {
   "cell_type": "code",
   "execution_count": null,
   "id": "0264e417",
   "metadata": {},
   "outputs": [],
   "source": [
    "# code25\n",
    "# saeed hussain  10/2/2022\n",
    "# try except in python"
   ]
  },
  {
   "cell_type": "code",
   "execution_count": 6,
   "id": "fe71a036",
   "metadata": {},
   "outputs": [
    {
     "name": "stdout",
     "output_type": "stream",
     "text": [
      "Enter your first Number:323\n",
      "Enter your second Number:fd\n",
      "invalid literal for int() with base 10: 'fd'\n",
      "\n",
      "these lines are very importent\n"
     ]
    }
   ],
   "source": [
    "# example\n",
    "# these are mostely use when we are requireing any resource from internet\n",
    "# downloading\n",
    "# any internet issue\n",
    "# break down of internet \n",
    "# un availability of any resourse\n",
    "try:\n",
    "# when ever we are entering any string in input this will bring error and stop execution this program\n",
    "    a=int(input(\"Enter your first Number:\"))\n",
    "    b=int(input(\"Enter your second Number:\"))\n",
    "    print(\"the sum of the First and second Number is\",a+b)\n",
    "except Exception as e:\n",
    "    print(e)\n",
    "    \n",
    "# suppose the next lines are vary importent\n",
    "# the above error will stop executing\n",
    "print()\n",
    "print(\"these lines are very importent\")"
   ]
  },
  {
   "cell_type": "code",
   "execution_count": null,
   "id": "b29e4104",
   "metadata": {},
   "outputs": [],
   "source": []
  },
  {
   "cell_type": "code",
   "execution_count": null,
   "id": "9b360d1e",
   "metadata": {},
   "outputs": [],
   "source": []
  }
 ],
 "metadata": {
  "kernelspec": {
   "display_name": "Python 3",
   "language": "python",
   "name": "python3"
  },
  "language_info": {
   "codemirror_mode": {
    "name": "ipython",
    "version": 3
   },
   "file_extension": ".py",
   "mimetype": "text/x-python",
   "name": "python",
   "nbconvert_exporter": "python",
   "pygments_lexer": "ipython3",
   "version": "3.8.8"
  }
 },
 "nbformat": 4,
 "nbformat_minor": 5
}
