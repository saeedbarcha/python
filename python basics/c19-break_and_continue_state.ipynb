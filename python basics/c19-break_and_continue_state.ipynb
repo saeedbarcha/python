{
 "cells": [
  {
   "cell_type": "code",
   "execution_count": 1,
   "id": "b57a7d15",
   "metadata": {},
   "outputs": [],
   "source": [
    "# code19\n",
    "# saeed hussain  8/2/2022\n",
    "# break and continue statement in python "
   ]
  },
  {
   "cell_type": "code",
   "execution_count": 2,
   "id": "b210c9c1",
   "metadata": {},
   "outputs": [],
   "source": [
    "# to stop infinite loop \n",
    "# while infinite loop\n",
    "i=0\n",
    "while(True):\n",
    "#     print(i+1)\n",
    "    if (i==50):\n",
    "        break # this statement will stop the  loop from printing\n",
    "    i=i+1"
   ]
  },
  {
   "cell_type": "code",
   "execution_count": 3,
   "id": "a6814674",
   "metadata": {},
   "outputs": [
    {
     "name": "stdout",
     "output_type": "stream",
     "text": [
      "s\n",
      "a\n",
      "e\n"
     ]
    }
   ],
   "source": [
    "# break statement in for loop\n",
    "for x in \"saeed\":\n",
    "    print(x)\n",
    "    if(x==\"e\"):\n",
    "        break"
   ]
  },
  {
   "cell_type": "code",
   "execution_count": 4,
   "id": "37e7465a",
   "metadata": {},
   "outputs": [
    {
     "name": "stdout",
     "output_type": "stream",
     "text": [
      "ali\n",
      "karim\n",
      "noor\n"
     ]
    }
   ],
   "source": [
    "# for loop in list\n",
    "mylist=[\"ali\",\"karim\",\"noor\",12,100,True,\"aslam\"] \n",
    "for item in mylist:\n",
    "    print(item)\n",
    "    if(item==\"noor\"):\n",
    "        break"
   ]
  },
  {
   "cell_type": "code",
   "execution_count": 5,
   "id": "d557c5fd",
   "metadata": {},
   "outputs": [
    {
     "name": "stdout",
     "output_type": "stream",
     "text": [
      "this is character s\n",
      "this is character a\n",
      "this is character e\n",
      "this is character e\n",
      "this is character d\n",
      "this is character  \n",
      "this is character b\n",
      "this is character a\n",
      "this is character c\n",
      "this is character h\n",
      "this is character a\n"
     ]
    }
   ],
   "source": [
    "# continue statement is use to skip print at certain instance\n",
    "for x in \"saeed barcha\":\n",
    "    if (x==\"r\"):\n",
    "        continue\n",
    "    print (f\"this is character {x}\")"
   ]
  },
  {
   "cell_type": "code",
   "execution_count": null,
   "id": "fe7bf82c",
   "metadata": {},
   "outputs": [],
   "source": []
  },
  {
   "cell_type": "code",
   "execution_count": null,
   "id": "3ec537c7",
   "metadata": {},
   "outputs": [],
   "source": []
  }
 ],
 "metadata": {
  "kernelspec": {
   "display_name": "Python 3",
   "language": "python",
   "name": "python3"
  },
  "language_info": {
   "codemirror_mode": {
    "name": "ipython",
    "version": 3
   },
   "file_extension": ".py",
   "mimetype": "text/x-python",
   "name": "python",
   "nbconvert_exporter": "python",
   "pygments_lexer": "ipython3",
   "version": "3.8.8"
  }
 },
 "nbformat": 4,
 "nbformat_minor": 5
}
