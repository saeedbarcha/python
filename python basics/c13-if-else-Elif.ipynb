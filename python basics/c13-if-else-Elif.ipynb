{
 "cells": [
  {
   "cell_type": "code",
   "execution_count": 1,
   "id": "154231bc",
   "metadata": {},
   "outputs": [],
   "source": [
    "# code13\n",
    "# saeed hussain  29/12/2021\n",
    "# if-else and else-if in python\n",
    "\n",
    "# input(\"prompt\") this is the propmt in python"
   ]
  },
  {
   "cell_type": "code",
   "execution_count": 2,
   "id": "18ef19f8",
   "metadata": {},
   "outputs": [
    {
     "name": "stdout",
     "output_type": "stream",
     "text": [
      "Enter your number:12\n",
      "Number is less then 12\n"
     ]
    }
   ],
   "source": [
    "# if else\n",
    "a=12;\n",
    "b=50;\n",
    "c=int(input(\"Enter your number:\"))\n",
    "\n",
    "if a<c:\n",
    "    print(\"Greater then 12\")\n",
    "else:\n",
    "    print(\"Number is less then 12\")\n",
    "    "
   ]
  },
  {
   "cell_type": "code",
   "execution_count": 3,
   "id": "46dd375e",
   "metadata": {},
   "outputs": [
    {
     "name": "stdout",
     "output_type": "stream",
     "text": [
      "Enter second number:2121\n",
      "Greater then 10\n",
      "Number is less then 30\n"
     ]
    }
   ],
   "source": [
    "#multiple if if if\n",
    "# drawback of multiple if is read every from if-else slider\n",
    "a1=12;\n",
    "c1=int(input(\"Enter second number:\"))\n",
    "\n",
    "if c1>30:\n",
    "    print(\"Greater then 10\")\n",
    "if c1==30:\n",
    "    print(\"Equal to 30\")\n",
    "else:\n",
    "    print(\"Number is less then 30\")\n",
    "    "
   ]
  },
  {
   "cell_type": "code",
   "execution_count": 4,
   "id": "88aebb1b",
   "metadata": {},
   "outputs": [
    {
     "name": "stdout",
     "output_type": "stream",
     "text": [
      "Enter second number:2121\n",
      "Greater then 30\n"
     ]
    }
   ],
   "source": [
    "#elif\n",
    "# drawback of multiple if is read every from if-else slider\n",
    "a2=12;\n",
    "c2=int(input(\"Enter second number:\"))\n",
    "\n",
    "if c2>30:\n",
    "    print(\"Greater then 30\")\n",
    "elif c2==30:\n",
    "    print(\"Equal to 30\")\n",
    "else:\n",
    "    print(\"Number is less then 30\")"
   ]
  },
  {
   "cell_type": "code",
   "execution_count": 5,
   "id": "611ca703",
   "metadata": {},
   "outputs": [
    {
     "name": "stdout",
     "output_type": "stream",
     "text": [
      "True\n",
      "yes 22 is in the list\n"
     ]
    }
   ],
   "source": [
    "# in operater in python\n",
    "\n",
    "list1=[11,22,33,44,55,66,77,]\n",
    "\n",
    "print(11 in list1) # in operater returns value in boolean form\n",
    "\n",
    "if 22 in list1:\n",
    "    print(\"yes 22 is in the list\")\n",
    "else:\n",
    "    print(\"no 22 is not in the list\")"
   ]
  },
  {
   "cell_type": "code",
   "execution_count": 6,
   "id": "ec22d8e1",
   "metadata": {},
   "outputs": [
    {
     "name": "stdout",
     "output_type": "stream",
     "text": [
      "False\n",
      "no 22 is in the list2\n"
     ]
    }
   ],
   "source": [
    "# not in operater in python\n",
    "\n",
    "list2=[11,22,33,44,55,66,77,]\n",
    "\n",
    "print(11 not in list2) # not in operater returns value in boolean form\n",
    "\n",
    "if 22 not in list2:\n",
    "    print(\"yes 22 is not in the list2\")\n",
    "else:\n",
    "    print(\"no 22 is in the list2\")"
   ]
  },
  {
   "cell_type": "code",
   "execution_count": 7,
   "id": "36446c80",
   "metadata": {},
   "outputs": [
    {
     "name": "stdout",
     "output_type": "stream",
     "text": [
      "Enter your Age:21\n",
      "you can drive\n"
     ]
    }
   ],
   "source": [
    "# quick quiz \n",
    "\n",
    "age=int(input(\"Enter your Age:\"))\n",
    "\n",
    "if age>18:\n",
    "    print(\"you can drive\")\n",
    "elif age==18:\n",
    "    print(\"we can think about you\")\n",
    "else:\n",
    "    print(\"No your are too young now\")"
   ]
  }
 ],
 "metadata": {
  "kernelspec": {
   "display_name": "Python 3",
   "language": "python",
   "name": "python3"
  },
  "language_info": {
   "codemirror_mode": {
    "name": "ipython",
    "version": 3
   },
   "file_extension": ".py",
   "mimetype": "text/x-python",
   "name": "python",
   "nbconvert_exporter": "python",
   "pygments_lexer": "ipython3",
   "version": "3.8.8"
  }
 },
 "nbformat": 4,
 "nbformat_minor": 5
}
