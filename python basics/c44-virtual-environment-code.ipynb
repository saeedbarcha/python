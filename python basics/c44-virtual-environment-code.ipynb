{
 "cells": [
  {
   "cell_type": "code",
   "execution_count": null,
   "id": "420fdecc",
   "metadata": {},
   "outputs": [],
   "source": [
    "# code 44\n",
    "# saeed barcha 27/02/2022\n",
    "# virtual environment in python"
   ]
  },
  {
   "cell_type": "code",
   "execution_count": null,
   "id": "4a4c036c",
   "metadata": {},
   "outputs": [],
   "source": [
    "# we need to make a virtual environment   \n",
    "# because the packages powered by python is change time to time\n",
    "# if we are working and develop some thing in a version and it will not work in another version it is just becaues of the updations in the python packages and modules\n",
    "\n",
    "# updation and deprecation"
   ]
  },
  {
   "cell_type": "code",
   "execution_count": null,
   "id": "3eb75b9d",
   "metadata": {},
   "outputs": [],
   "source": [
    "# steps to make virtual environment\n",
    "\n",
    "# create a folder\n",
    "# open a folder\n",
    "# press shift and righ inside it\n",
    "# select open withwindow shell option\n",
    "# this folder willopen in window cmd shell\n",
    "# write pip install virtualenv  #this will install virtualenv #this is a package\n",
    "# to create virtual env> virtualenv saeed #inside this folder new folder named with saeed will create which contains sub modules and packages."
   ]
  },
  {
   "cell_type": "code",
   "execution_count": null,
   "id": "45e46303",
   "metadata": {},
   "outputs": [],
   "source": [
    "# cmd> virtualenv # this command will show all the packages provided by the virtualenv package\n",
    "# cmd> --version this will show the version on the virtualenv package"
   ]
  },
  {
   "cell_type": "code",
   "execution_count": null,
   "id": "d71a42ac",
   "metadata": {},
   "outputs": [],
   "source": []
  }
 ],
 "metadata": {
  "kernelspec": {
   "display_name": "Python 3",
   "language": "python",
   "name": "python3"
  },
  "language_info": {
   "codemirror_mode": {
    "name": "ipython",
    "version": 3
   },
   "file_extension": ".py",
   "mimetype": "text/x-python",
   "name": "python",
   "nbconvert_exporter": "python",
   "pygments_lexer": "ipython3",
   "version": "3.8.8"
  }
 },
 "nbformat": 4,
 "nbformat_minor": 5
}
