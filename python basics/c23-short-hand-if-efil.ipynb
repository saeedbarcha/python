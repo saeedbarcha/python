{
 "cells": [
  {
   "cell_type": "code",
   "execution_count": null,
   "id": "07c067e2",
   "metadata": {},
   "outputs": [],
   "source": [
    "# code23\n",
    "# saeed hussain  10/2/2022\n",
    "# short hand of if and elif python"
   ]
  },
  {
   "cell_type": "code",
   "execution_count": 3,
   "id": "844ce2f2",
   "metadata": {},
   "outputs": [
    {
     "name": "stdout",
     "output_type": "stream",
     "text": [
      "b is greater then a\n"
     ]
    }
   ],
   "source": [
    "# normal if statement\n",
    "a=12\n",
    "b=21\n",
    "\n",
    "if b>a:\n",
    "    print(\"b is greater then a\")"
   ]
  },
  {
   "cell_type": "code",
   "execution_count": 4,
   "id": "a74cf624",
   "metadata": {},
   "outputs": [
    {
     "name": "stdout",
     "output_type": "stream",
     "text": [
      "b is greater then a\n"
     ]
    }
   ],
   "source": [
    "# if statement in single line\n",
    "if b>a: print(\"b is greater then a\")"
   ]
  },
  {
   "cell_type": "code",
   "execution_count": 6,
   "id": "f1bc200b",
   "metadata": {},
   "outputs": [
    {
     "name": "stdout",
     "output_type": "stream",
     "text": [
      "a1 is less then b1\n"
     ]
    }
   ],
   "source": [
    "# normal if else\n",
    "a1=1\n",
    "b1=21\n",
    "if a1<b1:\n",
    "        print(\"a1 is less then b1\")\n",
    "else:\n",
    "    print(\"b1 is less then a1\")"
   ]
  },
  {
   "cell_type": "code",
   "execution_count": 12,
   "id": "8bc8118a",
   "metadata": {},
   "outputs": [
    {
     "name": "stdout",
     "output_type": "stream",
     "text": [
      "b1 is less then a1\n"
     ]
    }
   ],
   "source": [
    "# short hand of if else\n",
    "# first print statement will print when if statement returns true . And else statement will print when if return false.\n",
    "# the last print statement will print\n",
    "\n",
    "print(\"b1 is less then a1\") if a1>b1 else print(\"a1 is less then b1\")\n",
    "\n",
    " "
   ]
  },
  {
   "cell_type": "code",
   "execution_count": null,
   "id": "1a9b9284",
   "metadata": {},
   "outputs": [],
   "source": []
  }
 ],
 "metadata": {
  "kernelspec": {
   "display_name": "Python 3",
   "language": "python",
   "name": "python3"
  },
  "language_info": {
   "codemirror_mode": {
    "name": "ipython",
    "version": 3
   },
   "file_extension": ".py",
   "mimetype": "text/x-python",
   "name": "python",
   "nbconvert_exporter": "python",
   "pygments_lexer": "ipython3",
   "version": "3.8.8"
  }
 },
 "nbformat": 4,
 "nbformat_minor": 5
}
