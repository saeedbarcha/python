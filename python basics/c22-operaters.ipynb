{
 "cells": [
  {
   "cell_type": "code",
   "execution_count": 1,
   "id": "3b668f20",
   "metadata": {},
   "outputs": [],
   "source": [
    "# code22\n",
    "# saeed hussain  8/2/2022\n",
    "# operaters in python"
   ]
  },
  {
   "cell_type": "code",
   "execution_count": 2,
   "id": "5b64786f",
   "metadata": {},
   "outputs": [],
   "source": [
    "# types of operaters in python\n",
    "# Arthematic operaters\n",
    "# Assignment operaters\n",
    "# comparision operaters\n",
    "# logical operaters\n",
    "# identity operaters\n",
    "# membership operaters\n",
    "# bitwise operaters"
   ]
  },
  {
   "cell_type": "code",
   "execution_count": 3,
   "id": "a8c0e323",
   "metadata": {},
   "outputs": [
    {
     "name": "stdout",
     "output_type": "stream",
     "text": [
      "5+6 ans is: 11\n",
      "5-6 ans is: -1\n",
      "5*6 ans is: 30\n",
      "5**3 ans is: 125\n",
      "5/6 ans is: 0.8333333333333334\n",
      "6%5 ans is: 1\n",
      "15//6 ans is: 2\n"
     ]
    }
   ],
   "source": [
    "# Arthematic operaters\n",
    "print (\"5+6 ans is:\" , 5+6) # + addition operater\n",
    "print (\"5-6 ans is:\" , 5-6) # - substraction operater \n",
    "print (\"5*6 ans is:\" , 5*6) # * Multiplication operater\n",
    "print (\"5**3 ans is:\" , 5**3) # ** exponentail operater (5 to the power 3)\n",
    "print (\"5/6 ans is:\" , 5/6) # / Division operater \n",
    "print (\"6%5 ans is:\" , 6%5) # % modulus operater return's remainder value after performing division\n",
    "print (\"15//6 ans is:\" , 15//6) # // floor division operater gives result in integer form by removing values after point"
   ]
  },
  {
   "cell_type": "code",
   "execution_count": 4,
   "id": "4f6fa6cc",
   "metadata": {},
   "outputs": [
    {
     "name": "stdout",
     "output_type": "stream",
     "text": [
      "12\n",
      "15\n",
      "12\n",
      "4.0\n",
      "12.0\n",
      "0.0\n",
      "0.0\n",
      "0.0\n"
     ]
    }
   ],
   "source": [
    "# Assignment operaters => use to assigning values to a variable\n",
    "a=12\n",
    "print(a)\n",
    "\n",
    "a +=3 # this is equal to a=a+3\n",
    "print (a)\n",
    "\n",
    "a -=3 # this is equal to a=a-3\n",
    "print (a)\n",
    "\n",
    "\n",
    "a /=3 # this is equal to a=a/3\n",
    "print (a)\n",
    "\n",
    "\n",
    "a *=3 # this is equal to a=a*3\n",
    "print (a)\n",
    "\n",
    "\n",
    "a %=3 # this is equal to a=a%3\n",
    "print (a)\n",
    "\n",
    "a //=3 # this is equal to a=a//3\n",
    "print (a)\n",
    "a **=3 # this is equal to a=a**3\n",
    "print (a)"
   ]
  },
  {
   "cell_type": "code",
   "execution_count": 5,
   "id": "236829f3",
   "metadata": {},
   "outputs": [
    {
     "name": "stdout",
     "output_type": "stream",
     "text": [
      "True\n",
      "False\n",
      "False\n",
      "True\n",
      "False\n",
      "True\n"
     ]
    }
   ],
   "source": [
    "# comparision operaters  compair tow values and  return boolean value (True and False )\n",
    "\n",
    "b=4\n",
    "print(b==4) #== equal to equal to sign operater to compair two values\n",
    "print(b!=4) #!= not equal to equal to sign operater to com\n",
    "\n",
    "print(b>4) #> greater then sign to compair two values\n",
    "print(b>=4) #>= greater then or equal to sign to compair two values\n",
    "\n",
    "print(b<4) #< less then sign to compair two values\n",
    "print(b<=4) #<= less then or equal to sign to compair two values\n",
    "\n",
    "\n"
   ]
  },
  {
   "cell_type": "code",
   "execution_count": 6,
   "id": "db3df492",
   "metadata": {},
   "outputs": [
    {
     "name": "stdout",
     "output_type": "stream",
     "text": [
      "False\n",
      "True\n",
      "True\n",
      "True\n"
     ]
    }
   ],
   "source": [
    "# logical operaters \n",
    "\n",
    "aa=True\n",
    "bb=False\n",
    "bb1=True\n",
    "\n",
    "\n",
    "# logical And operater (returns true if and only-if all the conditions return true)\n",
    "print(aa and bb) #return False\n",
    "print(aa and bb1) #return True becaue both are true\n",
    "\n",
    "# logical or operater (returns true if any of single or all the conditions are true)\n",
    "print(aa or bb) #return True\n",
    "print(aa or bb1) #return True becaue both are true\n"
   ]
  },
  {
   "cell_type": "code",
   "execution_count": 7,
   "id": "59e5b705",
   "metadata": {},
   "outputs": [
    {
     "name": "stdout",
     "output_type": "stream",
     "text": [
      "False\n",
      "True\n",
      "True\n",
      "False\n"
     ]
    },
    {
     "name": "stderr",
     "output_type": "stream",
     "text": [
      "<>:4: SyntaxWarning: \"is\" with a literal. Did you mean \"==\"?\n",
      "<>:5: SyntaxWarning: \"is\" with a literal. Did you mean \"==\"?\n",
      "<>:8: SyntaxWarning: \"is not\" with a literal. Did you mean \"!=\"?\n",
      "<>:9: SyntaxWarning: \"is not\" with a literal. Did you mean \"!=\"?\n",
      "<>:4: SyntaxWarning: \"is\" with a literal. Did you mean \"==\"?\n",
      "<>:5: SyntaxWarning: \"is\" with a literal. Did you mean \"==\"?\n",
      "<>:8: SyntaxWarning: \"is not\" with a literal. Did you mean \"!=\"?\n",
      "<>:9: SyntaxWarning: \"is not\" with a literal. Did you mean \"!=\"?\n",
      "<ipython-input-7-de5a7f9dd835>:4: SyntaxWarning: \"is\" with a literal. Did you mean \"==\"?\n",
      "  print(2 is 3) #(2 == 3) this will return false it is because of 2 is not 3\n",
      "<ipython-input-7-de5a7f9dd835>:5: SyntaxWarning: \"is\" with a literal. Did you mean \"==\"?\n",
      "  print(2 is 2) # (2 == 3)  this will return True it is because of 2 is 2\n",
      "<ipython-input-7-de5a7f9dd835>:8: SyntaxWarning: \"is not\" with a literal. Did you mean \"!=\"?\n",
      "  print(2 is not 4) #(2 != 4)  # return true  is because of 2 is not 4 its 2\n",
      "<ipython-input-7-de5a7f9dd835>:9: SyntaxWarning: \"is not\" with a literal. Did you mean \"!=\"?\n",
      "  print(2 is not 2) # (2 != 2)return False  is because of 2 is 2\n"
     ]
    }
   ],
   "source": [
    "# identity operaters (return True or False) is and is not\n",
    "\n",
    "# is\n",
    "print(2 is 3) #(2 == 3) this will return false it is because of 2 is not 3\n",
    "print(2 is 2) # (2 == 3)  this will return True it is because of 2 is 2\n",
    "\n",
    "# is not\n",
    "print(2 is not 4) #(2 != 4)  # return true  is because of 2 is not 4 its 2\n",
    "print(2 is not 2) # (2 != 2)return False  is because of 2 is 2 \n",
    "\n"
   ]
  },
  {
   "cell_type": "code",
   "execution_count": 8,
   "id": "ce844e1d",
   "metadata": {},
   "outputs": [
    {
     "name": "stdout",
     "output_type": "stream",
     "text": [
      "True\n",
      "False\n",
      "False\n",
      "True\n",
      "\n",
      " True\n",
      "False\n",
      "\n",
      " False\n",
      "True\n"
     ]
    }
   ],
   "source": [
    "# membership operaters (this will return True if the searching element is the member of the main element)\n",
    "# list containt\n",
    "list1=[\"saeed\", \"noor\" ,\"khan\" ,\"ali\",1,3,4,55,66,0,11]\n",
    "print(\"saeed\" in list1) # this will return True it is just because of the word \"saeed\" is present in the list\n",
    "print(\"asad\" in list1) # this will return False it is just because of the word \"asad\" is not present in the list\n",
    "\n",
    "print(\"saeed\" not in list1) # this will return False it is just because of the word \"saeed\" is present in the list\n",
    "print(\"asad\" not in list1) # this will return True it is just because of the word \"asad\" is not present in the list\n",
    "\n",
    "# for tuple\n",
    "tup=(1,2,3,4,5,6,7,55,4444)\n",
    "print(\"\\n\",1 in tup)\n",
    "print(11 in tup)\n",
    "\n",
    "print(\"\\n\",1 not in tup)\n",
    "print(11 not in tup)"
   ]
  },
  {
   "cell_type": "code",
   "execution_count": 9,
   "id": "2267d63a",
   "metadata": {},
   "outputs": [
    {
     "name": "stdout",
     "output_type": "stream",
     "text": [
      "1\n",
      "\n",
      "0\n",
      "1\n",
      "\n",
      "3\n"
     ]
    }
   ],
   "source": [
    "# bitwise operaters(operaters working on the bits 0 and 1)\n",
    "# convert into 0 and 1 then apply and or not operations\n",
    "\n",
    "# 0  00\n",
    "# 1  01\n",
    "# 2  10\n",
    "# 3  11\n",
    "# 4  101\n",
    "\n",
    "# bitwise and operater &\n",
    "#     01\n",
    "#     01\n",
    "# ans 01 =1\n",
    "print(1 & 1) # return 1\n",
    "print()\n",
    "\n",
    "#     10\n",
    "#     01  \n",
    "# ans 00 =0\n",
    "print(2 & 1) # return 0\n",
    "\n",
    "\n",
    "# bitwise 0r operater |\n",
    "#     01\n",
    "#     01\n",
    "# ans 01 =1\n",
    "print(1 | 1) # return 1\n",
    "print()\n",
    "\n",
    "#     10\n",
    "#     01\n",
    "# ans 11 =3\n",
    "print(2 | 1) # return 3"
   ]
  },
  {
   "cell_type": "code",
   "execution_count": null,
   "id": "eed17d12",
   "metadata": {},
   "outputs": [],
   "source": []
  }
 ],
 "metadata": {
  "kernelspec": {
   "display_name": "Python 3",
   "language": "python",
   "name": "python3"
  },
  "language_info": {
   "codemirror_mode": {
    "name": "ipython",
    "version": 3
   },
   "file_extension": ".py",
   "mimetype": "text/x-python",
   "name": "python",
   "nbconvert_exporter": "python",
   "pygments_lexer": "ipython3",
   "version": "3.8.8"
  }
 },
 "nbformat": 4,
 "nbformat_minor": 5
}
