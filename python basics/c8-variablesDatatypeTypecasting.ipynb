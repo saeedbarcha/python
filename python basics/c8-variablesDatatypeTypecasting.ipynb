{
 "cells": [
  {
   "cell_type": "code",
   "execution_count": 1,
   "id": "f910e92f",
   "metadata": {},
   "outputs": [
    {
     "name": "stdout",
     "output_type": "stream",
     "text": [
      "saeed 22 34.99 True\n"
     ]
    }
   ],
   "source": [
    "# code8\n",
    "# saeed hussain  25/12/2021\n",
    "# variables , Datatypes , typecasting and taking input from user input()\n",
    "\n",
    "\n",
    "# variable\n",
    "# variable is a container/placeholder in which we can store a value\n",
    "\n",
    "var1=\"saeed\" #string variable\n",
    "var2=22 #int variable\n",
    "var3=34.99 #float variable\n",
    "var4=True #boolean variable\n",
    "\n",
    "print(var1 , var2 , var3 ,var4)"
   ]
  },
  {
   "cell_type": "code",
   "execution_count": 2,
   "id": "5605a79b",
   "metadata": {},
   "outputs": [
    {
     "name": "stdout",
     "output_type": "stream",
     "text": [
      "Datatype of the name variable is: <class 'str'>\n",
      "Datatype of the age variable is: <class 'int'>\n",
      "Datatype of the height variable is: <class 'float'>\n",
      "Datatype of the male variable is: <class 'bool'>\n"
     ]
    }
   ],
   "source": [
    "#Datatype\n",
    "#type of data store in avariable is called datatype\n",
    "#we can find datatype of any variable through type() method\n",
    "name=\"saeed\"\n",
    "na2=\"barcha\"\n",
    "age=222\n",
    "height=34.55\n",
    "male=True\n",
    "\n",
    "print(\"Datatype of the name variable is:\",type(name))\n",
    "print(\"Datatype of the age variable is:\",type(age))\n",
    "print(\"Datatype of the height variable is:\",type(height))\n",
    "print(\"Datatype of the male variable is:\",type(male))"
   ]
  },
  {
   "cell_type": "code",
   "execution_count": 3,
   "id": "ee2ec843",
   "metadata": {},
   "outputs": [
    {
     "name": "stdout",
     "output_type": "stream",
     "text": [
      "256.55\n"
     ]
    }
   ],
   "source": [
    "#applying methematical operations on variable \n",
    "print(age+height)"
   ]
  },
  {
   "cell_type": "code",
   "execution_count": 4,
   "id": "d4ef7fff",
   "metadata": {},
   "outputs": [],
   "source": [
    "#this will cause an error it is just because of the different datatypes\n",
    "# adding string and int variable\n",
    "# print(name+age)"
   ]
  },
  {
   "cell_type": "code",
   "execution_count": 5,
   "id": "4b560133",
   "metadata": {},
   "outputs": [
    {
     "name": "stdout",
     "output_type": "stream",
     "text": [
      "saeedbarcha\n",
      "saeed barcha\n",
      "<class 'str'>\n",
      "<class 'str'>\n",
      "343\n",
      "34 3\n",
      "python is very instresting and easy programming languagepython is very instresting and easy programming languagepython is very instresting and easy programming language\n",
      "hello world\n",
      "hello world\n",
      "hello world\n",
      "hello world\n",
      "\n",
      "python is very instresting and easy programming language\n",
      "python is very instresting and easy programming language\n",
      "python is very instresting and easy programming language\n",
      "\n",
      "300\n",
      "100100100\n"
     ]
    }
   ],
   "source": [
    "# adding (concatenating) string  variable\n",
    "firstName=\"saeed\"\n",
    "secondName=\"barcha\"\n",
    "print(firstName + secondName) # this will continate both strings\n",
    "\n",
    "# to add free space b/w the strings\n",
    "print(firstName +\" \"+ secondName) # this will continate both strings\n",
    "\n",
    "# add to variable which containg numbers but datatype is string\n",
    "# eg\n",
    "str1=\"34\"\n",
    "str2=\"3\"\n",
    "\n",
    "print(type(str1))\n",
    "print(type(str2))\n",
    "\n",
    "# if we add these both str1 and str2 python engine will concatenate them\n",
    "print(str1+str2 )\n",
    "\n",
    "# to add these type of variable we need to change the type of variable first and then add them\n",
    "print(int(str1),int(str2))\n",
    "\n",
    "# to print string variable multiple times \n",
    "strsent=\"python is very instresting and easy programming language\"\n",
    "print(3* strsent)\n",
    "print(4* \"hello world\\n\")\n",
    "\n",
    "# to start every sentance from new line\n",
    "# we have to add \\n in the end of the string\n",
    "strsent2=\"python is very instresting and easy programming language\\n\"\n",
    "print(3* strsent2)\n",
    "\n",
    "# to print int variable multiple times \n",
    "varNum=100 \n",
    "print(3* varNum) #this case 3 will multiply with  value of varNum variable\n",
    "\n",
    "# to print this varNum variable multiple tiles we need to type cast it into string first\n",
    "print (3* str(varNum))"
   ]
  },
  {
   "cell_type": "code",
   "execution_count": 6,
   "id": "db92bcb1",
   "metadata": {},
   "outputs": [
    {
     "name": "stdout",
     "output_type": "stream",
     "text": [
      "these are all typecasting functions\n"
     ]
    }
   ],
   "source": [
    "# functions for typecasting\n",
    "# int()    to convert into integer\n",
    "# float()  to convert into float\n",
    "# str()    to convert in to string\n",
    "# bool()   to comnvert into boolean\n",
    "print(\"these are all typecasting functions\")"
   ]
  },
  {
   "cell_type": "code",
   "execution_count": 7,
   "id": "5adae76c",
   "metadata": {},
   "outputs": [
    {
     "name": "stdout",
     "output_type": "stream",
     "text": [
      "Enter your first Number\n",
      "2\n",
      "Your first Number is : 2\n",
      "Enter your second Number\n",
      "2\n",
      "Your first second is : 2\n",
      "22 :concatenate \n",
      "4  :added both integers\n"
     ]
    }
   ],
   "source": [
    "# taking input from user\n",
    "# task1: create a calculater which takes 2 numbers from user and add them\n",
    "print(\"Enter your first Number\")\n",
    "fnum=input()\n",
    "print(\"Your first Number is :\",fnum)\n",
    "\n",
    "print(\"Enter your second Number\")\n",
    "snum=input()\n",
    "print(\"Your first second is :\",snum)\n",
    "\n",
    "print(fnum+snum +\" :concatenate \") #python will alwasy recieve input from the user in string. whatever we are entering it will consider it as a string\n",
    "#  to find the correct result by adding the we need to typecast the first it into int\n",
    "print(int(fnum)+int(snum),\" :added both integers\") \n"
   ]
  }
 ],
 "metadata": {
  "kernelspec": {
   "display_name": "Python 3",
   "language": "python",
   "name": "python3"
  },
  "language_info": {
   "codemirror_mode": {
    "name": "ipython",
    "version": 3
   },
   "file_extension": ".py",
   "mimetype": "text/x-python",
   "name": "python",
   "nbconvert_exporter": "python",
   "pygments_lexer": "ipython3",
   "version": "3.8.8"
  }
 },
 "nbformat": 4,
 "nbformat_minor": 5
}
