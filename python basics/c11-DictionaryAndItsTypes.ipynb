{
 "cells": [
  {
   "cell_type": "code",
   "execution_count": 1,
   "id": "90189209",
   "metadata": {},
   "outputs": [],
   "source": [
    "# code11\n",
    "# saeed hussain  29/12/2021\n",
    "# Dictionary and its built-in functions \n",
    "# we can assign boolean, int ,float ,string to naming key in the Dictionary\n",
    "# eg\n"
   ]
  },
  {
   "cell_type": "code",
   "execution_count": 2,
   "id": "073141e2",
   "metadata": {},
   "outputs": [
    {
     "name": "stdout",
     "output_type": "stream",
     "text": [
      "boolean key value\n",
      "float key value\n",
      "int key value\n",
      "character key value\n",
      "string key valuec\n"
     ]
    }
   ],
   "source": [
    "\n",
    "dictMixed={True:\"boolean key value\" , 12.2:\"float key value\" , 21:\"int key value\" , \"address\":\"string key valuec\", 'c':\"character key value\"}\n",
    "print(dictMixed[True])\n",
    "print(dictMixed[12.2])\n",
    "print(dictMixed[21])\n",
    "print(dictMixed['c'])\n",
    "print(dictMixed[\"address\"])"
   ]
  },
  {
   "cell_type": "code",
   "execution_count": 3,
   "id": "cb485325",
   "metadata": {},
   "outputs": [
    {
     "name": "stdout",
     "output_type": "stream",
     "text": [
      "{'saeed': 'fruit', 'Ali': 'meet', 'Noor': 'junk food', 'Karim': 'papat'}\n",
      "<class 'dict'>\n"
     ]
    }
   ],
   "source": [
    "# we can store key-value pairs in Dictionary.\n",
    "dict1={\"saeed\":\"fruit\" , \"Ali\":\"meet\" , \"Noor\":\"junk food\" , \"Karim\":\"papat\"}\n",
    "# accessing values from dictionary\n",
    "print(dict1)\n",
    "# an empty dictionary\n",
    "empDict={}\n",
    "print(type(empDict))"
   ]
  },
  {
   "cell_type": "code",
   "execution_count": 4,
   "id": "6665c674",
   "metadata": {},
   "outputs": [
    {
     "name": "stdout",
     "output_type": "stream",
     "text": [
      "{'saeed': 'fruit', 'Ali': 'meet', 'Noor': 'junk food', 'Karim': 'papat', 'Aleen': 'nashpati'}\n",
      "{'saeed': 'fruit', 'Ali': 'meet', 'Noor': 'junk food', 'Karim': 'papat', 'Aleen': 'nashpati', 'kiran': 'kigan kanjilani'}\n",
      "junk food\n",
      "junk food\n"
     ]
    }
   ],
   "source": [
    "dic={\"saeed\":\"fruit\" , \"Ali\":\"meet\" , \"Noor\":\"junk food\" , \"Karim\":\"papat\"}\n",
    "# we can assign values to dictionary\n",
    "dic[\"Aleen\"]=\"nashpati\"\n",
    "print(dic)\n",
    "# .update() is use to insert key value pair in the dixtionary\n",
    "dic.update({\"kiran\":\"kigan kanjilani\"})\n",
    "print(dic)\n",
    "\n",
    "# accessing values\n",
    "print(dic[\"Noor\"])\n",
    "# .get() this function is ues to access values from thr dictionary\n",
    "print(dic.get(\"Noor\"))"
   ]
  },
  {
   "cell_type": "code",
   "execution_count": 5,
   "id": "a081cbfb",
   "metadata": {
    "scrolled": true
   },
   "outputs": [
    {
     "name": "stdout",
     "output_type": "stream",
     "text": [
      "{'saeed': 'fruit', 'Ali': 'meet', 'Noor': 'junk food', 'Karim': 'papat', 'naseem': {'morning': 'frest cake', 'lunch': 'rice', 'dinner': 'meeto'}}\n",
      "rice\n"
     ]
    }
   ],
   "source": [
    "# we can store dictionary in side a dictionary\n",
    "dict2={\"saeed\":\"fruit\" , \"Ali\":\"meet\" , \"Noor\":\"junk food\" , \"Karim\":\"papat\" , \"naseem\":{\"morning\":\"frest cake\" , \"lunch\":\"rice\" , \"dinner\":\"meeto\"}}\n",
    "print(dict2)\n",
    "\n",
    "# accessing values from nested dictionary\n",
    "print(dict2[\"naseem\"][\"lunch\"])\n"
   ]
  },
  {
   "cell_type": "code",
   "execution_count": 6,
   "id": "9cb125b1",
   "metadata": {},
   "outputs": [
    {
     "name": "stdout",
     "output_type": "stream",
     "text": [
      "{1: 'first', 2: 'second', 3: 'three', 4: 'four'}\n"
     ]
    }
   ],
   "source": [
    "d3={1:\"first\" , 2:\"second\" , 3:\"three\" , 4:\"four\"}\n",
    "print(d3)"
   ]
  },
  {
   "cell_type": "code",
   "execution_count": 7,
   "id": "82350019",
   "metadata": {},
   "outputs": [
    {
     "name": "stdout",
     "output_type": "stream",
     "text": [
      "{1: 'one', 2: 'two', 3: 'three', 4: 'four'}\n",
      "{2: 'two', 3: 'three', 4: 'four'}\n"
     ]
    }
   ],
   "source": [
    "# del keyword is used to delete single key value pair or whole dictionary\n",
    "delDic={1:\"one\" , 2:\"two\" , 3:\"three\" , 4:\"four\"}\n",
    "print(delDic)\n",
    "# del delDic # to delete whole dictionary\n",
    "# del delDic # to delete key 2 from delDic dictionary\n",
    "del delDic[1]\n",
    "print(delDic)\n"
   ]
  },
  {
   "cell_type": "code",
   "execution_count": 8,
   "id": "5ca0d1f0",
   "metadata": {},
   "outputs": [
    {
     "name": "stdout",
     "output_type": "stream",
     "text": [
      "{1: 'first', 2: 'second', 3: 'three', 4: 'four'}\n",
      "{1: 'first', 2: 'second', 3: 'three', 4: 'four', 'nasreen': 123}\n"
     ]
    }
   ],
   "source": [
    "# suppose i want all key values in an other dectionary\n",
    "# direct assigning to newly formed variable\n",
    "d4=d3\n",
    "print(d4)\n",
    "# if we modified the d4 dictionary , the d3 dictionary will automatically modified\n",
    "# eg\n",
    "d4[\"nasreen\"]=123\n",
    "print(d3)"
   ]
  },
  {
   "cell_type": "code",
   "execution_count": 9,
   "id": "0b68ddd6",
   "metadata": {},
   "outputs": [
    {
     "name": "stdout",
     "output_type": "stream",
     "text": [
      "{'goat': '4 legs', 'hen': '2 legs', 'cow': 'for legs'}\n",
      "{'goat': '4 legs', 'hen': '2 legs', 'cow': 'for legs', 'frog': 'for legs'}\n"
     ]
    }
   ],
   "source": [
    "# .copy()\n",
    "# to make a copy in python we have a .copy() built in function\n",
    "\n",
    "animal={\"goat\":\"4 legs\" , \"hen\":\"2 legs\" ,\"cow\":\"for legs\"}\n",
    "print(animal)\n",
    "newAnimal=animal.copy()\n",
    "newAnimal[\"frog\"]=\"for legs\"\n",
    "print(newAnimal)\n"
   ]
  },
  {
   "cell_type": "code",
   "execution_count": 10,
   "id": "32079a4a",
   "metadata": {},
   "outputs": [
    {
     "name": "stdout",
     "output_type": "stream",
     "text": [
      "dict_keys(['goat', 'hen', 'cow', 'frog'])\n"
     ]
    }
   ],
   "source": [
    "# .keys()   to access keys of the dictionary\n",
    "print(newAnimal.keys()) # key will print on the screen"
   ]
  },
  {
   "cell_type": "code",
   "execution_count": 11,
   "id": "045d8a66",
   "metadata": {},
   "outputs": [
    {
     "name": "stdout",
     "output_type": "stream",
     "text": [
      "dict_items([('goat', '4 legs'), ('hen', '2 legs'), ('cow', 'for legs'), ('frog', 'for legs')])\n"
     ]
    }
   ],
   "source": [
    "# .items()  to access items of the dictionary\n",
    "print(newAnimal.items()) # key will print on the screen"
   ]
  }
 ],
 "metadata": {
  "kernelspec": {
   "display_name": "Python 3",
   "language": "python",
   "name": "python3"
  },
  "language_info": {
   "codemirror_mode": {
    "name": "ipython",
    "version": 3
   },
   "file_extension": ".py",
   "mimetype": "text/x-python",
   "name": "python",
   "nbconvert_exporter": "python",
   "pygments_lexer": "ipython3",
   "version": "3.8.8"
  }
 },
 "nbformat": 4,
 "nbformat_minor": 5
}
