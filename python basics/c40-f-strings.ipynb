{
 "cells": [
  {
   "cell_type": "code",
   "execution_count": 1,
   "id": "0589dda4",
   "metadata": {},
   "outputs": [],
   "source": [
    "# code 40\n",
    "# saeed barcha 23-02-2022\n",
    "# f strings and traditional method of including variables in string in python"
   ]
  },
  {
   "cell_type": "code",
   "execution_count": 2,
   "id": "adc372ce",
   "metadata": {},
   "outputs": [
    {
     "name": "stdout",
     "output_type": "stream",
     "text": [
      "my name is saeed\n"
     ]
    }
   ],
   "source": [
    "# string formatting in python\n",
    "# inserting a variable in side a string to gain its value\n",
    "\n",
    "# string formating\n",
    "a=\"saeed\"\n",
    "age=24\n",
    "# to pass single variable\n",
    "# b=\"my name is %s\"%a    #if we forget to write %with variable this statement will return tuple\n",
    "b=\"my name is %s\" %a#this will return my name is saeed\n",
    "print(b)"
   ]
  },
  {
   "cell_type": "code",
   "execution_count": 3,
   "id": "d64ffc0c",
   "metadata": {},
   "outputs": [
    {
     "name": "stdout",
     "output_type": "stream",
     "text": [
      "my name is saeed and my Age is 24\n"
     ]
    }
   ],
   "source": [
    "# to pass multiple variable\n",
    "c=\"my name is %s and my Age is %s\" %(a, age)#this will return my name is saeed\n",
    "print(c)"
   ]
  },
  {
   "cell_type": "code",
   "execution_count": 4,
   "id": "3156e768",
   "metadata": {},
   "outputs": [
    {
     "name": "stdout",
     "output_type": "stream",
     "text": [
      "my name is saeed barcha. And I am 24 yeras old.\n",
      "my name is 24 barcha. And I am saeed yeras old.\n"
     ]
    }
   ],
   "source": [
    "# through format function\n",
    "# d=\"my name is {0} barcha. And I am {1} yeras old.\"\n",
    "d=\"my name is {} barcha. And I am {} yeras old.\"\n",
    "e=d.format(a,age)\n",
    "print(e)\n",
    "\n",
    "# changing order\n",
    "# d=\"my name is {1} barcha. And I am {0} yeras old.\"\n",
    "f=\"my name is {1} barcha. And I am {0} yeras old.\"# this will print age first and the name\n",
    "g=f.format(a,age)\n",
    "print(g)"
   ]
  },
  {
   "cell_type": "code",
   "execution_count": 7,
   "id": "9f361704",
   "metadata": {},
   "outputs": [
    {
     "name": "stdout",
     "output_type": "stream",
     "text": [
      "my name is saeed barch arahimabadi. And I am 24 years old. I have got 18.0% in udemy exam.\n"
     ]
    }
   ],
   "source": [
    "# f-strings \n",
    "# f means for fast here\n",
    "intro=f\"my name is {a} barch arahimabadi. And I am {age} years old.\"\n",
    "print(intro)\n",
    "\n",
    "intr=f\"my name is {a} barch arahimabadi. And I am {age} years old. I have got {(54/300)*100}% in udemy exam.\"\n",
    "print(intr)"
   ]
  },
  {
   "cell_type": "code",
   "execution_count": 22,
   "id": "8b870d5d",
   "metadata": {},
   "outputs": [
    {
     "name": "stdout",
     "output_type": "stream",
     "text": [
      "Name: Saeed Bar ..cha Roll No: 24\n"
     ]
    }
   ],
   "source": [
    "# f- string eg \n",
    "name=\"Saeed Bar ..cha\" #in python it can take empty spaces given to it. this is not like  html white space concept\n",
    "age=24\n",
    "res=f\"Name: {name} Roll No: {age}\"\n",
    "print(res)"
   ]
  }
 ],
 "metadata": {
  "kernelspec": {
   "display_name": "Python 3",
   "language": "python",
   "name": "python3"
  },
  "language_info": {
   "codemirror_mode": {
    "name": "ipython",
    "version": 3
   },
   "file_extension": ".py",
   "mimetype": "text/x-python",
   "name": "python",
   "nbconvert_exporter": "python",
   "pygments_lexer": "ipython3",
   "version": "3.8.8"
  }
 },
 "nbformat": 4,
 "nbformat_minor": 5
}
