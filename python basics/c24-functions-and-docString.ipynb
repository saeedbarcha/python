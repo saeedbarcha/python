{
 "cells": [
  {
   "cell_type": "code",
   "execution_count": 1,
   "id": "01e23692",
   "metadata": {},
   "outputs": [],
   "source": [
    "# code24\n",
    "# saeed hussain  10/2/2022\n",
    "# function (built-in and external function) in python and docstring"
   ]
  },
  {
   "cell_type": "code",
   "execution_count": 2,
   "id": "d19a4d87",
   "metadata": {},
   "outputs": [
    {
     "name": "stdout",
     "output_type": "stream",
     "text": [
      "sum of a+b is: 13\n"
     ]
    }
   ],
   "source": [
    "# some of the python built-in functions\n",
    "# sum() if built-in function\n",
    "# sum() function only contains iteratable datatype only\n",
    "a=12\n",
    "b=1\n",
    "c=sum((a,b))\n",
    "print(\"sum of a+b is:\",c)"
   ]
  },
  {
   "cell_type": "code",
   "execution_count": 3,
   "id": "7cfb6c1e",
   "metadata": {},
   "outputs": [
    {
     "name": "stdout",
     "output_type": "stream",
     "text": [
      "hello world\n",
      "None\n",
      "hello world\n",
      "hello world\n",
      "hello world\n",
      "hello world\n"
     ]
    }
   ],
   "source": [
    "# user defined functions \n",
    "# def  keyword is used to define a function\n",
    "def func1():\n",
    "    print(\"hello world\")\n",
    "\n",
    "print(func1())\n",
    "# this will print a none it is just because of the return value.\n",
    "# this function returns none.\n",
    "\n",
    "# when ever i need this print statement i will call upon this function\n",
    "func1()\n",
    "func1()\n",
    "func1()\n",
    "func1()"
   ]
  },
  {
   "cell_type": "code",
   "execution_count": 18,
   "id": "51b75720",
   "metadata": {},
   "outputs": [
    {
     "name": "stdout",
     "output_type": "stream",
     "text": [
      "6\n",
      "10\n",
      "20\n"
     ]
    }
   ],
   "source": [
    "# function with default parameters\n",
    "def func(a=2,b=4):\n",
    "    sum=a+b\n",
    "    print(sum)\n",
    "func()\n",
    "\n",
    "# this will overwrit the first one and second one will use as it is\n",
    "a3=func(3,7)\n",
    "# this will bring an error\n",
    "# a10=func(,10)\n",
    "a10=func(10,10)"
   ]
  },
  {
   "cell_type": "code",
   "execution_count": 6,
   "id": "6a9b73c1",
   "metadata": {},
   "outputs": [
    {
     "name": "stdout",
     "output_type": "stream",
     "text": [
      "Enter First number:22\n",
      "Enter 2nd number:23\n",
      "this is the value of aa: 22.5\n"
     ]
    }
   ],
   "source": [
    "# function with parameters taken from user\n",
    "# this funftion takes input from user\n",
    "a=int(input(\"Enter First number:\"))\n",
    "b=int(input(\"Enter 2nd number:\"))\n",
    "\n",
    "def aFunc(a,b):\n",
    "    average=(a+b)/2\n",
    "    return average\n",
    "\n",
    "aFunc(a,b)\n",
    "# when ever i assign  this function to a variable variable will contain the value return by the function\n",
    "aa=aFunc(a,b)\n",
    "print(\"this is the value of aa:\",aa)"
   ]
  },
  {
   "cell_type": "markdown",
   "id": "dbefeca6",
   "metadata": {},
   "source": [
    "## "
   ]
  },
  {
   "cell_type": "code",
   "execution_count": 20,
   "id": "728ca8ae",
   "metadata": {},
   "outputs": [
    {
     "name": "stdout",
     "output_type": "stream",
     "text": [
      " this function  takes two numbers and find its average\n"
     ]
    }
   ],
   "source": [
    "#Docstring helps developer to use the function after reading function's doctstring\n",
    "def myfun():\n",
    "    \"\"\" this function  takes two numbers and find its average\"\"\"\n",
    "    print(\"hello mister\")\n",
    "\n",
    "# to print the docstring of the myfun we need to use this method\n",
    "# myfun.__doc__\n",
    "\n",
    "print(myfun.__doc__)"
   ]
  },
  {
   "cell_type": "code",
   "execution_count": null,
   "id": "9555d97c",
   "metadata": {},
   "outputs": [],
   "source": []
  }
 ],
 "metadata": {
  "kernelspec": {
   "display_name": "Python 3",
   "language": "python",
   "name": "python3"
  },
  "language_info": {
   "codemirror_mode": {
    "name": "ipython",
    "version": 3
   },
   "file_extension": ".py",
   "mimetype": "text/x-python",
   "name": "python",
   "nbconvert_exporter": "python",
   "pygments_lexer": "ipython3",
   "version": "3.8.8"
  }
 },
 "nbformat": 4,
 "nbformat_minor": 5
}
