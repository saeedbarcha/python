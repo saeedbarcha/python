{
 "cells": [
  {
   "cell_type": "code",
   "execution_count": 1,
   "id": "e2d003d5",
   "metadata": {},
   "outputs": [],
   "source": [
    "# code18\n",
    "# saeed hussain  23/01/2022\n",
    "# while and do while loops in python "
   ]
  },
  {
   "cell_type": "code",
   "execution_count": 5,
   "id": "d6b20c78",
   "metadata": {},
   "outputs": [
    {
     "name": "stdout",
     "output_type": "stream",
     "text": [
      "0\n",
      "1\n",
      "2\n",
      "3\n",
      "4\n",
      "5\n",
      "6\n",
      "7\n",
      "8\n",
      "9\n"
     ]
    }
   ],
   "source": [
    "#  i=0\n",
    "# while(i<45):\n",
    "  #  print(i) #this line will make this loop infinate\n",
    "    \n",
    "# to stop this loop\n",
    "i=0\n",
    "while(i<10):\n",
    "    print(i)\n",
    "    i=i+1"
   ]
  },
  {
   "cell_type": "code",
   "execution_count": null,
   "id": "91888a4b",
   "metadata": {},
   "outputs": [],
   "source": []
  }
 ],
 "metadata": {
  "kernelspec": {
   "display_name": "Python 3",
   "language": "python",
   "name": "python3"
  },
  "language_info": {
   "codemirror_mode": {
    "name": "ipython",
    "version": 3
   },
   "file_extension": ".py",
   "mimetype": "text/x-python",
   "name": "python",
   "nbconvert_exporter": "python",
   "pygments_lexer": "ipython3",
   "version": "3.8.8"
  }
 },
 "nbformat": 4,
 "nbformat_minor": 5
}
