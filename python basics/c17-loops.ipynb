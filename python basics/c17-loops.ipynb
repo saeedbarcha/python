{
 "cells": [
  {
   "cell_type": "code",
   "execution_count": 1,
   "id": "b3468ab0",
   "metadata": {},
   "outputs": [],
   "source": [
    "# code17\n",
    "# saeed hussain  23/01/2022\n",
    "# for loops in python "
   ]
  },
  {
   "cell_type": "code",
   "execution_count": 2,
   "id": "96dfcf3d",
   "metadata": {},
   "outputs": [
    {
     "name": "stdout",
     "output_type": "stream",
     "text": [
      "Harry larry carry marie\n"
     ]
    }
   ],
   "source": [
    "#for loop is working in list or dictionary till the items are not end\n",
    "# printing list items \n",
    "list1=[\"Harry\" , \"larry\" , \"carry\" , \"marie\"]\n",
    "print(list1[0] , list1[1] , list1[2] , list1[3] )"
   ]
  },
  {
   "cell_type": "code",
   "execution_count": 3,
   "id": "f4166017",
   "metadata": {},
   "outputs": [
    {
     "name": "stdout",
     "output_type": "stream",
     "text": [
      "Harry\n",
      "larry\n",
      "carry\n",
      "marie\n"
     ]
    }
   ],
   "source": [
    "#same thing with loops  in python\n",
    "for item in list1:\n",
    "    print(item)"
   ]
  },
  {
   "cell_type": "code",
   "execution_count": 6,
   "id": "8cc96eff",
   "metadata": {},
   "outputs": [
    {
     "name": "stdout",
     "output_type": "stream",
     "text": [
      "Harry and lolly is 100 True\n",
      "larry and lolly is 1 True\n",
      "carry and lolly is 33 True\n",
      "marie and lolly is 45 True\n"
     ]
    }
   ],
   "source": [
    "# creating list and accesing its values ucing for loop\n",
    "list2=[[\"Harry\" ,100 , True] , [ \"larry\" , 1,True], [\"carry\", 33 ,True],[\"marie\" , 45, True]]\n",
    "for item, lollypop , ans in list2: #if any single value is missing in the above sub list it will cause4 an error\n",
    "    print(item ,\"and lolly is\", lollypop , ans) #all the sub list should contain equal number of list items"
   ]
  },
  {
   "cell_type": "code",
   "execution_count": null,
   "id": "77a6b81e",
   "metadata": {},
   "outputs": [],
   "source": [
    "# creating dictionart and accessing its values\n",
    "# assigning above list to a dictionary\n",
    "list3=[[\"Harry\" ,100] , [ \"larry\" , 1], [\"carry\", 33],[\"marie\" , 45]]\n",
    "\n",
    "dict1 =dict(list3)\n",
    "\n",
    "for item in dict1: #this will only print keys from the dictionary\n",
    "    print(item)\n",
    "    \n",
    "#     to print keys and values need to use .items() function\n",
    "list4=[[\"Harry\" ,100] , [ \"larry\" , 1], [\"carry\", 33],[\"marie\" , 45]]\n",
    "\n",
    "dict3 = dict (list3)\n",
    "\n",
    "for item, lollypop in dict3.items():\n",
    "    print(item,\" and lollypop\",lollypop)\n",
    "     \n",
    "    \n",
    "    "
   ]
  },
  {
   "cell_type": "code",
   "execution_count": 5,
   "id": "ac467c36",
   "metadata": {},
   "outputs": [
    {
     "name": "stdout",
     "output_type": "stream",
     "text": [
      "32\n",
      "435\n",
      "656\n"
     ]
    }
   ],
   "source": [
    "# to print the elements of the lis which are numbers and greater then 6\n",
    "mylist=[1,2,True,4,32,435,\"saeed\" , 656]\n",
    "for item in mylist:\n",
    "    if str(item).isnumeric() and item>=6:\n",
    "        print(item)"
   ]
  },
  {
   "cell_type": "code",
   "execution_count": null,
   "id": "88739f86",
   "metadata": {},
   "outputs": [],
   "source": []
  }
 ],
 "metadata": {
  "kernelspec": {
   "display_name": "Python 3",
   "language": "python",
   "name": "python3"
  },
  "language_info": {
   "codemirror_mode": {
    "name": "ipython",
    "version": 3
   },
   "file_extension": ".py",
   "mimetype": "text/x-python",
   "name": "python",
   "nbconvert_exporter": "python",
   "pygments_lexer": "ipython3",
   "version": "3.8.8"
  }
 },
 "nbformat": 4,
 "nbformat_minor": 5
}
