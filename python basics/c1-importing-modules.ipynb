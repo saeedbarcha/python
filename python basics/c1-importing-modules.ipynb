{
 "cells": [
  {
   "cell_type": "code",
   "execution_count": null,
   "id": "8f708d3f",
   "metadata": {},
   "outputs": [],
   "source": [
    "# code1\n",
    "# saeed barcha\n",
    "# printing hello world first code"
   ]
  },
  {
   "cell_type": "code",
   "execution_count": 1,
   "id": "4e6bbfd7",
   "metadata": {},
   "outputs": [
    {
     "name": "stdout",
     "output_type": "stream",
     "text": [
      "hello world 6\n"
     ]
    }
   ],
   "source": [
    "print(\"hello world 6\")"
   ]
  },
  {
   "cell_type": "code",
   "execution_count": null,
   "id": "b2383c35",
   "metadata": {},
   "outputs": [],
   "source": []
  }
 ],
 "metadata": {
  "kernelspec": {
   "display_name": "Python 3",
   "language": "python",
   "name": "python3"
  },
  "language_info": {
   "codemirror_mode": {
    "name": "ipython",
    "version": 3
   },
   "file_extension": ".py",
   "mimetype": "text/x-python",
   "name": "python",
   "nbconvert_exporter": "python",
   "pygments_lexer": "ipython3",
   "version": "3.8.8"
  }
 },
 "nbformat": 4,
 "nbformat_minor": 5
}
