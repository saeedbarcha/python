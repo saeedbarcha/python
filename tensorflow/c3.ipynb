{
 "cells": [
  {
   "cell_type": "markdown",
   "id": "6bcf6386",
   "metadata": {},
   "source": [
    "# code=3"
   ]
  },
  {
   "cell_type": "code",
   "execution_count": null,
   "id": "d6f18789",
   "metadata": {},
   "outputs": [],
   "source": [
    "# progrsmming elements of tensorflow\n",
    "# if we want to use tensorflow then we have to make tensors \n",
    "\n",
    "# we have some elements if tensorfolw using these elements we can create a tensor \n",
    "\n",
    "#  constant element : creates a constant tensor from a tensor-like object\n",
    "    #tf.constant()\n",
    "    \n",
    "#  variables element: variables allow us to add new trainable parameters to the graph \n",
    "    #tf.variable()\n",
    "    \n",
    "# placeholder element: placeholders allow us to feed data to a tensorflow model from outside a model\n",
    "    #tf.placeholder()\n",
    "\n",
    "# for Sparse Tensor: Sparse Tensor enalbe efficient storage and processing of tensors that contain a lot of zero values\n",
    "    #tf.SparseTensor()\n",
    "    \n"
   ]
  }
 ],
 "metadata": {
  "kernelspec": {
   "display_name": "Python 3",
   "language": "python",
   "name": "python3"
  },
  "language_info": {
   "codemirror_mode": {
    "name": "ipython",
    "version": 3
   },
   "file_extension": ".py",
   "mimetype": "text/x-python",
   "name": "python",
   "nbconvert_exporter": "python",
   "pygments_lexer": "ipython3",
   "version": "3.8.8"
  }
 },
 "nbformat": 4,
 "nbformat_minor": 5
}
