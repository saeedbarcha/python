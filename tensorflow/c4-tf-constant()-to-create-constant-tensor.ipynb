{
 "cells": [
  {
   "cell_type": "markdown",
   "id": "8c3768a6",
   "metadata": {},
   "source": [
    "# code=4"
   ]
  },
  {
   "cell_type": "code",
   "execution_count": null,
   "id": "c58f698f",
   "metadata": {},
   "outputs": [],
   "source": [
    "# creating constant tensors using tf.constent() function"
   ]
  },
  {
   "cell_type": "code",
   "execution_count": null,
   "id": "1efafc7b",
   "metadata": {},
   "outputs": [],
   "source": [
    "# tensor\n",
    "# a tensor is a mathematical object\n",
    "# tensors are defined as multidimensional array or list\n",
    "# tensor are identified by the following three parameters\n",
    "# rank: it identifies the number of dimensions of the tensor\n",
    "     # eg: scaler, vector, Matrix\n",
    "# shape: number of rows and columns of tensor\n",
    "# type: data type assigned to tensors elements\n",
    "     # eg:integer, float, string, boolean\n",
    "    \n",
    "#scaler, Array or vector which are one dimensional, or matricse, which are two dimentional.\n",
    "# but tensors can be more then three or four of five dimentional.\n",
    "\n",
    "# flow\n",
    "# graphical representation of mathematical operation\n",
    "# evertthing in tensorflow is based on designing a computational graph.\n",
    "\n",
    "# the graph has a network of nodes, with each node operating addition,\n",
    "# multiplication ,or evaliting some multivaria  te equation\n",
    "\n",
    "# the code is written to build the graph, create a session and execute tha graph"
   ]
  },
  {
   "cell_type": "code",
   "execution_count": null,
   "id": "a29c2df4",
   "metadata": {},
   "outputs": [],
   "source": [
    "# progrsmming elements of tensorflow\n",
    "# if we want to use tensorflow then we have to make tensors \n",
    "\n",
    "# we have some elements if tensorfolw using these elements we can create a tensor \n",
    "\n",
    "#  constant element : creates a constant tensor from a tensor-like object\n",
    "    #tf.constant()\n",
    "    \n",
    "#  variables element: variables allow us to add new trainable parameters to the graph \n",
    "    #tf.variable()\n",
    "    \n",
    "# placeholder element: placeholders allow us to feed data to a tensorflow model from outside a model\n",
    "    #tf.placeholder()\n",
    "\n",
    "# for Sparse Tensor: Sparse Tensor enalbe efficient storage and processing of tensors that contain a lot of zero values\n",
    "    #tf.SparseTensor()\n",
    "    \n"
   ]
  },
  {
   "cell_type": "code",
   "execution_count": 1,
   "id": "1dfdfc83",
   "metadata": {},
   "outputs": [],
   "source": [
    "# importing tensorflow\n",
    "import tensorflow as tf"
   ]
  },
  {
   "cell_type": "markdown",
   "id": "7bdc471d",
   "metadata": {},
   "source": [
    "# to check the version of tensorflow"
   ]
  },
  {
   "cell_type": "code",
   "execution_count": 2,
   "id": "f8789c93",
   "metadata": {},
   "outputs": [
    {
     "data": {
      "text/plain": [
       "'2.7.0'"
      ]
     },
     "execution_count": 2,
     "metadata": {},
     "output_type": "execute_result"
    }
   ],
   "source": [
    "tf.__version__"
   ]
  },
  {
   "cell_type": "markdown",
   "id": "df538937",
   "metadata": {},
   "source": [
    "# to check GPU is available or not"
   ]
  },
  {
   "cell_type": "code",
   "execution_count": 3,
   "id": "50510e7f",
   "metadata": {},
   "outputs": [
    {
     "name": "stdout",
     "output_type": "stream",
     "text": [
      "WARNING:tensorflow:From <ipython-input-3-17bb7203622b>:1: is_gpu_available (from tensorflow.python.framework.test_util) is deprecated and will be removed in a future version.\n",
      "Instructions for updating:\n",
      "Use `tf.config.list_physical_devices('GPU')` instead.\n"
     ]
    },
    {
     "data": {
      "text/plain": [
       "False"
      ]
     },
     "execution_count": 3,
     "metadata": {},
     "output_type": "execute_result"
    }
   ],
   "source": [
    "tf.test.is_gpu_available() #so i have no gpu inmy system thats why this will return false"
   ]
  },
  {
   "cell_type": "markdown",
   "id": "566374ae",
   "metadata": {},
   "source": [
    "#  creates a constant tensorflow from a tensor-like object   tf.constant()"
   ]
  },
  {
   "cell_type": "markdown",
   "id": "f05e5d99",
   "metadata": {},
   "source": [
    "#  creating integer constent tensors "
   ]
  },
  {
   "cell_type": "code",
   "execution_count": 7,
   "id": "4a8ad037",
   "metadata": {},
   "outputs": [
    {
     "data": {
      "text/plain": [
       "<tf.Tensor: shape=(), dtype=int32, numpy=10>"
      ]
     },
     "execution_count": 7,
     "metadata": {},
     "output_type": "execute_result"
    }
   ],
   "source": [
    "    # tf.constant()\n",
    "    # Args taken by tf.constant() object:\n",
    "    #   value: A constant value (or list) of output type `dtype`.\n",
    "    #   dtype: The type of the elements of the resulting tensor.\n",
    "    #   shape: Optional dimensions of resulting tensor.\n",
    "    #   name: Optional name for the tensor.\n",
    "\n",
    "# passing value to function\n",
    "tf.constant(10)\n",
    "# print(tf.constant(10))\n",
    "# dtype=int32"
   ]
  },
  {
   "cell_type": "markdown",
   "id": "988a8586",
   "metadata": {},
   "source": [
    "# creating float constant tensors"
   ]
  },
  {
   "cell_type": "code",
   "execution_count": 8,
   "id": "f72de2a2",
   "metadata": {},
   "outputs": [
    {
     "data": {
      "text/plain": [
       "<tf.Tensor: shape=(), dtype=float32, numpy=10.0>"
      ]
     },
     "execution_count": 8,
     "metadata": {},
     "output_type": "execute_result"
    }
   ],
   "source": [
    "tf.constant(10.0)\n",
    "# dtype=float32"
   ]
  },
  {
   "cell_type": "markdown",
   "id": "14e250e6",
   "metadata": {},
   "source": [
    "# creating string constant tensors"
   ]
  },
  {
   "cell_type": "code",
   "execution_count": 9,
   "id": "036415bc",
   "metadata": {},
   "outputs": [
    {
     "data": {
      "text/plain": [
       "<tf.Tensor: shape=(), dtype=string, numpy=b'saeed barcha'>"
      ]
     },
     "execution_count": 9,
     "metadata": {},
     "output_type": "execute_result"
    }
   ],
   "source": [
    "tf.constant(\"saeed barcha\")\n",
    "# dtype=string"
   ]
  },
  {
   "cell_type": "markdown",
   "id": "066ec661",
   "metadata": {},
   "source": [
    "# creating boolean constant tensors"
   ]
  },
  {
   "cell_type": "code",
   "execution_count": 10,
   "id": "2982d8f5",
   "metadata": {},
   "outputs": [
    {
     "data": {
      "text/plain": [
       "<tf.Tensor: shape=(), dtype=bool, numpy=True>"
      ]
     },
     "execution_count": 10,
     "metadata": {},
     "output_type": "execute_result"
    }
   ],
   "source": [
    "tf.constant(True)\n",
    "# dtype=bool "
   ]
  },
  {
   "cell_type": "markdown",
   "id": "a5bb97eb",
   "metadata": {},
   "source": [
    "# assigning numpy value to constant tensor"
   ]
  },
  {
   "cell_type": "code",
   "execution_count": 12,
   "id": "1d315043",
   "metadata": {},
   "outputs": [
    {
     "data": {
      "text/plain": [
       "<tf.Tensor: shape=(6,), dtype=int32, numpy=array([1, 2, 3, 4, 5, 6])>"
      ]
     },
     "execution_count": 12,
     "metadata": {},
     "output_type": "execute_result"
    }
   ],
   "source": [
    "# assigning numpy value to constant tensor\n",
    "\n",
    "import numpy as np\n",
    "\n",
    "np_array=tf.constant(np.array([1,2,3,4,5,6]))\n",
    "np_array\n",
    "# dtype is =int32 \n",
    "# numpy = array   "
   ]
  },
  {
   "cell_type": "markdown",
   "id": "dbf3ffcc",
   "metadata": {},
   "source": [
    "# creating 1D list"
   ]
  },
  {
   "cell_type": "code",
   "execution_count": 13,
   "id": "e4e44733",
   "metadata": {},
   "outputs": [
    {
     "data": {
      "text/plain": [
       "<tf.Tensor: shape=(6,), dtype=int32, numpy=array([1, 2, 3, 4, 5, 6])>"
      ]
     },
     "execution_count": 13,
     "metadata": {},
     "output_type": "execute_result"
    }
   ],
   "source": [
    "np_array=tf.constant([1,2,3,4,5,6]) # assigning list to constant tensor\n",
    "np_array"
   ]
  },
  {
   "cell_type": "markdown",
   "id": "ee04e0ce",
   "metadata": {},
   "source": [
    "# creating 2D list"
   ]
  },
  {
   "cell_type": "code",
   "execution_count": 14,
   "id": "94fcd29e",
   "metadata": {},
   "outputs": [
    {
     "data": {
      "text/plain": [
       "<tf.Tensor: shape=(3, 2), dtype=int32, numpy=\n",
       "array([[1, 2],\n",
       "       [3, 4],\n",
       "       [5, 6]])>"
      ]
     },
     "execution_count": 14,
     "metadata": {},
     "output_type": "execute_result"
    }
   ],
   "source": [
    "np_array=tf.constant([[1,2],[3,4],[5,6]] ) # assigning list of list to constant tensor\n",
    "np_array\n",
    "# now this tensor contains 3 rows and 2 columns"
   ]
  },
  {
   "cell_type": "markdown",
   "id": "4218b98e",
   "metadata": {},
   "source": [
    "# creating 3D list"
   ]
  },
  {
   "cell_type": "code",
   "execution_count": 15,
   "id": "c1b09cea",
   "metadata": {},
   "outputs": [
    {
     "data": {
      "text/plain": [
       "<tf.Tensor: shape=(2, 3, 2), dtype=int32, numpy=\n",
       "array([[[1, 2],\n",
       "        [3, 4],\n",
       "        [5, 6]],\n",
       "\n",
       "       [[1, 2],\n",
       "        [3, 4],\n",
       "        [5, 6]]])>"
      ]
     },
     "execution_count": 15,
     "metadata": {},
     "output_type": "execute_result"
    }
   ],
   "source": [
    "np_array=tf.constant([[[1,2],[3,4],[5,6]],[[1,2],[3,4],[5,6]]] ) # assigning list of list of list to constant tensor\n",
    "np_array\n",
    "# now this tensor contains 3 rows and 2 columns"
   ]
  },
  {
   "cell_type": "markdown",
   "id": "e776faaa",
   "metadata": {},
   "source": [
    "# converting 1D list into 2D array"
   ]
  },
  {
   "cell_type": "code",
   "execution_count": 22,
   "id": "3de4f5fc",
   "metadata": {},
   "outputs": [
    {
     "data": {
      "text/plain": [
       "<tf.Tensor: shape=(2, 3), dtype=int32, numpy=\n",
       "array([[1, 2, 3],\n",
       "       [4, 5, 6]])>"
      ]
     },
     "execution_count": 22,
     "metadata": {},
     "output_type": "execute_result"
    }
   ],
   "source": [
    "#  we have to pass shape argument inside const function\n",
    "# converting to 2D\n",
    "tf_2d_1=tf.constant([1,2,3,4,5,6],shape=(2,3))\n",
    "tf_2d_1\n"
   ]
  },
  {
   "cell_type": "markdown",
   "id": "8af93eb2",
   "metadata": {},
   "source": [
    "# converting 1D list into 3D array"
   ]
  },
  {
   "cell_type": "code",
   "execution_count": 23,
   "id": "a0ffda0a",
   "metadata": {},
   "outputs": [
    {
     "data": {
      "text/plain": [
       "<tf.Tensor: shape=(3, 2, 1), dtype=int32, numpy=\n",
       "array([[[1],\n",
       "        [2]],\n",
       "\n",
       "       [[3],\n",
       "        [4]],\n",
       "\n",
       "       [[5],\n",
       "        [6]]])>"
      ]
     },
     "execution_count": 23,
     "metadata": {},
     "output_type": "execute_result"
    }
   ],
   "source": [
    "# converting to 3D\n",
    "tf_2d_1=tf.constant([1,2,3,4,5,6],shape=(3,2,1))\n",
    "tf_2d_1\n"
   ]
  },
  {
   "cell_type": "markdown",
   "id": "97ae56b6",
   "metadata": {},
   "source": [
    "#  dtype argument changing data type into float"
   ]
  },
  {
   "cell_type": "code",
   "execution_count": 25,
   "id": "2ba863fd",
   "metadata": {},
   "outputs": [
    {
     "name": "stdout",
     "output_type": "stream",
     "text": [
      "tf.Tensor(\n",
      "[[1. 2. 3.]\n",
      " [4. 5. 6.]], shape=(2, 3), dtype=float32)\n"
     ]
    }
   ],
   "source": [
    "tf_2d_1=tf.constant([1,2,3,4,5,6],shape=(2,3) ,dtype=\"float32\")\n",
    "print(tf_2d_1)\n"
   ]
  },
  {
   "cell_type": "markdown",
   "id": "c9a41256",
   "metadata": {},
   "source": [
    "#  dtype argument changing data type into string"
   ]
  },
  {
   "cell_type": "code",
   "execution_count": 32,
   "id": "1420d71b",
   "metadata": {},
   "outputs": [
    {
     "name": "stdout",
     "output_type": "stream",
     "text": [
      "tf.Tensor(\n",
      "[[b'1' b'2' b'3']\n",
      " [b'4' b'5' b'6']], shape=(2, 3), dtype=string)\n"
     ]
    }
   ],
   "source": [
    "tf_2d_1=tf.constant([\"1\",\"2\",\"3\",\"4\",\"5\",\"6\"], shape=(2,3))\n",
    "print(tf_2d_1)\n"
   ]
  },
  {
   "cell_type": "markdown",
   "id": "115ba558",
   "metadata": {},
   "source": [
    "# to find type of tensor"
   ]
  },
  {
   "cell_type": "code",
   "execution_count": 38,
   "id": "c2fb782b",
   "metadata": {},
   "outputs": [
    {
     "data": {
      "text/plain": [
       "tensorflow.python.framework.ops.EagerTensor"
      ]
     },
     "execution_count": 38,
     "metadata": {},
     "output_type": "execute_result"
    }
   ],
   "source": [
    "tf_2d_1=tf.constant([1,2,3,4,5,6])\n",
    "\n",
    "type(tf_2d_1)"
   ]
  },
  {
   "cell_type": "markdown",
   "id": "5357a2b9",
   "metadata": {},
   "source": [
    "# to get exit value contain by a constant tensor"
   ]
  },
  {
   "cell_type": "code",
   "execution_count": 46,
   "id": "e49cb9d3",
   "metadata": {},
   "outputs": [
    {
     "data": {
      "text/plain": [
       "array([1, 2, 3, 4, 5, 6])"
      ]
     },
     "execution_count": 46,
     "metadata": {},
     "output_type": "execute_result"
    }
   ],
   "source": [
    "tf_2d_1.numpy()"
   ]
  },
  {
   "cell_type": "markdown",
   "id": "07f23100",
   "metadata": {},
   "source": [
    "# to get a single vlaue "
   ]
  },
  {
   "cell_type": "code",
   "execution_count": 47,
   "id": "a44185d9",
   "metadata": {},
   "outputs": [
    {
     "data": {
      "text/plain": [
       "2"
      ]
     },
     "execution_count": 47,
     "metadata": {},
     "output_type": "execute_result"
    }
   ],
   "source": [
    "tf_2d_1.numpy()[1]"
   ]
  },
  {
   "cell_type": "markdown",
   "id": "c1eb4f05",
   "metadata": {},
   "source": [
    "# to find datatype of single element at specific index"
   ]
  },
  {
   "cell_type": "code",
   "execution_count": 53,
   "id": "8ac38cd4",
   "metadata": {},
   "outputs": [
    {
     "data": {
      "text/plain": [
       "dtype('int32')"
      ]
     },
     "execution_count": 53,
     "metadata": {},
     "output_type": "execute_result"
    }
   ],
   "source": [
    "# type(tf_2d_1.numpy()[1])\n",
    "tf_2d_1.numpy()[1].dtype # return the datatype of elements of an array"
   ]
  },
  {
   "cell_type": "markdown",
   "id": "e01bb812",
   "metadata": {},
   "source": [
    "# also contains a numpy array which contains different datatype elements"
   ]
  },
  {
   "cell_type": "code",
   "execution_count": 56,
   "id": "122f6487",
   "metadata": {},
   "outputs": [
    {
     "data": {
      "text/plain": [
       "<tf.Tensor: shape=(5,), dtype=string, numpy=array([b'1.23', b'saeed', b'3', b'33', b'True'], dtype=object)>"
      ]
     },
     "execution_count": 56,
     "metadata": {},
     "output_type": "execute_result"
    }
   ],
   "source": [
    "# tf.constant([1.23,\"saeed\",3,33,True]) #false return error\n",
    "\n",
    "tf.constant(np.array([1.23,\"saeed\",3,33,True])) #true\n"
   ]
  },
  {
   "cell_type": "code",
   "execution_count": null,
   "id": "5f735988",
   "metadata": {},
   "outputs": [],
   "source": []
  },
  {
   "cell_type": "code",
   "execution_count": null,
   "id": "96068928",
   "metadata": {},
   "outputs": [],
   "source": []
  }
 ],
 "metadata": {
  "kernelspec": {
   "display_name": "Python 3",
   "language": "python",
   "name": "python3"
  },
  "language_info": {
   "codemirror_mode": {
    "name": "ipython",
    "version": 3
   },
   "file_extension": ".py",
   "mimetype": "text/x-python",
   "name": "python",
   "nbconvert_exporter": "python",
   "pygments_lexer": "ipython3",
   "version": "3.8.8"
  }
 },
 "nbformat": 4,
 "nbformat_minor": 5
}
